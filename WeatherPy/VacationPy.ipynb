{
 "cells": [
  {
   "cell_type": "markdown",
   "metadata": {},
   "source": [
    "# VacationPy\n",
    "---\n",
    "\n",
    "## Starter Code to Import Libraries and Load the Weather and Coordinates Data"
   ]
  },
  {
   "cell_type": "code",
   "execution_count": 1,
   "metadata": {},
   "outputs": [
    {
     "data": {
      "application/javascript": "(function(root) {\n  function now() {\n    return new Date();\n  }\n\n  var force = true;\n  var py_version = '3.3.4'.replace('rc', '-rc.').replace('.dev', '-dev.');\n  var reloading = false;\n  var Bokeh = root.Bokeh;\n\n  if (typeof (root._bokeh_timeout) === \"undefined\" || force) {\n    root._bokeh_timeout = Date.now() + 5000;\n    root._bokeh_failed_load = false;\n  }\n\n  function run_callbacks() {\n    try {\n      root._bokeh_onload_callbacks.forEach(function(callback) {\n        if (callback != null)\n          callback();\n      });\n    } finally {\n      delete root._bokeh_onload_callbacks;\n    }\n    console.debug(\"Bokeh: all callbacks have finished\");\n  }\n\n  function load_libs(css_urls, js_urls, js_modules, js_exports, callback) {\n    if (css_urls == null) css_urls = [];\n    if (js_urls == null) js_urls = [];\n    if (js_modules == null) js_modules = [];\n    if (js_exports == null) js_exports = {};\n\n    root._bokeh_onload_callbacks.push(callback);\n\n    if (root._bokeh_is_loading > 0) {\n      console.debug(\"Bokeh: BokehJS is being loaded, scheduling callback at\", now());\n      return null;\n    }\n    if (js_urls.length === 0 && js_modules.length === 0 && Object.keys(js_exports).length === 0) {\n      run_callbacks();\n      return null;\n    }\n    if (!reloading) {\n      console.debug(\"Bokeh: BokehJS not loaded, scheduling load and callback at\", now());\n    }\n\n    function on_load() {\n      root._bokeh_is_loading--;\n      if (root._bokeh_is_loading === 0) {\n        console.debug(\"Bokeh: all BokehJS libraries/stylesheets loaded\");\n        run_callbacks()\n      }\n    }\n    window._bokeh_on_load = on_load\n\n    function on_error() {\n      console.error(\"failed to load \" + url);\n    }\n\n    var skip = [];\n    if (window.requirejs) {\n      window.requirejs.config({'packages': {}, 'paths': {'jspanel': 'https://cdn.jsdelivr.net/npm/jspanel4@4.12.0/dist/jspanel', 'jspanel-modal': 'https://cdn.jsdelivr.net/npm/jspanel4@4.12.0/dist/extensions/modal/jspanel.modal', 'jspanel-tooltip': 'https://cdn.jsdelivr.net/npm/jspanel4@4.12.0/dist/extensions/tooltip/jspanel.tooltip', 'jspanel-hint': 'https://cdn.jsdelivr.net/npm/jspanel4@4.12.0/dist/extensions/hint/jspanel.hint', 'jspanel-layout': 'https://cdn.jsdelivr.net/npm/jspanel4@4.12.0/dist/extensions/layout/jspanel.layout', 'jspanel-contextmenu': 'https://cdn.jsdelivr.net/npm/jspanel4@4.12.0/dist/extensions/contextmenu/jspanel.contextmenu', 'jspanel-dock': 'https://cdn.jsdelivr.net/npm/jspanel4@4.12.0/dist/extensions/dock/jspanel.dock', 'gridstack': 'https://cdn.jsdelivr.net/npm/gridstack@7.2.3/dist/gridstack-all', 'notyf': 'https://cdn.jsdelivr.net/npm/notyf@3/notyf.min'}, 'shim': {'jspanel': {'exports': 'jsPanel'}, 'gridstack': {'exports': 'GridStack'}}});\n      require([\"jspanel\"], function(jsPanel) {\n\twindow.jsPanel = jsPanel\n\ton_load()\n      })\n      require([\"jspanel-modal\"], function() {\n\ton_load()\n      })\n      require([\"jspanel-tooltip\"], function() {\n\ton_load()\n      })\n      require([\"jspanel-hint\"], function() {\n\ton_load()\n      })\n      require([\"jspanel-layout\"], function() {\n\ton_load()\n      })\n      require([\"jspanel-contextmenu\"], function() {\n\ton_load()\n      })\n      require([\"jspanel-dock\"], function() {\n\ton_load()\n      })\n      require([\"gridstack\"], function(GridStack) {\n\twindow.GridStack = GridStack\n\ton_load()\n      })\n      require([\"notyf\"], function() {\n\ton_load()\n      })\n      root._bokeh_is_loading = css_urls.length + 9;\n    } else {\n      root._bokeh_is_loading = css_urls.length + js_urls.length + js_modules.length + Object.keys(js_exports).length;\n    }\n\n    var existing_stylesheets = []\n    var links = document.getElementsByTagName('link')\n    for (var i = 0; i < links.length; i++) {\n      var link = links[i]\n      if (link.href != null) {\n\texisting_stylesheets.push(link.href)\n      }\n    }\n    for (var i = 0; i < css_urls.length; i++) {\n      var url = css_urls[i];\n      if (existing_stylesheets.indexOf(url) !== -1) {\n\ton_load()\n\tcontinue;\n      }\n      const element = document.createElement(\"link\");\n      element.onload = on_load;\n      element.onerror = on_error;\n      element.rel = \"stylesheet\";\n      element.type = \"text/css\";\n      element.href = url;\n      console.debug(\"Bokeh: injecting link tag for BokehJS stylesheet: \", url);\n      document.body.appendChild(element);\n    }    if (((window['jsPanel'] !== undefined) && (!(window['jsPanel'] instanceof HTMLElement))) || window.requirejs) {\n      var urls = ['https://cdn.holoviz.org/panel/1.3.8/dist/bundled/floatpanel/jspanel4@4.12.0/dist/jspanel.js', 'https://cdn.holoviz.org/panel/1.3.8/dist/bundled/floatpanel/jspanel4@4.12.0/dist/extensions/modal/jspanel.modal.js', 'https://cdn.holoviz.org/panel/1.3.8/dist/bundled/floatpanel/jspanel4@4.12.0/dist/extensions/tooltip/jspanel.tooltip.js', 'https://cdn.holoviz.org/panel/1.3.8/dist/bundled/floatpanel/jspanel4@4.12.0/dist/extensions/hint/jspanel.hint.js', 'https://cdn.holoviz.org/panel/1.3.8/dist/bundled/floatpanel/jspanel4@4.12.0/dist/extensions/layout/jspanel.layout.js', 'https://cdn.holoviz.org/panel/1.3.8/dist/bundled/floatpanel/jspanel4@4.12.0/dist/extensions/contextmenu/jspanel.contextmenu.js', 'https://cdn.holoviz.org/panel/1.3.8/dist/bundled/floatpanel/jspanel4@4.12.0/dist/extensions/dock/jspanel.dock.js'];\n      for (var i = 0; i < urls.length; i++) {\n        skip.push(urls[i])\n      }\n    }    if (((window['GridStack'] !== undefined) && (!(window['GridStack'] instanceof HTMLElement))) || window.requirejs) {\n      var urls = ['https://cdn.holoviz.org/panel/1.3.8/dist/bundled/gridstack/gridstack@7.2.3/dist/gridstack-all.js'];\n      for (var i = 0; i < urls.length; i++) {\n        skip.push(urls[i])\n      }\n    }    if (((window['Notyf'] !== undefined) && (!(window['Notyf'] instanceof HTMLElement))) || window.requirejs) {\n      var urls = ['https://cdn.holoviz.org/panel/1.3.8/dist/bundled/notificationarea/notyf@3/notyf.min.js'];\n      for (var i = 0; i < urls.length; i++) {\n        skip.push(urls[i])\n      }\n    }    var existing_scripts = []\n    var scripts = document.getElementsByTagName('script')\n    for (var i = 0; i < scripts.length; i++) {\n      var script = scripts[i]\n      if (script.src != null) {\n\texisting_scripts.push(script.src)\n      }\n    }\n    for (var i = 0; i < js_urls.length; i++) {\n      var url = js_urls[i];\n      if (skip.indexOf(url) !== -1 || existing_scripts.indexOf(url) !== -1) {\n\tif (!window.requirejs) {\n\t  on_load();\n\t}\n\tcontinue;\n      }\n      var element = document.createElement('script');\n      element.onload = on_load;\n      element.onerror = on_error;\n      element.async = false;\n      element.src = url;\n      console.debug(\"Bokeh: injecting script tag for BokehJS library: \", url);\n      document.head.appendChild(element);\n    }\n    for (var i = 0; i < js_modules.length; i++) {\n      var url = js_modules[i];\n      if (skip.indexOf(url) !== -1 || existing_scripts.indexOf(url) !== -1) {\n\tif (!window.requirejs) {\n\t  on_load();\n\t}\n\tcontinue;\n      }\n      var element = document.createElement('script');\n      element.onload = on_load;\n      element.onerror = on_error;\n      element.async = false;\n      element.src = url;\n      element.type = \"module\";\n      console.debug(\"Bokeh: injecting script tag for BokehJS library: \", url);\n      document.head.appendChild(element);\n    }\n    for (const name in js_exports) {\n      var url = js_exports[name];\n      if (skip.indexOf(url) >= 0 || root[name] != null) {\n\tif (!window.requirejs) {\n\t  on_load();\n\t}\n\tcontinue;\n      }\n      var element = document.createElement('script');\n      element.onerror = on_error;\n      element.async = false;\n      element.type = \"module\";\n      console.debug(\"Bokeh: injecting script tag for BokehJS library: \", url);\n      element.textContent = `\n      import ${name} from \"${url}\"\n      window.${name} = ${name}\n      window._bokeh_on_load()\n      `\n      document.head.appendChild(element);\n    }\n    if (!js_urls.length && !js_modules.length) {\n      on_load()\n    }\n  };\n\n  function inject_raw_css(css) {\n    const element = document.createElement(\"style\");\n    element.appendChild(document.createTextNode(css));\n    document.body.appendChild(element);\n  }\n\n  var js_urls = [\"https://cdn.bokeh.org/bokeh/release/bokeh-3.3.4.min.js\", \"https://cdn.bokeh.org/bokeh/release/bokeh-gl-3.3.4.min.js\", \"https://cdn.bokeh.org/bokeh/release/bokeh-widgets-3.3.4.min.js\", \"https://cdn.bokeh.org/bokeh/release/bokeh-tables-3.3.4.min.js\", \"https://cdn.holoviz.org/panel/1.3.8/dist/panel.min.js\"];\n  var js_modules = [];\n  var js_exports = {};\n  var css_urls = [];\n  var inline_js = [    function(Bokeh) {\n      Bokeh.set_log_level(\"info\");\n    },\nfunction(Bokeh) {} // ensure no trailing comma for IE\n  ];\n\n  function run_inline_js() {\n    if ((root.Bokeh !== undefined) || (force === true)) {\n      for (var i = 0; i < inline_js.length; i++) {\n\ttry {\n          inline_js[i].call(root, root.Bokeh);\n\t} catch(e) {\n\t  if (!reloading) {\n\t    throw e;\n\t  }\n\t}\n      }\n      // Cache old bokeh versions\n      if (Bokeh != undefined && !reloading) {\n\tvar NewBokeh = root.Bokeh;\n\tif (Bokeh.versions === undefined) {\n\t  Bokeh.versions = new Map();\n\t}\n\tif (NewBokeh.version !== Bokeh.version) {\n\t  Bokeh.versions.set(NewBokeh.version, NewBokeh)\n\t}\n\troot.Bokeh = Bokeh;\n      }} else if (Date.now() < root._bokeh_timeout) {\n      setTimeout(run_inline_js, 100);\n    } else if (!root._bokeh_failed_load) {\n      console.log(\"Bokeh: BokehJS failed to load within specified timeout.\");\n      root._bokeh_failed_load = true;\n    }\n    root._bokeh_is_initializing = false\n  }\n\n  function load_or_wait() {\n    // Implement a backoff loop that tries to ensure we do not load multiple\n    // versions of Bokeh and its dependencies at the same time.\n    // In recent versions we use the root._bokeh_is_initializing flag\n    // to determine whether there is an ongoing attempt to initialize\n    // bokeh, however for backward compatibility we also try to ensure\n    // that we do not start loading a newer (Panel>=1.0 and Bokeh>3) version\n    // before older versions are fully initialized.\n    if (root._bokeh_is_initializing && Date.now() > root._bokeh_timeout) {\n      root._bokeh_is_initializing = false;\n      root._bokeh_onload_callbacks = undefined;\n      console.log(\"Bokeh: BokehJS was loaded multiple times but one version failed to initialize.\");\n      load_or_wait();\n    } else if (root._bokeh_is_initializing || (typeof root._bokeh_is_initializing === \"undefined\" && root._bokeh_onload_callbacks !== undefined)) {\n      setTimeout(load_or_wait, 100);\n    } else {\n      root._bokeh_is_initializing = true\n      root._bokeh_onload_callbacks = []\n      var bokeh_loaded = Bokeh != null && (Bokeh.version === py_version || (Bokeh.versions !== undefined && Bokeh.versions.has(py_version)));\n      if (!reloading && !bokeh_loaded) {\n\troot.Bokeh = undefined;\n      }\n      load_libs(css_urls, js_urls, js_modules, js_exports, function() {\n\tconsole.debug(\"Bokeh: BokehJS plotting callback run at\", now());\n\trun_inline_js();\n      });\n    }\n  }\n  // Give older versions of the autoload script a head-start to ensure\n  // they initialize before we start loading newer version.\n  setTimeout(load_or_wait, 100)\n}(window));",
      "application/vnd.holoviews_load.v0+json": ""
     },
     "metadata": {},
     "output_type": "display_data"
    },
    {
     "data": {
      "application/javascript": "\nif ((window.PyViz === undefined) || (window.PyViz instanceof HTMLElement)) {\n  window.PyViz = {comms: {}, comm_status:{}, kernels:{}, receivers: {}, plot_index: []}\n}\n\n\n    function JupyterCommManager() {\n    }\n\n    JupyterCommManager.prototype.register_target = function(plot_id, comm_id, msg_handler) {\n      if (window.comm_manager || ((window.Jupyter !== undefined) && (Jupyter.notebook.kernel != null))) {\n        var comm_manager = window.comm_manager || Jupyter.notebook.kernel.comm_manager;\n        comm_manager.register_target(comm_id, function(comm) {\n          comm.on_msg(msg_handler);\n        });\n      } else if ((plot_id in window.PyViz.kernels) && (window.PyViz.kernels[plot_id])) {\n        window.PyViz.kernels[plot_id].registerCommTarget(comm_id, function(comm) {\n          comm.onMsg = msg_handler;\n        });\n      } else if (typeof google != 'undefined' && google.colab.kernel != null) {\n        google.colab.kernel.comms.registerTarget(comm_id, (comm) => {\n          var messages = comm.messages[Symbol.asyncIterator]();\n          function processIteratorResult(result) {\n            var message = result.value;\n            console.log(message)\n            var content = {data: message.data, comm_id};\n            var buffers = []\n            for (var buffer of message.buffers || []) {\n              buffers.push(new DataView(buffer))\n            }\n            var metadata = message.metadata || {};\n            var msg = {content, buffers, metadata}\n            msg_handler(msg);\n            return messages.next().then(processIteratorResult);\n          }\n          return messages.next().then(processIteratorResult);\n        })\n      }\n    }\n\n    JupyterCommManager.prototype.get_client_comm = function(plot_id, comm_id, msg_handler) {\n      if (comm_id in window.PyViz.comms) {\n        return window.PyViz.comms[comm_id];\n      } else if (window.comm_manager || ((window.Jupyter !== undefined) && (Jupyter.notebook.kernel != null))) {\n        var comm_manager = window.comm_manager || Jupyter.notebook.kernel.comm_manager;\n        var comm = comm_manager.new_comm(comm_id, {}, {}, {}, comm_id);\n        if (msg_handler) {\n          comm.on_msg(msg_handler);\n        }\n      } else if ((plot_id in window.PyViz.kernels) && (window.PyViz.kernels[plot_id])) {\n        var comm = window.PyViz.kernels[plot_id].connectToComm(comm_id);\n        comm.open();\n        if (msg_handler) {\n          comm.onMsg = msg_handler;\n        }\n      } else if (typeof google != 'undefined' && google.colab.kernel != null) {\n        var comm_promise = google.colab.kernel.comms.open(comm_id)\n        comm_promise.then((comm) => {\n          window.PyViz.comms[comm_id] = comm;\n          if (msg_handler) {\n            var messages = comm.messages[Symbol.asyncIterator]();\n            function processIteratorResult(result) {\n              var message = result.value;\n              var content = {data: message.data};\n              var metadata = message.metadata || {comm_id};\n              var msg = {content, metadata}\n              msg_handler(msg);\n              return messages.next().then(processIteratorResult);\n            }\n            return messages.next().then(processIteratorResult);\n          }\n        }) \n        var sendClosure = (data, metadata, buffers, disposeOnDone) => {\n          return comm_promise.then((comm) => {\n            comm.send(data, metadata, buffers, disposeOnDone);\n          });\n        };\n        var comm = {\n          send: sendClosure\n        };\n      }\n      window.PyViz.comms[comm_id] = comm;\n      return comm;\n    }\n    window.PyViz.comm_manager = new JupyterCommManager();\n    \n\n\nvar JS_MIME_TYPE = 'application/javascript';\nvar HTML_MIME_TYPE = 'text/html';\nvar EXEC_MIME_TYPE = 'application/vnd.holoviews_exec.v0+json';\nvar CLASS_NAME = 'output';\n\n/**\n * Render data to the DOM node\n */\nfunction render(props, node) {\n  var div = document.createElement(\"div\");\n  var script = document.createElement(\"script\");\n  node.appendChild(div);\n  node.appendChild(script);\n}\n\n/**\n * Handle when a new output is added\n */\nfunction handle_add_output(event, handle) {\n  var output_area = handle.output_area;\n  var output = handle.output;\n  if ((output.data == undefined) || (!output.data.hasOwnProperty(EXEC_MIME_TYPE))) {\n    return\n  }\n  var id = output.metadata[EXEC_MIME_TYPE][\"id\"];\n  var toinsert = output_area.element.find(\".\" + CLASS_NAME.split(' ')[0]);\n  if (id !== undefined) {\n    var nchildren = toinsert.length;\n    var html_node = toinsert[nchildren-1].children[0];\n    html_node.innerHTML = output.data[HTML_MIME_TYPE];\n    var scripts = [];\n    var nodelist = html_node.querySelectorAll(\"script\");\n    for (var i in nodelist) {\n      if (nodelist.hasOwnProperty(i)) {\n        scripts.push(nodelist[i])\n      }\n    }\n\n    scripts.forEach( function (oldScript) {\n      var newScript = document.createElement(\"script\");\n      var attrs = [];\n      var nodemap = oldScript.attributes;\n      for (var j in nodemap) {\n        if (nodemap.hasOwnProperty(j)) {\n          attrs.push(nodemap[j])\n        }\n      }\n      attrs.forEach(function(attr) { newScript.setAttribute(attr.name, attr.value) });\n      newScript.appendChild(document.createTextNode(oldScript.innerHTML));\n      oldScript.parentNode.replaceChild(newScript, oldScript);\n    });\n    if (JS_MIME_TYPE in output.data) {\n      toinsert[nchildren-1].children[1].textContent = output.data[JS_MIME_TYPE];\n    }\n    output_area._hv_plot_id = id;\n    if ((window.Bokeh !== undefined) && (id in Bokeh.index)) {\n      window.PyViz.plot_index[id] = Bokeh.index[id];\n    } else {\n      window.PyViz.plot_index[id] = null;\n    }\n  } else if (output.metadata[EXEC_MIME_TYPE][\"server_id\"] !== undefined) {\n    var bk_div = document.createElement(\"div\");\n    bk_div.innerHTML = output.data[HTML_MIME_TYPE];\n    var script_attrs = bk_div.children[0].attributes;\n    for (var i = 0; i < script_attrs.length; i++) {\n      toinsert[toinsert.length - 1].childNodes[1].setAttribute(script_attrs[i].name, script_attrs[i].value);\n    }\n    // store reference to server id on output_area\n    output_area._bokeh_server_id = output.metadata[EXEC_MIME_TYPE][\"server_id\"];\n  }\n}\n\n/**\n * Handle when an output is cleared or removed\n */\nfunction handle_clear_output(event, handle) {\n  var id = handle.cell.output_area._hv_plot_id;\n  var server_id = handle.cell.output_area._bokeh_server_id;\n  if (((id === undefined) || !(id in PyViz.plot_index)) && (server_id !== undefined)) { return; }\n  var comm = window.PyViz.comm_manager.get_client_comm(\"hv-extension-comm\", \"hv-extension-comm\", function () {});\n  if (server_id !== null) {\n    comm.send({event_type: 'server_delete', 'id': server_id});\n    return;\n  } else if (comm !== null) {\n    comm.send({event_type: 'delete', 'id': id});\n  }\n  delete PyViz.plot_index[id];\n  if ((window.Bokeh !== undefined) & (id in window.Bokeh.index)) {\n    var doc = window.Bokeh.index[id].model.document\n    doc.clear();\n    const i = window.Bokeh.documents.indexOf(doc);\n    if (i > -1) {\n      window.Bokeh.documents.splice(i, 1);\n    }\n  }\n}\n\n/**\n * Handle kernel restart event\n */\nfunction handle_kernel_cleanup(event, handle) {\n  delete PyViz.comms[\"hv-extension-comm\"];\n  window.PyViz.plot_index = {}\n}\n\n/**\n * Handle update_display_data messages\n */\nfunction handle_update_output(event, handle) {\n  handle_clear_output(event, {cell: {output_area: handle.output_area}})\n  handle_add_output(event, handle)\n}\n\nfunction register_renderer(events, OutputArea) {\n  function append_mime(data, metadata, element) {\n    // create a DOM node to render to\n    var toinsert = this.create_output_subarea(\n    metadata,\n    CLASS_NAME,\n    EXEC_MIME_TYPE\n    );\n    this.keyboard_manager.register_events(toinsert);\n    // Render to node\n    var props = {data: data, metadata: metadata[EXEC_MIME_TYPE]};\n    render(props, toinsert[0]);\n    element.append(toinsert);\n    return toinsert\n  }\n\n  events.on('output_added.OutputArea', handle_add_output);\n  events.on('output_updated.OutputArea', handle_update_output);\n  events.on('clear_output.CodeCell', handle_clear_output);\n  events.on('delete.Cell', handle_clear_output);\n  events.on('kernel_ready.Kernel', handle_kernel_cleanup);\n\n  OutputArea.prototype.register_mime_type(EXEC_MIME_TYPE, append_mime, {\n    safe: true,\n    index: 0\n  });\n}\n\nif (window.Jupyter !== undefined) {\n  try {\n    var events = require('base/js/events');\n    var OutputArea = require('notebook/js/outputarea').OutputArea;\n    if (OutputArea.prototype.mime_types().indexOf(EXEC_MIME_TYPE) == -1) {\n      register_renderer(events, OutputArea);\n    }\n  } catch(err) {\n  }\n}\n",
      "application/vnd.holoviews_load.v0+json": ""
     },
     "metadata": {},
     "output_type": "display_data"
    },
    {
     "data": {
      "text/html": [
       "<style>*[data-root-id],\n",
       "*[data-root-id] > * {\n",
       "  box-sizing: border-box;\n",
       "  font-family: var(--jp-ui-font-family);\n",
       "  font-size: var(--jp-ui-font-size1);\n",
       "  color: var(--vscode-editor-foreground, var(--jp-ui-font-color1));\n",
       "}\n",
       "\n",
       "/* Override VSCode background color */\n",
       ".cell-output-ipywidget-background:has(\n",
       "    > .cell-output-ipywidget-background > .lm-Widget > *[data-root-id]\n",
       "  ),\n",
       ".cell-output-ipywidget-background:has(> .lm-Widget > *[data-root-id]) {\n",
       "  background-color: transparent !important;\n",
       "}\n",
       "</style>"
      ]
     },
     "metadata": {},
     "output_type": "display_data"
    },
    {
     "data": {
      "application/vnd.holoviews_exec.v0+json": "",
      "text/html": [
       "<div id='p1002'>\n",
       "  <div id=\"a300471e-e403-4670-9895-6902e819610f\" data-root-id=\"p1002\" style=\"display: contents;\"></div>\n",
       "</div>\n",
       "<script type=\"application/javascript\">(function(root) {\n",
       "  var docs_json = {\"84a8d749-5ea8-462e-9391-4265a538b725\":{\"version\":\"3.3.4\",\"title\":\"Bokeh Application\",\"roots\":[{\"type\":\"object\",\"name\":\"panel.models.browser.BrowserInfo\",\"id\":\"p1002\"},{\"type\":\"object\",\"name\":\"panel.models.comm_manager.CommManager\",\"id\":\"p1003\",\"attributes\":{\"plot_id\":\"p1002\",\"comm_id\":\"01043bd05ddc42b0be1d5fd4f097594a\",\"client_comm_id\":\"13d8c629b4454bd0952899129afb0f29\"}}],\"defs\":[{\"type\":\"model\",\"name\":\"ReactiveHTML1\"},{\"type\":\"model\",\"name\":\"FlexBox1\",\"properties\":[{\"name\":\"align_content\",\"kind\":\"Any\",\"default\":\"flex-start\"},{\"name\":\"align_items\",\"kind\":\"Any\",\"default\":\"flex-start\"},{\"name\":\"flex_direction\",\"kind\":\"Any\",\"default\":\"row\"},{\"name\":\"flex_wrap\",\"kind\":\"Any\",\"default\":\"wrap\"},{\"name\":\"justify_content\",\"kind\":\"Any\",\"default\":\"flex-start\"}]},{\"type\":\"model\",\"name\":\"FloatPanel1\",\"properties\":[{\"name\":\"config\",\"kind\":\"Any\",\"default\":{\"type\":\"map\"}},{\"name\":\"contained\",\"kind\":\"Any\",\"default\":true},{\"name\":\"position\",\"kind\":\"Any\",\"default\":\"right-top\"},{\"name\":\"offsetx\",\"kind\":\"Any\",\"default\":null},{\"name\":\"offsety\",\"kind\":\"Any\",\"default\":null},{\"name\":\"theme\",\"kind\":\"Any\",\"default\":\"primary\"},{\"name\":\"status\",\"kind\":\"Any\",\"default\":\"normalized\"}]},{\"type\":\"model\",\"name\":\"GridStack1\",\"properties\":[{\"name\":\"mode\",\"kind\":\"Any\",\"default\":\"warn\"},{\"name\":\"ncols\",\"kind\":\"Any\",\"default\":null},{\"name\":\"nrows\",\"kind\":\"Any\",\"default\":null},{\"name\":\"allow_resize\",\"kind\":\"Any\",\"default\":true},{\"name\":\"allow_drag\",\"kind\":\"Any\",\"default\":true},{\"name\":\"state\",\"kind\":\"Any\",\"default\":[]}]},{\"type\":\"model\",\"name\":\"drag1\",\"properties\":[{\"name\":\"slider_width\",\"kind\":\"Any\",\"default\":5},{\"name\":\"slider_color\",\"kind\":\"Any\",\"default\":\"black\"},{\"name\":\"value\",\"kind\":\"Any\",\"default\":50}]},{\"type\":\"model\",\"name\":\"click1\",\"properties\":[{\"name\":\"terminal_output\",\"kind\":\"Any\",\"default\":\"\"},{\"name\":\"debug_name\",\"kind\":\"Any\",\"default\":\"\"},{\"name\":\"clears\",\"kind\":\"Any\",\"default\":0}]},{\"type\":\"model\",\"name\":\"copy_to_clipboard1\",\"properties\":[{\"name\":\"fill\",\"kind\":\"Any\",\"default\":\"none\"},{\"name\":\"value\",\"kind\":\"Any\",\"default\":null}]},{\"type\":\"model\",\"name\":\"FastWrapper1\",\"properties\":[{\"name\":\"object\",\"kind\":\"Any\",\"default\":null},{\"name\":\"style\",\"kind\":\"Any\",\"default\":null}]},{\"type\":\"model\",\"name\":\"NotificationAreaBase1\",\"properties\":[{\"name\":\"js_events\",\"kind\":\"Any\",\"default\":{\"type\":\"map\"}},{\"name\":\"position\",\"kind\":\"Any\",\"default\":\"bottom-right\"},{\"name\":\"_clear\",\"kind\":\"Any\",\"default\":0}]},{\"type\":\"model\",\"name\":\"NotificationArea1\",\"properties\":[{\"name\":\"js_events\",\"kind\":\"Any\",\"default\":{\"type\":\"map\"}},{\"name\":\"notifications\",\"kind\":\"Any\",\"default\":[]},{\"name\":\"position\",\"kind\":\"Any\",\"default\":\"bottom-right\"},{\"name\":\"_clear\",\"kind\":\"Any\",\"default\":0},{\"name\":\"types\",\"kind\":\"Any\",\"default\":[{\"type\":\"map\",\"entries\":[[\"type\",\"warning\"],[\"background\",\"#ffc107\"],[\"icon\",{\"type\":\"map\",\"entries\":[[\"className\",\"fas fa-exclamation-triangle\"],[\"tagName\",\"i\"],[\"color\",\"white\"]]}]]},{\"type\":\"map\",\"entries\":[[\"type\",\"info\"],[\"background\",\"#007bff\"],[\"icon\",{\"type\":\"map\",\"entries\":[[\"className\",\"fas fa-info-circle\"],[\"tagName\",\"i\"],[\"color\",\"white\"]]}]]}]}]},{\"type\":\"model\",\"name\":\"Notification\",\"properties\":[{\"name\":\"background\",\"kind\":\"Any\",\"default\":null},{\"name\":\"duration\",\"kind\":\"Any\",\"default\":3000},{\"name\":\"icon\",\"kind\":\"Any\",\"default\":null},{\"name\":\"message\",\"kind\":\"Any\",\"default\":\"\"},{\"name\":\"notification_type\",\"kind\":\"Any\",\"default\":null},{\"name\":\"_destroyed\",\"kind\":\"Any\",\"default\":false}]},{\"type\":\"model\",\"name\":\"TemplateActions1\",\"properties\":[{\"name\":\"open_modal\",\"kind\":\"Any\",\"default\":0},{\"name\":\"close_modal\",\"kind\":\"Any\",\"default\":0}]},{\"type\":\"model\",\"name\":\"BootstrapTemplateActions1\",\"properties\":[{\"name\":\"open_modal\",\"kind\":\"Any\",\"default\":0},{\"name\":\"close_modal\",\"kind\":\"Any\",\"default\":0}]},{\"type\":\"model\",\"name\":\"MaterialTemplateActions1\",\"properties\":[{\"name\":\"open_modal\",\"kind\":\"Any\",\"default\":0},{\"name\":\"close_modal\",\"kind\":\"Any\",\"default\":0}]}]}};\n",
       "  var render_items = [{\"docid\":\"84a8d749-5ea8-462e-9391-4265a538b725\",\"roots\":{\"p1002\":\"a300471e-e403-4670-9895-6902e819610f\"},\"root_ids\":[\"p1002\"]}];\n",
       "  var docs = Object.values(docs_json)\n",
       "  if (!docs) {\n",
       "    return\n",
       "  }\n",
       "  const py_version = docs[0].version.replace('rc', '-rc.').replace('.dev', '-dev.')\n",
       "  function embed_document(root) {\n",
       "    var Bokeh = get_bokeh(root)\n",
       "    Bokeh.embed.embed_items_notebook(docs_json, render_items);\n",
       "    for (const render_item of render_items) {\n",
       "      for (const root_id of render_item.root_ids) {\n",
       "\tconst id_el = document.getElementById(root_id)\n",
       "\tif (id_el.children.length && (id_el.children[0].className === 'bk-root')) {\n",
       "\t  const root_el = id_el.children[0]\n",
       "\t  root_el.id = root_el.id + '-rendered'\n",
       "\t}\n",
       "      }\n",
       "    }\n",
       "  }\n",
       "  function get_bokeh(root) {\n",
       "    if (root.Bokeh === undefined) {\n",
       "      return null\n",
       "    } else if (root.Bokeh.version !== py_version) {\n",
       "      if (root.Bokeh.versions === undefined || !root.Bokeh.versions.has(py_version)) {\n",
       "\treturn null\n",
       "      }\n",
       "      return root.Bokeh.versions.get(py_version);\n",
       "    } else if (root.Bokeh.version === py_version) {\n",
       "      return root.Bokeh\n",
       "    }\n",
       "    return null\n",
       "  }\n",
       "  function is_loaded(root) {\n",
       "    var Bokeh = get_bokeh(root)\n",
       "    return (Bokeh != null && Bokeh.Panel !== undefined)\n",
       "  }\n",
       "  if (is_loaded(root)) {\n",
       "    embed_document(root);\n",
       "  } else {\n",
       "    var attempts = 0;\n",
       "    var timer = setInterval(function(root) {\n",
       "      if (is_loaded(root)) {\n",
       "        clearInterval(timer);\n",
       "        embed_document(root);\n",
       "      } else if (document.readyState == \"complete\") {\n",
       "        attempts++;\n",
       "        if (attempts > 200) {\n",
       "          clearInterval(timer);\n",
       "\t  var Bokeh = get_bokeh(root)\n",
       "\t  if (Bokeh == null || Bokeh.Panel == null) {\n",
       "            console.warn(\"Panel: ERROR: Unable to run Panel code because Bokeh or Panel library is missing\");\n",
       "\t  } else {\n",
       "\t    console.warn(\"Panel: WARNING: Attempting to render but not all required libraries could be resolved.\")\n",
       "\t    embed_document(root)\n",
       "\t  }\n",
       "        }\n",
       "      }\n",
       "    }, 25, root)\n",
       "  }\n",
       "})(window);</script>"
      ]
     },
     "metadata": {
      "application/vnd.holoviews_exec.v0+json": {
       "id": "p1002"
      }
     },
     "output_type": "display_data"
    }
   ],
   "source": [
    "# Dependencies and Setup\n",
    "import hvplot.pandas\n",
    "import pandas as pd\n",
    "import requests\n",
    "\n",
    "\n",
    "# Import API key\n",
    "from api_keys import geoapify_key"
   ]
  },
  {
   "cell_type": "code",
   "execution_count": 2,
   "metadata": {},
   "outputs": [
    {
     "data": {
      "text/html": [
       "<div>\n",
       "<style scoped>\n",
       "    .dataframe tbody tr th:only-of-type {\n",
       "        vertical-align: middle;\n",
       "    }\n",
       "\n",
       "    .dataframe tbody tr th {\n",
       "        vertical-align: top;\n",
       "    }\n",
       "\n",
       "    .dataframe thead th {\n",
       "        text-align: right;\n",
       "    }\n",
       "</style>\n",
       "<table border=\"1\" class=\"dataframe\">\n",
       "  <thead>\n",
       "    <tr style=\"text-align: right;\">\n",
       "      <th></th>\n",
       "      <th>City_ID</th>\n",
       "      <th>City</th>\n",
       "      <th>Lat</th>\n",
       "      <th>Lng</th>\n",
       "      <th>Max Temp</th>\n",
       "      <th>Humidity</th>\n",
       "      <th>Cloudiness</th>\n",
       "      <th>Wind Speed</th>\n",
       "      <th>Country</th>\n",
       "      <th>Date</th>\n",
       "    </tr>\n",
       "  </thead>\n",
       "  <tbody>\n",
       "    <tr>\n",
       "      <th>0</th>\n",
       "      <td>0</td>\n",
       "      <td>fortuna</td>\n",
       "      <td>40.5982</td>\n",
       "      <td>-124.1573</td>\n",
       "      <td>18.70</td>\n",
       "      <td>56</td>\n",
       "      <td>0</td>\n",
       "      <td>12.86</td>\n",
       "      <td>US</td>\n",
       "      <td>1706663122</td>\n",
       "    </tr>\n",
       "    <tr>\n",
       "      <th>1</th>\n",
       "      <td>1</td>\n",
       "      <td>bredasdorp</td>\n",
       "      <td>-34.5322</td>\n",
       "      <td>20.0403</td>\n",
       "      <td>18.64</td>\n",
       "      <td>95</td>\n",
       "      <td>58</td>\n",
       "      <td>2.22</td>\n",
       "      <td>ZA</td>\n",
       "      <td>1706663122</td>\n",
       "    </tr>\n",
       "    <tr>\n",
       "      <th>2</th>\n",
       "      <td>2</td>\n",
       "      <td>papatowai</td>\n",
       "      <td>-46.5619</td>\n",
       "      <td>169.4708</td>\n",
       "      <td>18.68</td>\n",
       "      <td>58</td>\n",
       "      <td>100</td>\n",
       "      <td>3.27</td>\n",
       "      <td>NZ</td>\n",
       "      <td>1706663122</td>\n",
       "    </tr>\n",
       "    <tr>\n",
       "      <th>3</th>\n",
       "      <td>3</td>\n",
       "      <td>udachny</td>\n",
       "      <td>66.4167</td>\n",
       "      <td>112.4000</td>\n",
       "      <td>-27.15</td>\n",
       "      <td>100</td>\n",
       "      <td>98</td>\n",
       "      <td>1.04</td>\n",
       "      <td>RU</td>\n",
       "      <td>1706663122</td>\n",
       "    </tr>\n",
       "    <tr>\n",
       "      <th>4</th>\n",
       "      <td>4</td>\n",
       "      <td>saint-philippe</td>\n",
       "      <td>-21.3585</td>\n",
       "      <td>55.7679</td>\n",
       "      <td>25.77</td>\n",
       "      <td>84</td>\n",
       "      <td>47</td>\n",
       "      <td>3.89</td>\n",
       "      <td>RE</td>\n",
       "      <td>1706662892</td>\n",
       "    </tr>\n",
       "  </tbody>\n",
       "</table>\n",
       "</div>"
      ],
      "text/plain": [
       "   City_ID            City      Lat       Lng  Max Temp  Humidity  Cloudiness  \\\n",
       "0        0         fortuna  40.5982 -124.1573     18.70        56           0   \n",
       "1        1      bredasdorp -34.5322   20.0403     18.64        95          58   \n",
       "2        2       papatowai -46.5619  169.4708     18.68        58         100   \n",
       "3        3         udachny  66.4167  112.4000    -27.15       100          98   \n",
       "4        4  saint-philippe -21.3585   55.7679     25.77        84          47   \n",
       "\n",
       "   Wind Speed Country        Date  \n",
       "0       12.86      US  1706663122  \n",
       "1        2.22      ZA  1706663122  \n",
       "2        3.27      NZ  1706663122  \n",
       "3        1.04      RU  1706663122  \n",
       "4        3.89      RE  1706662892  "
      ]
     },
     "execution_count": 2,
     "metadata": {},
     "output_type": "execute_result"
    }
   ],
   "source": [
    "# Load the CSV file created in Part 1 into a Pandas DataFrame\n",
    "city_data_df = pd.read_csv(\"output_data/cities.csv\")\n",
    "\n",
    "# Display sample data\n",
    "city_data_df.head()"
   ]
  },
  {
   "cell_type": "markdown",
   "metadata": {},
   "source": [
    "---\n",
    "\n",
    "### Step 1: Create a map that displays a point for every city in the `city_data_df` DataFrame. The size of the point should be the humidity in each city."
   ]
  },
  {
   "cell_type": "code",
   "execution_count": 32,
   "metadata": {},
   "outputs": [
    {
     "data": {},
     "metadata": {},
     "output_type": "display_data"
    },
    {
     "data": {
      "application/vnd.holoviews_exec.v0+json": "",
      "text/html": [
       "<div id='p1784'>\n",
       "  <div id=\"a3e636b4-d594-41c6-9a59-c09cb6d02363\" data-root-id=\"p1784\" style=\"display: contents;\"></div>\n",
       "</div>\n",
       "<script type=\"application/javascript\">(function(root) {\n",
       "  var docs_json = {\"3c89c475-8e50-4d38-8f9e-13ff825a048a\":{\"version\":\"3.3.4\",\"title\":\"Bokeh Application\",\"roots\":[{\"type\":\"object\",\"name\":\"Row\",\"id\":\"p1784\",\"attributes\":{\"name\":\"Row02798\",\"tags\":[\"embedded\"],\"stylesheets\":[\"\\n:host(.pn-loading.pn-arc):before, .pn-loading.pn-arc:before {\\n  background-image: url(\\\"data:image/svg+xml;base64,PHN2ZyB4bWxucz0iaHR0cDovL3d3dy53My5vcmcvMjAwMC9zdmciIHN0eWxlPSJtYXJnaW46IGF1dG87IGJhY2tncm91bmQ6IG5vbmU7IGRpc3BsYXk6IGJsb2NrOyBzaGFwZS1yZW5kZXJpbmc6IGF1dG87IiB2aWV3Qm94PSIwIDAgMTAwIDEwMCIgcHJlc2VydmVBc3BlY3RSYXRpbz0ieE1pZFlNaWQiPiAgPGNpcmNsZSBjeD0iNTAiIGN5PSI1MCIgZmlsbD0ibm9uZSIgc3Ryb2tlPSIjYzNjM2MzIiBzdHJva2Utd2lkdGg9IjEwIiByPSIzNSIgc3Ryb2tlLWRhc2hhcnJheT0iMTY0LjkzMzYxNDMxMzQ2NDE1IDU2Ljk3Nzg3MTQzNzgyMTM4Ij4gICAgPGFuaW1hdGVUcmFuc2Zvcm0gYXR0cmlidXRlTmFtZT0idHJhbnNmb3JtIiB0eXBlPSJyb3RhdGUiIHJlcGVhdENvdW50PSJpbmRlZmluaXRlIiBkdXI9IjFzIiB2YWx1ZXM9IjAgNTAgNTA7MzYwIDUwIDUwIiBrZXlUaW1lcz0iMDsxIj48L2FuaW1hdGVUcmFuc2Zvcm0+ICA8L2NpcmNsZT48L3N2Zz4=\\\");\\n  background-size: auto calc(min(50%, 400px));\\n}\",{\"type\":\"object\",\"name\":\"ImportedStyleSheet\",\"id\":\"p1787\",\"attributes\":{\"url\":\"https://cdn.holoviz.org/panel/1.3.8/dist/css/loading.css\"}},{\"type\":\"object\",\"name\":\"ImportedStyleSheet\",\"id\":\"p1843\",\"attributes\":{\"url\":\"https://cdn.holoviz.org/panel/1.3.8/dist/css/listpanel.css\"}},{\"type\":\"object\",\"name\":\"ImportedStyleSheet\",\"id\":\"p1785\",\"attributes\":{\"url\":\"https://cdn.holoviz.org/panel/1.3.8/dist/bundled/theme/default.css\"}},{\"type\":\"object\",\"name\":\"ImportedStyleSheet\",\"id\":\"p1786\",\"attributes\":{\"url\":\"https://cdn.holoviz.org/panel/1.3.8/dist/bundled/theme/native.css\"}}],\"min_width\":600,\"margin\":0,\"sizing_mode\":\"stretch_width\",\"align\":\"start\",\"children\":[{\"type\":\"object\",\"name\":\"Spacer\",\"id\":\"p1788\",\"attributes\":{\"name\":\"HSpacer02805\",\"stylesheets\":[\"\\n:host(.pn-loading.pn-arc):before, .pn-loading.pn-arc:before {\\n  background-image: url(\\\"data:image/svg+xml;base64,PHN2ZyB4bWxucz0iaHR0cDovL3d3dy53My5vcmcvMjAwMC9zdmciIHN0eWxlPSJtYXJnaW46IGF1dG87IGJhY2tncm91bmQ6IG5vbmU7IGRpc3BsYXk6IGJsb2NrOyBzaGFwZS1yZW5kZXJpbmc6IGF1dG87IiB2aWV3Qm94PSIwIDAgMTAwIDEwMCIgcHJlc2VydmVBc3BlY3RSYXRpbz0ieE1pZFlNaWQiPiAgPGNpcmNsZSBjeD0iNTAiIGN5PSI1MCIgZmlsbD0ibm9uZSIgc3Ryb2tlPSIjYzNjM2MzIiBzdHJva2Utd2lkdGg9IjEwIiByPSIzNSIgc3Ryb2tlLWRhc2hhcnJheT0iMTY0LjkzMzYxNDMxMzQ2NDE1IDU2Ljk3Nzg3MTQzNzgyMTM4Ij4gICAgPGFuaW1hdGVUcmFuc2Zvcm0gYXR0cmlidXRlTmFtZT0idHJhbnNmb3JtIiB0eXBlPSJyb3RhdGUiIHJlcGVhdENvdW50PSJpbmRlZmluaXRlIiBkdXI9IjFzIiB2YWx1ZXM9IjAgNTAgNTA7MzYwIDUwIDUwIiBrZXlUaW1lcz0iMDsxIj48L2FuaW1hdGVUcmFuc2Zvcm0+ICA8L2NpcmNsZT48L3N2Zz4=\\\");\\n  background-size: auto calc(min(50%, 400px));\\n}\",{\"id\":\"p1787\"},{\"id\":\"p1785\"},{\"id\":\"p1786\"}],\"margin\":0,\"sizing_mode\":\"stretch_width\",\"align\":\"start\"}},{\"type\":\"object\",\"name\":\"Figure\",\"id\":\"p1796\",\"attributes\":{\"height\":400,\"margin\":[5,10],\"sizing_mode\":\"fixed\",\"align\":\"start\",\"x_range\":{\"type\":\"object\",\"name\":\"Range1d\",\"id\":\"p1789\",\"attributes\":{\"tags\":[[[\"Lng\",\"Lng\",null]],[]],\"start\":-200.16256666666666,\"end\":201.08616666666668,\"reset_start\":-200.16256666666666,\"reset_end\":201.08616666666668}},\"y_range\":{\"type\":\"object\",\"name\":\"Range1d\",\"id\":\"p1790\",\"attributes\":{\"tags\":[[[\"Lat\",\"Lat\",null]],{\"type\":\"map\",\"entries\":[[\"invert_yaxis\",false],[\"autorange\",false]]}],\"start\":-68.10186,\"end\":91.52046,\"reset_start\":-68.10186,\"reset_end\":91.52046}},\"x_scale\":{\"type\":\"object\",\"name\":\"LinearScale\",\"id\":\"p1806\"},\"y_scale\":{\"type\":\"object\",\"name\":\"LinearScale\",\"id\":\"p1807\"},\"title\":{\"type\":\"object\",\"name\":\"Title\",\"id\":\"p1799\",\"attributes\":{\"text\":\"City Map with Humidity\",\"text_color\":\"black\",\"text_font_size\":\"12pt\"}},\"renderers\":[{\"type\":\"object\",\"name\":\"GlyphRenderer\",\"id\":\"p1836\",\"attributes\":{\"data_source\":{\"type\":\"object\",\"name\":\"ColumnDataSource\",\"id\":\"p1827\",\"attributes\":{\"selected\":{\"type\":\"object\",\"name\":\"Selection\",\"id\":\"p1828\",\"attributes\":{\"indices\":[],\"line_indices\":[]}},\"selection_policy\":{\"type\":\"object\",\"name\":\"UnionRenderers\",\"id\":\"p1829\"},\"data\":{\"type\":\"map\",\"entries\":[[\"Lng\",{\"type\":\"ndarray\",\"array\":{\"type\":\"bytes\",\"data\":\"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\"},\"shape\":[547],\"dtype\":\"float64\",\"order\":\"little\"}],[\"Lat\",{\"type\":\"ndarray\",\"array\":{\"type\":\"bytes\",\"data\":\"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\"},\"shape\":[547],\"dtype\":\"float64\",\"order\":\"little\"}],[\"Humidity\",{\"type\":\"ndarray\",\"array\":{\"type\":\"bytes\",\"data\":\"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\"},\"shape\":[547],\"dtype\":\"int32\",\"order\":\"little\"}],[\"City\",[\"fortuna\",\"bredasdorp\",\"papatowai\",\"udachny\",\"saint-philippe\",\"edinburgh of the seven seas\",\"nogliki\",\"invercargill\",\"grytviken\",\"qianzhou\",\"puerto ayora\",\"port-aux-francais\",\"kodiak\",\"wailua homesteads\",\"adamstown\",\"homer\",\"kemin\",\"petropavlovsk-kamchatsky\",\"kolosovka\",\"biloela\",\"waitangi\",\"as saffaniyah\",\"parham\",\"comodoro rivadavia\",\"west island\",\"nemuro\",\"mount pearl\",\"lihue\",\"callao\",\"kovdor\",\"khandyga\",\"ushuaia\",\"colonia\",\"bilibino\",\"georgetown\",\"ribeira grande\",\"hasaki\",\"carnarvon\",\"ebon\",\"nambucca\",\"hadibu\",\"kununurra\",\"lebu\",\"enewetak\",\"tura\",\"buka\",\"nizhniy odes\",\"college\",\"hermosillo\",\"albany\",\"tazovsky\",\"afaahiti\",\"namibe\",\"nelson\",\"puerto natales\",\"codrington\",\"male\",\"iqaluit\",\"vadso\",\"paramonga\",\"porto novo\",\"puerto baquerizo moreno\",\"siwa oasis\",\"margaret river\",\"lakatoro\",\"whitehorse\",\"balykshi\",\"gonbad-e kavus\",\"tambovka\",\"stanley\",\"grand-bassam\",\"olonkinbyen\",\"mujiayingzi\",\"lompoc\",\"sidi ifni\",\"kingston\",\"mandalgovi\",\"aasiaat\",\"sao jose da coroa grande\",\"shitanjing\",\"boa vista\",\"novaya igirma\",\"tiksi\",\"pangai\",\"melekeok village\",\"yellowknife\",\"pamanukan\",\"kapa'a\",\"port lincoln\",\"behshahr\",\"taoudenni\",\"ancud\",\"bac lieu\",\"cockburn town\",\"pitimbu\",\"blackmans bay\",\"hamilton\",\"fort bragg\",\"bethel\",\"saldanha\",\"chibougamau\",\"treasure island\",\"manaure\",\"vorkuta\",\"hawaiian paradise park\",\"xining\",\"tindouf\",\"kyzyl-mazhalyk\",\"salym\",\"saipan\",\"shakiso\",\"talodi\",\"palikir - national government center\",\"chauk\",\"isafjordur\",\"salmas\",\"hotan\",\"pisco\",\"cambridge\",\"bubaque\",\"mogocha\",\"alofi\",\"talnakh\",\"uturoa\",\"bodo\",\"punta arenas\",\"karor\",\"klaksvik\",\"nouadhibou\",\"ola\",\"labytnangi\",\"kingscliff\",\"chuguyevka\",\"qaqortoq\",\"keflavik\",\"tot'ma\",\"mana\",\"mhamid\",\"arno\",\"dumbea\",\"the bottom\",\"glace bay\",\"ostersund\",\"chui\",\"sechura\",\"loncoche\",\"mora\",\"jamestown\",\"ciudad mante\",\"alice springs\",\"ciudad del maiz\",\"las tablas\",\"vilyuchinsk\",\"bonthe\",\"newman\",\"zaozersk\",\"tazacorte\",\"oyama\",\"sao joao da barra\",\"kattivakkam\",\"kisangani\",\"turkmenbasy\",\"hami\",\"bir el ater\",\"ovalle\",\"iskateley\",\"thompson\",\"mount gambier\",\"jayapura\",\"nuuk\",\"anadyr\",\"portland\",\"balabac\",\"naze\",\"avarua\",\"yeed\",\"nyurba\",\"howard springs\",\"tandalti\",\"east london\",\"lagunas\",\"okhotsk\",\"arti\",\"patterson\",\"dudinka\",\"george town\",\"loen\",\"sorong\",\"sen monorom\",\"chamical\",\"yerofey pavlovich\",\"gadzhiyevo\",\"utrik\",\"jinhua\",\"coahuayana de hidalgo\",\"pangody\",\"port mathurin\",\"la'ie\",\"greymouth\",\"lazaro cardenas\",\"westport\",\"magnitogorsk\",\"santana\",\"akureyri\",\"alto araguaia\",\"tyukhtet\",\"kamaishi\",\"mitsamiouli\",\"touros\",\"ghormach\",\"sitka\",\"san andres\",\"lata\",\"piritiba\",\"bamboo flat\",\"kavieng\",\"flying fish cove\",\"chojna\",\"zavitinsk\",\"pyinmana\",\"mil'kovo\",\"sangod\",\"melfi\",\"onokhoy\",\"san luis de la loma\",\"mar del plata\",\"samana\",\"allapalli\",\"brokopondo\",\"maymana\",\"romanovo\",\"daru\",\"constantia\",\"galliano\",\"egilsstadir\",\"chabahar\",\"namtsy\",\"goksun\",\"vorgashor\",\"camana\",\"malango\",\"riberalta\",\"praia da vitoria\",\"forster\",\"quatre cocos\",\"remire-montjoly\",\"mount isa\",\"caconda\",\"port moresby\",\"saladan\",\"cadale\",\"ha'il\",\"kodinsk\",\"kota kinabalu\",\"port alfred\",\"mumford\",\"minas de marcona\",\"veraval\",\"muttupet\",\"jacobina\",\"wynyard\",\"ilhabela\",\"gobabis\",\"tonekabon\",\"midvagur\",\"krasyliv\",\"capela do alto\",\"molalla\",\"hermanus\",\"tadjourah\",\"port macquarie\",\"longyearbyen\",\"port elizabeth\",\"san antonio de pale\",\"kralendijk\",\"kalabo\",\"pieksamaki\",\"santa sylvina\",\"labrador city\",\"guantanamo\",\"lefkada\",\"menaka\",\"kill devil hills\",\"benguela\",\"undurkhaan\",\"tejen\",\"lys'va\",\"klyuchi\",\"salalah\",\"beira\",\"cartagena del chaira\",\"bratsk\",\"altay\",\"pyapon\",\"al ghayzah\",\"kapuskasing\",\"karymskoye\",\"ust'-kulom\",\"bengkulu\",\"ilulissat\",\"impfondo\",\"sandakan\",\"bhamo\",\"broken hill\",\"geraldton\",\"turbat\",\"la passe\",\"narra\",\"kutahya\",\"rongelap\",\"sokolow podlaski\",\"kourou\",\"mukalla\",\"kolonia\",\"badger\",\"tucupita\",\"buala\",\"sanya\",\"san patricio\",\"puerto deseado\",\"atafu village\",\"kaitong\",\"santa cruz\",\"lai chau\",\"kohat\",\"fale old settlement\",\"el granada\",\"susuman\",\"aykhal\",\"havre\",\"sandnessjoen\",\"colon\",\"ust-nera\",\"berd\",\"nema\",\"alto lucero\",\"al bardiyah\",\"alta sierra\",\"red chute\",\"saint-pierre\",\"bondo\",\"tangalle\",\"tolanaro\",\"filingue\",\"amboasary\",\"gorgan\",\"narsingi\",\"santa ana\",\"aksu\",\"altinyayla\",\"ihosy\",\"dryden\",\"port douglas\",\"jumri tilaiya\",\"mambajao\",\"nayoro\",\"chibuto\",\"fukuyama\",\"luga\",\"ziro\",\"port blair\",\"howrah\",\"tual\",\"brookings\",\"sosnovo-ozerskoye\",\"nehe\",\"antofagasta\",\"tamanrasset\",\"itamaraca\",\"bucerias\",\"villa gesell\",\"verkhnevilyuysk\",\"selfoss\",\"coquimbo\",\"west wodonga\",\"rujewa\",\"acapulco de juarez\",\"kirensk\",\"nagqu\",\"fort st. john\",\"dalton\",\"sydney\",\"inari\",\"kruisfontein\",\"zouerate\",\"santiago del torno\",\"mettur\",\"dunda\",\"chulakkurgan\",\"shenjiamen\",\"ulety\",\"oranjemund\",\"chonchi\",\"choibalsan\",\"mytilene\",\"pasighat\",\"prainha\",\"ciudad lazaro cardenas\",\"viedma\",\"arkhangel'sk\",\"peterhead\",\"pabrade\",\"khovd\",\"kiunga\",\"corinto\",\"banda aceh\",\"bolhrad\",\"kismayo\",\"kavaratti\",\"ceerigaabo\",\"weno\",\"serres\",\"taulaga\",\"kalmunai\",\"bastrop\",\"inhambane\",\"wickenburg\",\"cheongsong gun\",\"changuinola\",\"nova sintra\",\"kindu\",\"marat\",\"camocim\",\"margate\",\"lido adriano\",\"paka\",\"san pedro\",\"arraial do cabo\",\"santo antonio do ica\",\"luganville\",\"xinzhi\",\"leer\",\"unai\",\"freetown\",\"xishan\",\"okha\",\"kharabali\",\"island harbour\",\"kuusamo\",\"vila velha\",\"lensk\",\"thayetmyo\",\"nar'yan-mar\",\"kaa-khem\",\"palmas\",\"kemijarvi\",\"hithadhoo\",\"gobindpur\",\"huaicheng\",\"axim\",\"laxey\",\"acarau\",\"chipinge\",\"inarajan village\",\"santa ana de yacuma\",\"frontera\",\"larkird\",\"holualoa\",\"vilyuysk\",\"katima mulilo\",\"mugia\",\"igra\",\"darwin\",\"katsuura\",\"qamdo\",\"farim\",\"calama\",\"tocopilla\",\"murun-kuren\",\"hastings\",\"lamu\",\"nuku'alofa\",\"lionel town\",\"al jawf\",\"ilava\",\"xilin hot\",\"kem'\",\"suwannaphum\",\"haiku-pauwela\",\"sainte-anne-des-monts\",\"mahina\",\"lahat\",\"sisimiut\",\"aver-o-mar\",\"luderitz\",\"ratnagiri\",\"mbale\",\"kenai\",\"pruzhany\",\"poronaysk\",\"rangkasbitung\",\"hakui\",\"shalqar\",\"paraty\",\"khenchela\",\"urangan\",\"trairi\",\"shar\",\"lerwick\",\"imperia\",\"rio gallegos\",\"port hedland\",\"puan\",\"kone\",\"aripuana\",\"alaghsas\",\"kostyantynivka\",\"rabo de peixe\",\"sao vicente\",\"city of balikpapan\",\"colchani\",\"mareeba\",\"ati\",\"chadan\",\"sabang\",\"camas\",\"ulsteinvik\",\"dunedin\",\"tofol\",\"shache\",\"porbandar\",\"plettenberg bay\",\"kehychivka\",\"gillette\",\"karrapur\",\"levuka\",\"dzhangala\",\"wynne\",\"mtwara\",\"kintinku\",\"pangkalpinang\",\"shihezi\",\"cole harbour\",\"fujin\",\"altamont\",\"el bauga\",\"guerrero negro\",\"tiebo\",\"shulan\",\"farafangana\",\"zhaotong\",\"bardai\",\"saint-joseph\",\"kayangel\",\"yorosso\",\"serdar\",\"ta`u\"]],[\"size\",{\"type\":\"ndarray\",\"array\":{\"type\":\"bytes\",\"data\":\"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\"},\"shape\":[547],\"dtype\":\"float64\",\"order\":\"little\"}]]}}},\"view\":{\"type\":\"object\",\"name\":\"CDSView\",\"id\":\"p1837\",\"attributes\":{\"filter\":{\"type\":\"object\",\"name\":\"AllIndices\",\"id\":\"p1838\"}}},\"glyph\":{\"type\":\"object\",\"name\":\"Scatter\",\"id\":\"p1833\",\"attributes\":{\"tags\":[\"apply_ranges\"],\"x\":{\"type\":\"field\",\"field\":\"Lng\"},\"y\":{\"type\":\"field\",\"field\":\"Lat\"},\"size\":{\"type\":\"field\",\"field\":\"size\"},\"line_color\":{\"type\":\"value\",\"value\":\"blue\"},\"fill_color\":{\"type\":\"value\",\"value\":\"blue\"},\"hatch_color\":{\"type\":\"value\",\"value\":\"blue\"}}},\"selection_glyph\":{\"type\":\"object\",\"name\":\"Scatter\",\"id\":\"p1839\",\"attributes\":{\"tags\":[\"apply_ranges\"],\"x\":{\"type\":\"field\",\"field\":\"Lng\"},\"y\":{\"type\":\"field\",\"field\":\"Lat\"},\"size\":{\"type\":\"field\",\"field\":\"size\"},\"angle\":{\"type\":\"value\",\"value\":0.0},\"line_color\":{\"type\":\"value\",\"value\":\"blue\"},\"line_alpha\":{\"type\":\"value\",\"value\":1.0},\"line_width\":{\"type\":\"value\",\"value\":1},\"line_join\":{\"type\":\"value\",\"value\":\"bevel\"},\"line_cap\":{\"type\":\"value\",\"value\":\"butt\"},\"line_dash\":{\"type\":\"value\",\"value\":[]},\"line_dash_offset\":{\"type\":\"value\",\"value\":0},\"fill_color\":{\"type\":\"value\",\"value\":\"blue\"},\"fill_alpha\":{\"type\":\"value\",\"value\":1.0},\"hatch_color\":{\"type\":\"value\",\"value\":\"blue\"},\"hatch_alpha\":{\"type\":\"value\",\"value\":1.0},\"hatch_scale\":{\"type\":\"value\",\"value\":12.0},\"hatch_pattern\":{\"type\":\"value\",\"value\":null},\"hatch_weight\":{\"type\":\"value\",\"value\":1.0},\"marker\":{\"type\":\"value\",\"value\":\"circle\"}}},\"nonselection_glyph\":{\"type\":\"object\",\"name\":\"Scatter\",\"id\":\"p1834\",\"attributes\":{\"tags\":[\"apply_ranges\"],\"x\":{\"type\":\"field\",\"field\":\"Lng\"},\"y\":{\"type\":\"field\",\"field\":\"Lat\"},\"size\":{\"type\":\"field\",\"field\":\"size\"},\"line_color\":{\"type\":\"value\",\"value\":\"blue\"},\"line_alpha\":{\"type\":\"value\",\"value\":0.1},\"fill_color\":{\"type\":\"value\",\"value\":\"blue\"},\"fill_alpha\":{\"type\":\"value\",\"value\":0.1},\"hatch_color\":{\"type\":\"value\",\"value\":\"blue\"},\"hatch_alpha\":{\"type\":\"value\",\"value\":0.1}}},\"muted_glyph\":{\"type\":\"object\",\"name\":\"Scatter\",\"id\":\"p1835\",\"attributes\":{\"tags\":[\"apply_ranges\"],\"x\":{\"type\":\"field\",\"field\":\"Lng\"},\"y\":{\"type\":\"field\",\"field\":\"Lat\"},\"size\":{\"type\":\"field\",\"field\":\"size\"},\"line_color\":{\"type\":\"value\",\"value\":\"blue\"},\"line_alpha\":{\"type\":\"value\",\"value\":0.2},\"fill_color\":{\"type\":\"value\",\"value\":\"blue\"},\"fill_alpha\":{\"type\":\"value\",\"value\":0.2},\"hatch_color\":{\"type\":\"value\",\"value\":\"blue\"},\"hatch_alpha\":{\"type\":\"value\",\"value\":0.2}}}}}],\"toolbar\":{\"type\":\"object\",\"name\":\"Toolbar\",\"id\":\"p1805\",\"attributes\":{\"tools\":[{\"type\":\"object\",\"name\":\"WheelZoomTool\",\"id\":\"p1794\",\"attributes\":{\"tags\":[\"hv_created\"],\"renderers\":\"auto\",\"zoom_together\":\"none\"}},{\"type\":\"object\",\"name\":\"HoverTool\",\"id\":\"p1795\",\"attributes\":{\"tags\":[\"hv_created\"],\"renderers\":[{\"id\":\"p1836\"}],\"tooltips\":[[\"Lng\",\"@{Lng}\"],[\"Lat\",\"@{Lat}\"],[\"Humidity\",\"@{Humidity}\"],[\"City\",\"@{City}\"]]}},{\"type\":\"object\",\"name\":\"SaveTool\",\"id\":\"p1818\"},{\"type\":\"object\",\"name\":\"PanTool\",\"id\":\"p1819\"},{\"type\":\"object\",\"name\":\"BoxZoomTool\",\"id\":\"p1820\",\"attributes\":{\"overlay\":{\"type\":\"object\",\"name\":\"BoxAnnotation\",\"id\":\"p1821\",\"attributes\":{\"syncable\":false,\"level\":\"overlay\",\"visible\":false,\"left\":{\"type\":\"number\",\"value\":\"nan\"},\"right\":{\"type\":\"number\",\"value\":\"nan\"},\"top\":{\"type\":\"number\",\"value\":\"nan\"},\"bottom\":{\"type\":\"number\",\"value\":\"nan\"},\"left_units\":\"canvas\",\"right_units\":\"canvas\",\"top_units\":\"canvas\",\"bottom_units\":\"canvas\",\"line_color\":\"black\",\"line_alpha\":1.0,\"line_width\":2,\"line_dash\":[4,4],\"fill_color\":\"lightgrey\",\"fill_alpha\":0.5}}}},{\"type\":\"object\",\"name\":\"ResetTool\",\"id\":\"p1826\"}],\"active_drag\":{\"id\":\"p1819\"},\"active_scroll\":{\"id\":\"p1794\"}}},\"left\":[{\"type\":\"object\",\"name\":\"LinearAxis\",\"id\":\"p1813\",\"attributes\":{\"ticker\":{\"type\":\"object\",\"name\":\"BasicTicker\",\"id\":\"p1814\",\"attributes\":{\"mantissas\":[1,2,5]}},\"formatter\":{\"type\":\"object\",\"name\":\"BasicTickFormatter\",\"id\":\"p1815\"},\"axis_label\":\"Lat\",\"major_label_policy\":{\"type\":\"object\",\"name\":\"AllLabels\",\"id\":\"p1816\"}}}],\"below\":[{\"type\":\"object\",\"name\":\"LinearAxis\",\"id\":\"p1808\",\"attributes\":{\"ticker\":{\"type\":\"object\",\"name\":\"BasicTicker\",\"id\":\"p1809\",\"attributes\":{\"mantissas\":[1,2,5]}},\"formatter\":{\"type\":\"object\",\"name\":\"BasicTickFormatter\",\"id\":\"p1810\"},\"axis_label\":\"Lng\",\"major_label_policy\":{\"type\":\"object\",\"name\":\"AllLabels\",\"id\":\"p1811\"}}}],\"center\":[{\"type\":\"object\",\"name\":\"Grid\",\"id\":\"p1812\",\"attributes\":{\"axis\":{\"id\":\"p1808\"},\"grid_line_color\":null}},{\"type\":\"object\",\"name\":\"Grid\",\"id\":\"p1817\",\"attributes\":{\"dimension\":1,\"axis\":{\"id\":\"p1813\"},\"grid_line_color\":null}}],\"min_border_top\":10,\"min_border_bottom\":10,\"min_border_left\":10,\"min_border_right\":10,\"output_backend\":\"webgl\"}},{\"type\":\"object\",\"name\":\"Spacer\",\"id\":\"p1841\",\"attributes\":{\"name\":\"HSpacer02806\",\"stylesheets\":[\"\\n:host(.pn-loading.pn-arc):before, .pn-loading.pn-arc:before {\\n  background-image: url(\\\"data:image/svg+xml;base64,PHN2ZyB4bWxucz0iaHR0cDovL3d3dy53My5vcmcvMjAwMC9zdmciIHN0eWxlPSJtYXJnaW46IGF1dG87IGJhY2tncm91bmQ6IG5vbmU7IGRpc3BsYXk6IGJsb2NrOyBzaGFwZS1yZW5kZXJpbmc6IGF1dG87IiB2aWV3Qm94PSIwIDAgMTAwIDEwMCIgcHJlc2VydmVBc3BlY3RSYXRpbz0ieE1pZFlNaWQiPiAgPGNpcmNsZSBjeD0iNTAiIGN5PSI1MCIgZmlsbD0ibm9uZSIgc3Ryb2tlPSIjYzNjM2MzIiBzdHJva2Utd2lkdGg9IjEwIiByPSIzNSIgc3Ryb2tlLWRhc2hhcnJheT0iMTY0LjkzMzYxNDMxMzQ2NDE1IDU2Ljk3Nzg3MTQzNzgyMTM4Ij4gICAgPGFuaW1hdGVUcmFuc2Zvcm0gYXR0cmlidXRlTmFtZT0idHJhbnNmb3JtIiB0eXBlPSJyb3RhdGUiIHJlcGVhdENvdW50PSJpbmRlZmluaXRlIiBkdXI9IjFzIiB2YWx1ZXM9IjAgNTAgNTA7MzYwIDUwIDUwIiBrZXlUaW1lcz0iMDsxIj48L2FuaW1hdGVUcmFuc2Zvcm0+ICA8L2NpcmNsZT48L3N2Zz4=\\\");\\n  background-size: auto calc(min(50%, 400px));\\n}\",{\"id\":\"p1787\"},{\"id\":\"p1785\"},{\"id\":\"p1786\"}],\"margin\":0,\"sizing_mode\":\"stretch_width\",\"align\":\"start\"}}]}}],\"defs\":[{\"type\":\"model\",\"name\":\"ReactiveHTML1\"},{\"type\":\"model\",\"name\":\"FlexBox1\",\"properties\":[{\"name\":\"align_content\",\"kind\":\"Any\",\"default\":\"flex-start\"},{\"name\":\"align_items\",\"kind\":\"Any\",\"default\":\"flex-start\"},{\"name\":\"flex_direction\",\"kind\":\"Any\",\"default\":\"row\"},{\"name\":\"flex_wrap\",\"kind\":\"Any\",\"default\":\"wrap\"},{\"name\":\"justify_content\",\"kind\":\"Any\",\"default\":\"flex-start\"}]},{\"type\":\"model\",\"name\":\"FloatPanel1\",\"properties\":[{\"name\":\"config\",\"kind\":\"Any\",\"default\":{\"type\":\"map\"}},{\"name\":\"contained\",\"kind\":\"Any\",\"default\":true},{\"name\":\"position\",\"kind\":\"Any\",\"default\":\"right-top\"},{\"name\":\"offsetx\",\"kind\":\"Any\",\"default\":null},{\"name\":\"offsety\",\"kind\":\"Any\",\"default\":null},{\"name\":\"theme\",\"kind\":\"Any\",\"default\":\"primary\"},{\"name\":\"status\",\"kind\":\"Any\",\"default\":\"normalized\"}]},{\"type\":\"model\",\"name\":\"GridStack1\",\"properties\":[{\"name\":\"mode\",\"kind\":\"Any\",\"default\":\"warn\"},{\"name\":\"ncols\",\"kind\":\"Any\",\"default\":null},{\"name\":\"nrows\",\"kind\":\"Any\",\"default\":null},{\"name\":\"allow_resize\",\"kind\":\"Any\",\"default\":true},{\"name\":\"allow_drag\",\"kind\":\"Any\",\"default\":true},{\"name\":\"state\",\"kind\":\"Any\",\"default\":[]}]},{\"type\":\"model\",\"name\":\"drag1\",\"properties\":[{\"name\":\"slider_width\",\"kind\":\"Any\",\"default\":5},{\"name\":\"slider_color\",\"kind\":\"Any\",\"default\":\"black\"},{\"name\":\"value\",\"kind\":\"Any\",\"default\":50}]},{\"type\":\"model\",\"name\":\"click1\",\"properties\":[{\"name\":\"terminal_output\",\"kind\":\"Any\",\"default\":\"\"},{\"name\":\"debug_name\",\"kind\":\"Any\",\"default\":\"\"},{\"name\":\"clears\",\"kind\":\"Any\",\"default\":0}]},{\"type\":\"model\",\"name\":\"copy_to_clipboard1\",\"properties\":[{\"name\":\"fill\",\"kind\":\"Any\",\"default\":\"none\"},{\"name\":\"value\",\"kind\":\"Any\",\"default\":null}]},{\"type\":\"model\",\"name\":\"FastWrapper1\",\"properties\":[{\"name\":\"object\",\"kind\":\"Any\",\"default\":null},{\"name\":\"style\",\"kind\":\"Any\",\"default\":null}]},{\"type\":\"model\",\"name\":\"NotificationAreaBase1\",\"properties\":[{\"name\":\"js_events\",\"kind\":\"Any\",\"default\":{\"type\":\"map\"}},{\"name\":\"position\",\"kind\":\"Any\",\"default\":\"bottom-right\"},{\"name\":\"_clear\",\"kind\":\"Any\",\"default\":0}]},{\"type\":\"model\",\"name\":\"NotificationArea1\",\"properties\":[{\"name\":\"js_events\",\"kind\":\"Any\",\"default\":{\"type\":\"map\"}},{\"name\":\"notifications\",\"kind\":\"Any\",\"default\":[]},{\"name\":\"position\",\"kind\":\"Any\",\"default\":\"bottom-right\"},{\"name\":\"_clear\",\"kind\":\"Any\",\"default\":0},{\"name\":\"types\",\"kind\":\"Any\",\"default\":[{\"type\":\"map\",\"entries\":[[\"type\",\"warning\"],[\"background\",\"#ffc107\"],[\"icon\",{\"type\":\"map\",\"entries\":[[\"className\",\"fas fa-exclamation-triangle\"],[\"tagName\",\"i\"],[\"color\",\"white\"]]}]]},{\"type\":\"map\",\"entries\":[[\"type\",\"info\"],[\"background\",\"#007bff\"],[\"icon\",{\"type\":\"map\",\"entries\":[[\"className\",\"fas fa-info-circle\"],[\"tagName\",\"i\"],[\"color\",\"white\"]]}]]}]}]},{\"type\":\"model\",\"name\":\"Notification\",\"properties\":[{\"name\":\"background\",\"kind\":\"Any\",\"default\":null},{\"name\":\"duration\",\"kind\":\"Any\",\"default\":3000},{\"name\":\"icon\",\"kind\":\"Any\",\"default\":null},{\"name\":\"message\",\"kind\":\"Any\",\"default\":\"\"},{\"name\":\"notification_type\",\"kind\":\"Any\",\"default\":null},{\"name\":\"_destroyed\",\"kind\":\"Any\",\"default\":false}]},{\"type\":\"model\",\"name\":\"TemplateActions1\",\"properties\":[{\"name\":\"open_modal\",\"kind\":\"Any\",\"default\":0},{\"name\":\"close_modal\",\"kind\":\"Any\",\"default\":0}]},{\"type\":\"model\",\"name\":\"BootstrapTemplateActions1\",\"properties\":[{\"name\":\"open_modal\",\"kind\":\"Any\",\"default\":0},{\"name\":\"close_modal\",\"kind\":\"Any\",\"default\":0}]},{\"type\":\"model\",\"name\":\"MaterialTemplateActions1\",\"properties\":[{\"name\":\"open_modal\",\"kind\":\"Any\",\"default\":0},{\"name\":\"close_modal\",\"kind\":\"Any\",\"default\":0}]}]}};\n",
       "  var render_items = [{\"docid\":\"3c89c475-8e50-4d38-8f9e-13ff825a048a\",\"roots\":{\"p1784\":\"a3e636b4-d594-41c6-9a59-c09cb6d02363\"},\"root_ids\":[\"p1784\"]}];\n",
       "  var docs = Object.values(docs_json)\n",
       "  if (!docs) {\n",
       "    return\n",
       "  }\n",
       "  const py_version = docs[0].version.replace('rc', '-rc.').replace('.dev', '-dev.')\n",
       "  function embed_document(root) {\n",
       "    var Bokeh = get_bokeh(root)\n",
       "    Bokeh.embed.embed_items_notebook(docs_json, render_items);\n",
       "    for (const render_item of render_items) {\n",
       "      for (const root_id of render_item.root_ids) {\n",
       "\tconst id_el = document.getElementById(root_id)\n",
       "\tif (id_el.children.length && (id_el.children[0].className === 'bk-root')) {\n",
       "\t  const root_el = id_el.children[0]\n",
       "\t  root_el.id = root_el.id + '-rendered'\n",
       "\t}\n",
       "      }\n",
       "    }\n",
       "  }\n",
       "  function get_bokeh(root) {\n",
       "    if (root.Bokeh === undefined) {\n",
       "      return null\n",
       "    } else if (root.Bokeh.version !== py_version) {\n",
       "      if (root.Bokeh.versions === undefined || !root.Bokeh.versions.has(py_version)) {\n",
       "\treturn null\n",
       "      }\n",
       "      return root.Bokeh.versions.get(py_version);\n",
       "    } else if (root.Bokeh.version === py_version) {\n",
       "      return root.Bokeh\n",
       "    }\n",
       "    return null\n",
       "  }\n",
       "  function is_loaded(root) {\n",
       "    var Bokeh = get_bokeh(root)\n",
       "    return (Bokeh != null && Bokeh.Panel !== undefined)\n",
       "  }\n",
       "  if (is_loaded(root)) {\n",
       "    embed_document(root);\n",
       "  } else {\n",
       "    var attempts = 0;\n",
       "    var timer = setInterval(function(root) {\n",
       "      if (is_loaded(root)) {\n",
       "        clearInterval(timer);\n",
       "        embed_document(root);\n",
       "      } else if (document.readyState == \"complete\") {\n",
       "        attempts++;\n",
       "        if (attempts > 200) {\n",
       "          clearInterval(timer);\n",
       "\t  var Bokeh = get_bokeh(root)\n",
       "\t  if (Bokeh == null || Bokeh.Panel == null) {\n",
       "            console.warn(\"Panel: ERROR: Unable to run Panel code because Bokeh or Panel library is missing\");\n",
       "\t  } else {\n",
       "\t    console.warn(\"Panel: WARNING: Attempting to render but not all required libraries could be resolved.\")\n",
       "\t    embed_document(root)\n",
       "\t  }\n",
       "        }\n",
       "      }\n",
       "    }, 25, root)\n",
       "  }\n",
       "})(window);</script>"
      ],
      "text/plain": [
       ":Scatter   [Lng]   (Lat,Humidity,City)"
      ]
     },
     "execution_count": 32,
     "metadata": {
      "application/vnd.holoviews_exec.v0+json": {
       "id": "p1784"
      }
     },
     "output_type": "execute_result"
    }
   ],
   "source": [
    "\n",
    "\n",
    "# Configure the map plot\n",
    "map_plot = city_data_df.hvplot.scatter(x='Lng', y='Lat', \n",
    "                                       size='Humidity', color='blue', \n",
    "                                       hover_cols=['City', 'Humidity'], \n",
    "                                       title='City Map with Humidity')\n",
    "\n",
    "# Display the map\n",
    "map_plot.opts(width=600, height=400)  # Set width and height as needed\n",
    "\n",
    "\n"
   ]
  },
  {
   "cell_type": "code",
   "execution_count": 4,
   "metadata": {},
   "outputs": [],
   "source": [
    "%%capture --no-display\n",
    "\n",
    "# Configure the map plot\n",
    "# YOUR CODE HERE\n",
    "\n",
    "# Display the map\n",
    "# YOUR CODE HERE"
   ]
  },
  {
   "cell_type": "markdown",
   "metadata": {},
   "source": [
    "### Step 2: Narrow down the `city_data_df` DataFrame to find your ideal weather condition"
   ]
  },
  {
   "cell_type": "code",
   "execution_count": 30,
   "metadata": {},
   "outputs": [
    {
     "data": {
      "text/plain": [
       "Index(['City_ID', 'City', 'Lat', 'Lng', 'Max Temp', 'Humidity', 'Cloudiness',\n",
       "       'Wind Speed', 'Country', 'Date'],\n",
       "      dtype='object')"
      ]
     },
     "execution_count": 30,
     "metadata": {},
     "output_type": "execute_result"
    }
   ],
   "source": [
    "city_data_df.columns"
   ]
  },
  {
   "cell_type": "code",
   "execution_count": 3,
   "metadata": {},
   "outputs": [
    {
     "data": {
      "text/html": [
       "<div>\n",
       "<style scoped>\n",
       "    .dataframe tbody tr th:only-of-type {\n",
       "        vertical-align: middle;\n",
       "    }\n",
       "\n",
       "    .dataframe tbody tr th {\n",
       "        vertical-align: top;\n",
       "    }\n",
       "\n",
       "    .dataframe thead th {\n",
       "        text-align: right;\n",
       "    }\n",
       "</style>\n",
       "<table border=\"1\" class=\"dataframe\">\n",
       "  <thead>\n",
       "    <tr style=\"text-align: right;\">\n",
       "      <th></th>\n",
       "      <th>City_ID</th>\n",
       "      <th>City</th>\n",
       "      <th>Lat</th>\n",
       "      <th>Lng</th>\n",
       "      <th>Max Temp</th>\n",
       "      <th>Humidity</th>\n",
       "      <th>Cloudiness</th>\n",
       "      <th>Wind Speed</th>\n",
       "      <th>Country</th>\n",
       "      <th>Date</th>\n",
       "    </tr>\n",
       "  </thead>\n",
       "  <tbody>\n",
       "    <tr>\n",
       "      <th>13</th>\n",
       "      <td>13</td>\n",
       "      <td>wailua homesteads</td>\n",
       "      <td>22.0669</td>\n",
       "      <td>-159.3780</td>\n",
       "      <td>23.44</td>\n",
       "      <td>79</td>\n",
       "      <td>75</td>\n",
       "      <td>2.57</td>\n",
       "      <td>US</td>\n",
       "      <td>1706663124</td>\n",
       "    </tr>\n",
       "    <tr>\n",
       "      <th>14</th>\n",
       "      <td>14</td>\n",
       "      <td>adamstown</td>\n",
       "      <td>-25.0660</td>\n",
       "      <td>-130.1015</td>\n",
       "      <td>24.89</td>\n",
       "      <td>76</td>\n",
       "      <td>100</td>\n",
       "      <td>12.26</td>\n",
       "      <td>PN</td>\n",
       "      <td>1706663124</td>\n",
       "    </tr>\n",
       "    <tr>\n",
       "      <th>22</th>\n",
       "      <td>22</td>\n",
       "      <td>parham</td>\n",
       "      <td>17.0968</td>\n",
       "      <td>-61.7705</td>\n",
       "      <td>23.35</td>\n",
       "      <td>73</td>\n",
       "      <td>20</td>\n",
       "      <td>1.03</td>\n",
       "      <td>AG</td>\n",
       "      <td>1706663125</td>\n",
       "    </tr>\n",
       "    <tr>\n",
       "      <th>23</th>\n",
       "      <td>23</td>\n",
       "      <td>comodoro rivadavia</td>\n",
       "      <td>-45.8667</td>\n",
       "      <td>-67.5000</td>\n",
       "      <td>24.92</td>\n",
       "      <td>29</td>\n",
       "      <td>0</td>\n",
       "      <td>12.35</td>\n",
       "      <td>AR</td>\n",
       "      <td>1706663125</td>\n",
       "    </tr>\n",
       "    <tr>\n",
       "      <th>27</th>\n",
       "      <td>27</td>\n",
       "      <td>lihue</td>\n",
       "      <td>21.9789</td>\n",
       "      <td>-159.3672</td>\n",
       "      <td>23.77</td>\n",
       "      <td>79</td>\n",
       "      <td>75</td>\n",
       "      <td>2.57</td>\n",
       "      <td>US</td>\n",
       "      <td>1706663126</td>\n",
       "    </tr>\n",
       "    <tr>\n",
       "      <th>...</th>\n",
       "      <td>...</td>\n",
       "      <td>...</td>\n",
       "      <td>...</td>\n",
       "      <td>...</td>\n",
       "      <td>...</td>\n",
       "      <td>...</td>\n",
       "      <td>...</td>\n",
       "      <td>...</td>\n",
       "      <td>...</td>\n",
       "      <td>...</td>\n",
       "    </tr>\n",
       "    <tr>\n",
       "      <th>521</th>\n",
       "      <td>521</td>\n",
       "      <td>plettenberg bay</td>\n",
       "      <td>-34.0527</td>\n",
       "      <td>23.3716</td>\n",
       "      <td>21.54</td>\n",
       "      <td>77</td>\n",
       "      <td>88</td>\n",
       "      <td>1.93</td>\n",
       "      <td>ZA</td>\n",
       "      <td>1706663194</td>\n",
       "    </tr>\n",
       "    <tr>\n",
       "      <th>529</th>\n",
       "      <td>529</td>\n",
       "      <td>kintinku</td>\n",
       "      <td>-5.8833</td>\n",
       "      <td>35.2333</td>\n",
       "      <td>20.08</td>\n",
       "      <td>96</td>\n",
       "      <td>100</td>\n",
       "      <td>1.57</td>\n",
       "      <td>TZ</td>\n",
       "      <td>1706663195</td>\n",
       "    </tr>\n",
       "    <tr>\n",
       "      <th>537</th>\n",
       "      <td>537</td>\n",
       "      <td>tiebo</td>\n",
       "      <td>14.6333</td>\n",
       "      <td>-16.2333</td>\n",
       "      <td>22.06</td>\n",
       "      <td>40</td>\n",
       "      <td>0</td>\n",
       "      <td>1.03</td>\n",
       "      <td>SN</td>\n",
       "      <td>1706663196</td>\n",
       "    </tr>\n",
       "    <tr>\n",
       "      <th>539</th>\n",
       "      <td>539</td>\n",
       "      <td>farafangana</td>\n",
       "      <td>-22.8167</td>\n",
       "      <td>47.8333</td>\n",
       "      <td>23.17</td>\n",
       "      <td>85</td>\n",
       "      <td>100</td>\n",
       "      <td>3.47</td>\n",
       "      <td>MG</td>\n",
       "      <td>1706663196</td>\n",
       "    </tr>\n",
       "    <tr>\n",
       "      <th>544</th>\n",
       "      <td>544</td>\n",
       "      <td>yorosso</td>\n",
       "      <td>12.3536</td>\n",
       "      <td>-4.7761</td>\n",
       "      <td>22.66</td>\n",
       "      <td>16</td>\n",
       "      <td>97</td>\n",
       "      <td>3.87</td>\n",
       "      <td>ML</td>\n",
       "      <td>1706663197</td>\n",
       "    </tr>\n",
       "  </tbody>\n",
       "</table>\n",
       "<p>92 rows × 10 columns</p>\n",
       "</div>"
      ],
      "text/plain": [
       "     City_ID                City      Lat       Lng  Max Temp  Humidity  \\\n",
       "13        13   wailua homesteads  22.0669 -159.3780     23.44        79   \n",
       "14        14           adamstown -25.0660 -130.1015     24.89        76   \n",
       "22        22              parham  17.0968  -61.7705     23.35        73   \n",
       "23        23  comodoro rivadavia -45.8667  -67.5000     24.92        29   \n",
       "27        27               lihue  21.9789 -159.3672     23.77        79   \n",
       "..       ...                 ...      ...       ...       ...       ...   \n",
       "521      521     plettenberg bay -34.0527   23.3716     21.54        77   \n",
       "529      529            kintinku  -5.8833   35.2333     20.08        96   \n",
       "537      537               tiebo  14.6333  -16.2333     22.06        40   \n",
       "539      539         farafangana -22.8167   47.8333     23.17        85   \n",
       "544      544             yorosso  12.3536   -4.7761     22.66        16   \n",
       "\n",
       "     Cloudiness  Wind Speed Country        Date  \n",
       "13           75        2.57      US  1706663124  \n",
       "14          100       12.26      PN  1706663124  \n",
       "22           20        1.03      AG  1706663125  \n",
       "23            0       12.35      AR  1706663125  \n",
       "27           75        2.57      US  1706663126  \n",
       "..          ...         ...     ...         ...  \n",
       "521          88        1.93      ZA  1706663194  \n",
       "529         100        1.57      TZ  1706663195  \n",
       "537           0        1.03      SN  1706663196  \n",
       "539         100        3.47      MG  1706663196  \n",
       "544          97        3.87      ML  1706663197  \n",
       "\n",
       "[92 rows x 10 columns]"
      ]
     },
     "execution_count": 3,
     "metadata": {},
     "output_type": "execute_result"
    }
   ],
   "source": [
    "# Narrow down cities that fit criteria using loc\n",
    "filtered_cities_df = city_data_df.loc[(city_data_df['Max Temp'] >= 20) & (city_data_df['Max Temp'] <= 25)]\n",
    "\n",
    "# Drop any rows with null values\n",
    "filtered_cities_df = filtered_cities_df.dropna()\n",
    "\n",
    "# Display sample data\n",
    "filtered_cities_df\n",
    "\n"
   ]
  },
  {
   "cell_type": "markdown",
   "metadata": {},
   "source": [
    "### Step 3: Create a new DataFrame called `hotel_df`."
   ]
  },
  {
   "cell_type": "code",
   "execution_count": 4,
   "metadata": {},
   "outputs": [
    {
     "data": {
      "text/html": [
       "<div>\n",
       "<style scoped>\n",
       "    .dataframe tbody tr th:only-of-type {\n",
       "        vertical-align: middle;\n",
       "    }\n",
       "\n",
       "    .dataframe tbody tr th {\n",
       "        vertical-align: top;\n",
       "    }\n",
       "\n",
       "    .dataframe thead th {\n",
       "        text-align: right;\n",
       "    }\n",
       "</style>\n",
       "<table border=\"1\" class=\"dataframe\">\n",
       "  <thead>\n",
       "    <tr style=\"text-align: right;\">\n",
       "      <th></th>\n",
       "      <th>City</th>\n",
       "      <th>Country</th>\n",
       "      <th>Lat</th>\n",
       "      <th>Lng</th>\n",
       "      <th>Humidity</th>\n",
       "      <th>Hotel Name</th>\n",
       "    </tr>\n",
       "  </thead>\n",
       "  <tbody>\n",
       "    <tr>\n",
       "      <th>0</th>\n",
       "      <td>fortuna</td>\n",
       "      <td>US</td>\n",
       "      <td>40.5982</td>\n",
       "      <td>-124.1573</td>\n",
       "      <td>56</td>\n",
       "      <td></td>\n",
       "    </tr>\n",
       "    <tr>\n",
       "      <th>1</th>\n",
       "      <td>bredasdorp</td>\n",
       "      <td>ZA</td>\n",
       "      <td>-34.5322</td>\n",
       "      <td>20.0403</td>\n",
       "      <td>95</td>\n",
       "      <td></td>\n",
       "    </tr>\n",
       "    <tr>\n",
       "      <th>2</th>\n",
       "      <td>papatowai</td>\n",
       "      <td>NZ</td>\n",
       "      <td>-46.5619</td>\n",
       "      <td>169.4708</td>\n",
       "      <td>58</td>\n",
       "      <td></td>\n",
       "    </tr>\n",
       "    <tr>\n",
       "      <th>3</th>\n",
       "      <td>udachny</td>\n",
       "      <td>RU</td>\n",
       "      <td>66.4167</td>\n",
       "      <td>112.4000</td>\n",
       "      <td>100</td>\n",
       "      <td></td>\n",
       "    </tr>\n",
       "    <tr>\n",
       "      <th>4</th>\n",
       "      <td>saint-philippe</td>\n",
       "      <td>RE</td>\n",
       "      <td>-21.3585</td>\n",
       "      <td>55.7679</td>\n",
       "      <td>84</td>\n",
       "      <td></td>\n",
       "    </tr>\n",
       "    <tr>\n",
       "      <th>...</th>\n",
       "      <td>...</td>\n",
       "      <td>...</td>\n",
       "      <td>...</td>\n",
       "      <td>...</td>\n",
       "      <td>...</td>\n",
       "      <td>...</td>\n",
       "    </tr>\n",
       "    <tr>\n",
       "      <th>542</th>\n",
       "      <td>saint-joseph</td>\n",
       "      <td>RE</td>\n",
       "      <td>-21.3667</td>\n",
       "      <td>55.6167</td>\n",
       "      <td>83</td>\n",
       "      <td></td>\n",
       "    </tr>\n",
       "    <tr>\n",
       "      <th>543</th>\n",
       "      <td>kayangel</td>\n",
       "      <td>PW</td>\n",
       "      <td>8.0823</td>\n",
       "      <td>134.7173</td>\n",
       "      <td>83</td>\n",
       "      <td></td>\n",
       "    </tr>\n",
       "    <tr>\n",
       "      <th>544</th>\n",
       "      <td>yorosso</td>\n",
       "      <td>ML</td>\n",
       "      <td>12.3536</td>\n",
       "      <td>-4.7761</td>\n",
       "      <td>16</td>\n",
       "      <td></td>\n",
       "    </tr>\n",
       "    <tr>\n",
       "      <th>545</th>\n",
       "      <td>serdar</td>\n",
       "      <td>TM</td>\n",
       "      <td>38.9764</td>\n",
       "      <td>56.2757</td>\n",
       "      <td>74</td>\n",
       "      <td></td>\n",
       "    </tr>\n",
       "    <tr>\n",
       "      <th>546</th>\n",
       "      <td>ta`u</td>\n",
       "      <td>AS</td>\n",
       "      <td>-14.2336</td>\n",
       "      <td>-169.5144</td>\n",
       "      <td>75</td>\n",
       "      <td></td>\n",
       "    </tr>\n",
       "  </tbody>\n",
       "</table>\n",
       "<p>547 rows × 6 columns</p>\n",
       "</div>"
      ],
      "text/plain": [
       "               City Country      Lat       Lng  Humidity Hotel Name\n",
       "0           fortuna      US  40.5982 -124.1573        56           \n",
       "1        bredasdorp      ZA -34.5322   20.0403        95           \n",
       "2         papatowai      NZ -46.5619  169.4708        58           \n",
       "3           udachny      RU  66.4167  112.4000       100           \n",
       "4    saint-philippe      RE -21.3585   55.7679        84           \n",
       "..              ...     ...      ...       ...       ...        ...\n",
       "542    saint-joseph      RE -21.3667   55.6167        83           \n",
       "543        kayangel      PW   8.0823  134.7173        83           \n",
       "544         yorosso      ML  12.3536   -4.7761        16           \n",
       "545          serdar      TM  38.9764   56.2757        74           \n",
       "546            ta`u      AS -14.2336 -169.5144        75           \n",
       "\n",
       "[547 rows x 6 columns]"
      ]
     },
     "execution_count": 4,
     "metadata": {},
     "output_type": "execute_result"
    }
   ],
   "source": [
    "# Use the Pandas copy function to create DataFrame called hotel_df to store the city, country, coordinates, and humidity\n",
    "hotel_df = city_data_df[['City', 'Country', 'Lat', 'Lng', 'Humidity']].copy()\n",
    "\n",
    "# Add an empty column, \"Hotel Name,\" to the DataFrame\n",
    "hotel_df['Hotel Name'] = ''\n",
    "\n",
    "# Display sample data\n",
    "hotel_df\n"
   ]
  },
  {
   "cell_type": "markdown",
   "metadata": {},
   "source": [
    "### Step 4: For each city, use the Geoapify API to find the first hotel located within 10,000 metres of your coordinates."
   ]
  },
  {
   "cell_type": "code",
   "execution_count": 5,
   "metadata": {},
   "outputs": [
    {
     "name": "stdout",
     "output_type": "stream",
     "text": [
      "Starting hotel search\n",
      "<Response [200]>\n",
      "fortuna - nearest hotel: Comfort Inn & Suites Redwood Country\n",
      "<Response [200]>\n",
      "bredasdorp - nearest hotel: Victoria Hotel\n",
      "<Response [200]>\n",
      "papatowai - nearest hotel: No hotel found\n",
      "<Response [200]>\n",
      "udachny - nearest hotel: Вилюй\n",
      "<Response [200]>\n",
      "saint-philippe - nearest hotel: Le Baril\n",
      "<Response [200]>\n",
      "edinburgh of the seven seas - nearest hotel: No hotel found\n",
      "<Response [200]>\n",
      "nogliki - nearest hotel: Ноглики\n",
      "<Response [200]>\n",
      "invercargill - nearest hotel: The Grand\n",
      "<Response [200]>\n",
      "grytviken - nearest hotel: No hotel found\n",
      "<Response [200]>\n",
      "qianzhou - nearest hotel: JinHuang Hotel\n",
      "<Response [200]>\n",
      "puerto ayora - nearest hotel: Hostal La Mirada De Solitario George\n",
      "<Response [200]>\n",
      "port-aux-francais - nearest hotel: Keravel\n",
      "<Response [200]>\n",
      "kodiak - nearest hotel: Shelikof Lodge\n",
      "<Response [200]>\n",
      "wailua homesteads - nearest hotel: Hilton Garden Inn Kauai Wailua Bay\n",
      "<Response [200]>\n",
      "adamstown - nearest hotel: No hotel found\n",
      "<Response [200]>\n",
      "homer - nearest hotel: Driftwood Inn & Homer Seaside Lodges\n",
      "<Response [200]>\n",
      "kemin - nearest hotel: Кемин\n",
      "<Response [200]>\n",
      "petropavlovsk-kamchatsky - nearest hotel: ООО Постоялый двор\n",
      "<Response [200]>\n",
      "kolosovka - nearest hotel: No hotel found\n",
      "<Response [200]>\n",
      "biloela - nearest hotel: Settlers Hotel Motel\n",
      "<Response [200]>\n",
      "waitangi - nearest hotel: Hotel Chathams\n",
      "<Response [200]>\n",
      "as saffaniyah - nearest hotel: No hotel found\n",
      "<Response [200]>\n",
      "parham - nearest hotel: Oceanic View Exclusive Vacation Cottages\n",
      "<Response [200]>\n",
      "comodoro rivadavia - nearest hotel: No hotel found\n",
      "<Response [200]>\n",
      "west island - nearest hotel: Cocos Village Bungalows\n",
      "<Response [200]>\n",
      "nemuro - nearest hotel: お宿エクハシ\n",
      "<Response [200]>\n",
      "mount pearl - nearest hotel: Sandman Signature St. John's\n",
      "<Response [200]>\n",
      "lihue - nearest hotel: Kauai Palms\n",
      "<Response [200]>\n",
      "callao - nearest hotel: Casa Ronald\n",
      "<Response [200]>\n",
      "kovdor - nearest hotel: Очаг\n",
      "<Response [200]>\n",
      "khandyga - nearest hotel: Апельсин\n",
      "<Response [200]>\n",
      "ushuaia - nearest hotel: Apart Hotel Aires del Beagle\n",
      "<Response [200]>\n",
      "colonia - nearest hotel: Wasserturm Hotel Cologne\n",
      "<Response [200]>\n",
      "bilibino - nearest hotel: No hotel found\n",
      "<Response [200]>\n",
      "georgetown - nearest hotel: Page 63 hostel\n",
      "<Response [200]>\n",
      "ribeira grande - nearest hotel: Hospedaria JSF\n",
      "<Response [200]>\n",
      "hasaki - nearest hotel: 大新旅館\n",
      "<Response [200]>\n",
      "carnarvon - nearest hotel: No hotel found\n",
      "<Response [200]>\n",
      "ebon - nearest hotel: No hotel found\n",
      "<Response [200]>\n",
      "nambucca - nearest hotel: No hotel found\n",
      "<Response [200]>\n",
      "hadibu - nearest hotel: No hotel found\n",
      "<Response [200]>\n",
      "kununurra - nearest hotel: No hotel found\n",
      "<Response [200]>\n",
      "lebu - nearest hotel: No hotel found\n",
      "<Response [200]>\n",
      "enewetak - nearest hotel: No hotel found\n",
      "<Response [200]>\n",
      "tura - nearest hotel: No hotel found\n",
      "<Response [200]>\n",
      "buka - nearest hotel: No hotel found\n",
      "<Response [200]>\n",
      "nizhniy odes - nearest hotel: No hotel found\n",
      "<Response [200]>\n",
      "college - nearest hotel: BEST WESTERN PLUS Pioneer Park Inn\n",
      "<Response [200]>\n",
      "hermosillo - nearest hotel: Lucerna\n",
      "<Response [200]>\n",
      "albany - nearest hotel: No hotel found\n",
      "<Response [200]>\n",
      "tazovsky - nearest hotel: Тазовчанка\n",
      "<Response [200]>\n",
      "afaahiti - nearest hotel: Omati Lodge\n",
      "<Response [200]>\n",
      "namibe - nearest hotel: Hotel Chik Chik Namibe\n",
      "<Response [200]>\n",
      "nelson - nearest hotel: Skylight Villa\n",
      "<Response [200]>\n",
      "puerto natales - nearest hotel: Dorotea Patagonia Hostel\n",
      "<Response [200]>\n",
      "codrington - nearest hotel: No hotel found\n",
      "<Response [200]>\n",
      "male - nearest hotel: Champa Central Hotel\n",
      "<Response [200]>\n",
      "iqaluit - nearest hotel: Frobisher Inn\n",
      "<Response [200]>\n",
      "vadso - nearest hotel: Scandic Vadsø\n",
      "<Response [200]>\n",
      "paramonga - nearest hotel: Hotel Rico\n",
      "<Response [200]>\n",
      "porto novo - nearest hotel: Hôtel 6500 CFA\n",
      "<Response [200]>\n",
      "puerto baquerizo moreno - nearest hotel: Dory's House\n",
      "<Response [200]>\n",
      "siwa oasis - nearest hotel: فندق الكيلانى\n",
      "<Response [200]>\n",
      "margaret river - nearest hotel: Margaret River Hotel\n",
      "<Response [200]>\n",
      "lakatoro - nearest hotel: No hotel found\n",
      "<Response [200]>\n",
      "whitehorse - nearest hotel: Town & Mountain Hotel\n",
      "<Response [200]>\n",
      "balykshi - nearest hotel: Арасан\n",
      "<Response [200]>\n",
      "gonbad-e kavus - nearest hotel: هتل قابوس\n",
      "<Response [200]>\n",
      "tambovka - nearest hotel: No hotel found\n",
      "<Response [200]>\n",
      "stanley - nearest hotel: Hotel 52\n",
      "<Response [200]>\n",
      "grand-bassam - nearest hotel: Hôtel 3G\n",
      "<Response [200]>\n",
      "olonkinbyen - nearest hotel: No hotel found\n",
      "<Response [200]>\n",
      "mujiayingzi - nearest hotel: No hotel found\n",
      "<Response [200]>\n",
      "lompoc - nearest hotel: Embassy Suites by Hilton Lompoc Central Coast\n",
      "<Response [200]>\n",
      "sidi ifni - nearest hotel: Hotel Ére Nouvelle\n",
      "<Response [200]>\n",
      "kingston - nearest hotel: Aphrodite Hotel\n",
      "<Response [200]>\n",
      "mandalgovi - nearest hotel: Б\n",
      "<Response [200]>\n",
      "aasiaat - nearest hotel: SØMA\n",
      "<Response [200]>\n",
      "sao jose da coroa grande - nearest hotel: Hotel do Sol\n",
      "<Response [200]>\n",
      "shitanjing - nearest hotel: No hotel found\n",
      "<Response [200]>\n",
      "boa vista - nearest hotel: Aipana Plaza Hotel\n",
      "<Response [200]>\n",
      "novaya igirma - nearest hotel: Тайга\n",
      "<Response [200]>\n",
      "tiksi - nearest hotel: Арктика\n",
      "<Response [200]>\n",
      "pangai - nearest hotel: Billy's Place\n",
      "<Response [200]>\n",
      "melekeok village - nearest hotel: No hotel found\n",
      "<Response [200]>\n",
      "yellowknife - nearest hotel: No hotel found\n",
      "<Response [200]>\n",
      "pamanukan - nearest hotel: No hotel found\n",
      "<Response [200]>\n",
      "kapa'a - nearest hotel: Pono Kai Resort\n",
      "<Response [200]>\n",
      "port lincoln - nearest hotel: Boston Hotel\n",
      "<Response [200]>\n",
      "behshahr - nearest hotel: هتل اشرف\n",
      "<Response [200]>\n",
      "taoudenni - nearest hotel: No hotel found\n",
      "<Response [200]>\n",
      "ancud - nearest hotel: Cabañas\n",
      "<Response [200]>\n",
      "bac lieu - nearest hotel: Khách sạn Bạc Liêu\n",
      "<Response [200]>\n",
      "cockburn town - nearest hotel: The Salt Raker Inn\n",
      "<Response [200]>\n",
      "pitimbu - nearest hotel: Pousada Brisa Mar\n",
      "<Response [200]>\n",
      "blackmans bay - nearest hotel: Villa Howden\n",
      "<Response [200]>\n",
      "hamilton - nearest hotel: North Vista Manor\n",
      "<Response [200]>\n",
      "fort bragg - nearest hotel: Airborne Inn Lodging\n",
      "<Response [200]>\n",
      "bethel - nearest hotel: Hampton Inn Danbury\n",
      "<Response [200]>\n",
      "saldanha - nearest hotel: Hoedjesbaai\n",
      "<Response [200]>\n",
      "chibougamau - nearest hotel: No hotel found\n",
      "<Response [200]>\n",
      "treasure island - nearest hotel: Thunderbird Beach Resort\n",
      "<Response [200]>\n",
      "manaure - nearest hotel: hotel palaima\n",
      "<Response [200]>\n",
      "vorkuta - nearest hotel: \"Мегаполис\"\n",
      "<Response [200]>\n",
      "hawaiian paradise park - nearest hotel: No hotel found\n",
      "<Response [200]>\n",
      "xining - nearest hotel: Qinghai hotel\n",
      "<Response [200]>\n",
      "tindouf - nearest hotel: محمد بوسبي\n",
      "<Response [200]>\n",
      "kyzyl-mazhalyk - nearest hotel: No hotel found\n",
      "<Response [200]>\n",
      "salym - nearest hotel: Каравани\n",
      "<Response [200]>\n",
      "saipan - nearest hotel: Chalan Kanoa Beach Hotel\n",
      "<Response [200]>\n",
      "shakiso - nearest hotel: No hotel found\n",
      "<Response [200]>\n",
      "talodi - nearest hotel: No hotel found\n",
      "<Response [200]>\n",
      "palikir - national government center - nearest hotel: Mangrove Bay Hotel\n",
      "<Response [200]>\n",
      "chauk - nearest hotel: Royal Chauk\n",
      "<Response [200]>\n",
      "isafjordur - nearest hotel: Hótel Horn\n",
      "<Response [200]>\n",
      "salmas - nearest hotel: هتل آتا\n",
      "<Response [200]>\n",
      "hotan - nearest hotel: Hua Yi International Hotel (accepts foreigners)\n",
      "<Response [200]>\n",
      "pisco - nearest hotel: La Portada\n",
      "<Response [200]>\n",
      "cambridge - nearest hotel: Travelodge\n",
      "<Response [200]>\n",
      "bubaque - nearest hotel: Chez Julio\n",
      "<Response [200]>\n",
      "mogocha - nearest hotel: 7Ka\n",
      "<Response [200]>\n",
      "alofi - nearest hotel: Matavai Resort\n",
      "<Response [200]>\n",
      "talnakh - nearest hotel: Талнах\n",
      "<Response [200]>\n",
      "uturoa - nearest hotel: Hawaiki Nui hotel\n",
      "<Response [200]>\n",
      "bodo - nearest hotel: Zefyr hotell\n",
      "<Response [200]>\n",
      "punta arenas - nearest hotel: Hotel Lacolet\n",
      "<Response [200]>\n",
      "karor - nearest hotel: No hotel found\n",
      "<Response [200]>\n",
      "klaksvik - nearest hotel: Hotel Klaksvik\n",
      "<Response [200]>\n",
      "nouadhibou - nearest hotel: Hotel valencia\n",
      "<Response [200]>\n",
      "ola - nearest hotel: No hotel found\n",
      "<Response [200]>\n",
      "labytnangi - nearest hotel: Семь лиственниц\n",
      "<Response [200]>\n",
      "kingscliff - nearest hotel: Kingscliff Beach Hotel\n",
      "<Response [200]>\n",
      "chuguyevka - nearest hotel: No hotel found\n",
      "<Response [200]>\n",
      "qaqortoq - nearest hotel: Hotel Qaqortoq\n",
      "<Response [200]>\n",
      "keflavik - nearest hotel: Núpan Deluxe\n",
      "<Response [200]>\n",
      "tot'ma - nearest hotel: No hotel found\n",
      "<Response [200]>\n",
      "mana - nearest hotel: Le Samana\n",
      "<Response [200]>\n",
      "mhamid - nearest hotel: Hotel Kasbah Azalay\n",
      "<Response [200]>\n",
      "arno - nearest hotel: Pensionat Grisslehamns\n",
      "<Response [200]>\n",
      "dumbea - nearest hotel: Hôtel Quality Resort Rivland\n",
      "<Response [200]>\n",
      "the bottom - nearest hotel: Queen's Garden Resort\n",
      "<Response [200]>\n",
      "glace bay - nearest hotel: No hotel found\n",
      "<Response [200]>\n",
      "ostersund - nearest hotel: Hotell Stortorget\n",
      "<Response [200]>\n",
      "chui - nearest hotel: Alerces\n",
      "<Response [200]>\n",
      "sechura - nearest hotel: Maximus Inn\n",
      "<Response [200]>\n",
      "loncoche - nearest hotel: Loncoche\n",
      "<Response [200]>\n",
      "mora - nearest hotel: Hôtel Podoko\n",
      "<Response [200]>\n",
      "jamestown - nearest hotel: DoubleTree Jamestown\n",
      "<Response [200]>\n",
      "ciudad mante - nearest hotel: Hotel zaens\n",
      "<Response [200]>\n",
      "alice springs - nearest hotel: Aurora Alice Springs\n",
      "<Response [200]>\n",
      "ciudad del maiz - nearest hotel: No hotel found\n",
      "<Response [200]>\n",
      "las tablas - nearest hotel: Hotel Don Jesus\n",
      "<Response [200]>\n",
      "vilyuchinsk - nearest hotel: Победа\n",
      "<Response [200]>\n",
      "bonthe - nearest hotel: No hotel found\n",
      "<Response [200]>\n",
      "newman - nearest hotel: No hotel found\n",
      "<Response [200]>\n",
      "zaozersk - nearest hotel: Северное сияние\n",
      "<Response [200]>\n",
      "tazacorte - nearest hotel: App Leyma\n",
      "<Response [200]>\n",
      "oyama - nearest hotel: 東横イン 小山駅東口1\n",
      "<Response [200]>\n",
      "sao joao da barra - nearest hotel: Pousada Mediterrâneo\n",
      "<Response [200]>\n",
      "kattivakkam - nearest hotel: No hotel found\n",
      "<Response [200]>\n",
      "kisangani - nearest hotel: Hotel Kisangani\n",
      "<Response [200]>\n",
      "turkmenbasy - nearest hotel: Türkmenbaşy Oteli\n",
      "<Response [200]>\n",
      "hami - nearest hotel: Хами\n",
      "<Response [200]>\n",
      "bir el ater - nearest hotel: فندق الشفيق\n",
      "<Response [200]>\n",
      "ovalle - nearest hotel: Hotel Roxy\n",
      "<Response [200]>\n",
      "iskateley - nearest hotel: Авантаж\n",
      "<Response [200]>\n",
      "thompson - nearest hotel: Thompson Inn\n",
      "<Response [200]>\n",
      "mount gambier - nearest hotel: The Old Mount Gambier Gaol\n",
      "<Response [200]>\n",
      "jayapura - nearest hotel: Hotel Jasmine Jayapura\n",
      "<Response [200]>\n",
      "nuuk - nearest hotel: Nordbo\n",
      "<Response [200]>\n",
      "anadyr - nearest hotel: Гостевой дом\n",
      "<Response [200]>\n",
      "portland - nearest hotel: the Hoxton\n",
      "<Response [200]>\n",
      "balabac - nearest hotel: No hotel found\n",
      "<Response [200]>\n",
      "naze - nearest hotel: ビジネス旅館畠山\n",
      "<Response [200]>\n",
      "avarua - nearest hotel: Paradise Inn\n",
      "<Response [200]>\n",
      "yeed - nearest hotel: No hotel found\n",
      "<Response [200]>\n",
      "nyurba - nearest hotel: Марина\n",
      "<Response [200]>\n",
      "howard springs - nearest hotel: No hotel found\n",
      "<Response [200]>\n",
      "tandalti - nearest hotel: No hotel found\n",
      "<Response [200]>\n",
      "east london - nearest hotel: No hotel found\n",
      "<Response [200]>\n",
      "lagunas - nearest hotel: Hospedaje Eco\n",
      "<Response [200]>\n",
      "okhotsk - nearest hotel: No hotel found\n",
      "<Response [200]>\n",
      "arti - nearest hotel: No hotel found\n",
      "<Response [200]>\n",
      "patterson - nearest hotel: Hampton Inn & Suites\n",
      "<Response [200]>\n",
      "dudinka - nearest hotel: Виктория\n",
      "<Response [200]>\n",
      "george town - nearest hotel: Page 63 hostel\n",
      "<Response [200]>\n",
      "loen - nearest hotel: No hotel found\n",
      "<Response [200]>\n",
      "sorong - nearest hotel: Hotel Membramo Marina\n",
      "<Response [200]>\n",
      "sen monorom - nearest hotel: Pich Tevy\n",
      "<Response [200]>\n",
      "chamical - nearest hotel: No hotel found\n",
      "<Response [200]>\n",
      "yerofey pavlovich - nearest hotel: No hotel found\n",
      "<Response [200]>\n",
      "gadzhiyevo - nearest hotel: Оазис\n",
      "<Response [200]>\n",
      "utrik - nearest hotel: No hotel found\n",
      "<Response [200]>\n",
      "jinhua - nearest hotel: 邮苑宾馆\n",
      "<Response [200]>\n",
      "coahuayana de hidalgo - nearest hotel: No hotel found\n",
      "<Response [200]>\n",
      "pangody - nearest hotel: Газпром энерго\n",
      "<Response [200]>\n",
      "port mathurin - nearest hotel: Escale Vacances\n",
      "<Response [200]>\n",
      "la'ie - nearest hotel: No hotel found\n",
      "<Response [200]>\n",
      "greymouth - nearest hotel: Recreation Hotel\n",
      "<Response [200]>\n",
      "lazaro cardenas - nearest hotel: Hotel Sol del Pacífico\n",
      "<Response [200]>\n",
      "westport - nearest hotel: Norwalk Inn and Conference Center\n",
      "<Response [200]>\n",
      "magnitogorsk - nearest hotel: Лагуна\n",
      "<Response [200]>\n",
      "santana - nearest hotel: Hotel Teodoro\n",
      "<Response [200]>\n",
      "akureyri - nearest hotel: Hótel Norðurland\n",
      "<Response [200]>\n",
      "alto araguaia - nearest hotel: Hotel Araguaia\n",
      "<Response [200]>\n",
      "tyukhtet - nearest hotel: No hotel found\n",
      "<Response [200]>\n",
      "kamaishi - nearest hotel: 釜石ベイシティホテル\n",
      "<Response [200]>\n",
      "mitsamiouli - nearest hotel: Hotel le Paradis\n",
      "<Response [200]>\n",
      "touros - nearest hotel: Pousada Atlântico\n",
      "<Response [200]>\n",
      "ghormach - nearest hotel: No hotel found\n",
      "<Response [200]>\n",
      "sitka - nearest hotel: Aspen Suites Hotel\n",
      "<Response [200]>\n",
      "san andres - nearest hotel: Hotel Decameron Isleño\n",
      "<Response [200]>\n",
      "lata - nearest hotel: Residencial Botânico\n",
      "<Response [200]>\n",
      "piritiba - nearest hotel: No hotel found\n",
      "<Response [200]>\n",
      "bamboo flat - nearest hotel: Hotel Megapode Nest\n",
      "<Response [200]>\n",
      "kavieng - nearest hotel: Kavieng Hotel\n",
      "<Response [200]>\n",
      "flying fish cove - nearest hotel: Christmas Island Lodge\n",
      "<Response [200]>\n",
      "chojna - nearest hotel: No hotel found\n",
      "<Response [200]>\n",
      "zavitinsk - nearest hotel: Люкс\n",
      "<Response [200]>\n",
      "pyinmana - nearest hotel: Myint Myat Hotel\n",
      "<Response [200]>\n",
      "mil'kovo - nearest hotel: Дрозды\n",
      "<Response [200]>\n",
      "sangod - nearest hotel: No hotel found\n",
      "<Response [200]>\n",
      "melfi - nearest hotel: Hotel Due Pini\n",
      "<Response [200]>\n",
      "onokhoy - nearest hotel: No hotel found\n",
      "<Response [200]>\n",
      "san luis de la loma - nearest hotel: No hotel found\n",
      "<Response [200]>\n",
      "mar del plata - nearest hotel: Gran hotel Mónaco\n",
      "<Response [200]>\n",
      "samana - nearest hotel: Hotel Cotubanamá\n",
      "<Response [200]>\n",
      "allapalli - nearest hotel: No hotel found\n",
      "<Response [200]>\n",
      "brokopondo - nearest hotel: Matu eiland\n",
      "<Response [200]>\n",
      "maymana - nearest hotel: No hotel found\n",
      "<Response [200]>\n",
      "romanovo - nearest hotel: No hotel found\n",
      "<Response [200]>\n",
      "daru - nearest hotel: Kuki\n",
      "<Response [200]>\n",
      "constantia - nearest hotel: Hotel Chérica\n",
      "<Response [200]>\n",
      "galliano - nearest hotel: Fairfield Inn & Suites by Marriott Cut Off-Galliano\n",
      "<Response [200]>\n",
      "egilsstadir - nearest hotel: Valaskjálf\n",
      "<Response [200]>\n",
      "chabahar - nearest hotel: هتل سپیده\n",
      "<Response [200]>\n",
      "namtsy - nearest hotel: No hotel found\n",
      "<Response [200]>\n",
      "goksun - nearest hotel: Göksun Öğretmenevi\n",
      "<Response [200]>\n",
      "vorgashor - nearest hotel: София\n",
      "<Response [200]>\n",
      "camana - nearest hotel: Caja Arequipa\n",
      "<Response [200]>\n",
      "malango - nearest hotel: Madarana\n",
      "<Response [200]>\n",
      "riberalta - nearest hotel: Hotel Jomali\n",
      "<Response [200]>\n",
      "praia da vitoria - nearest hotel: Salles\n",
      "<Response [200]>\n",
      "forster - nearest hotel: No hotel found\n",
      "<Response [200]>\n",
      "quatre cocos - nearest hotel: Horisun\n",
      "<Response [200]>\n",
      "remire-montjoly - nearest hotel: Complexe Belova\n",
      "<Response [200]>\n",
      "mount isa - nearest hotel: Ibis Styles\n",
      "<Response [200]>\n",
      "caconda - nearest hotel: No hotel found\n",
      "<Response [200]>\n",
      "port moresby - nearest hotel: The Sanctuary Hotel and Spa\n",
      "<Response [200]>\n",
      "saladan - nearest hotel: KoHub Apartments\n",
      "<Response [200]>\n",
      "cadale - nearest hotel: No hotel found\n",
      "<Response [200]>\n",
      "ha'il - nearest hotel: فندق كلاسيك\n",
      "<Response [200]>\n",
      "kodinsk - nearest hotel: Ангара\n",
      "<Response [200]>\n",
      "kota kinabalu - nearest hotel: Cititel Express\n",
      "<Response [200]>\n",
      "port alfred - nearest hotel: No hotel found\n",
      "<Response [200]>\n",
      "mumford - nearest hotel: Blue Diamond Beach Spa Resort\n",
      "<Response [200]>\n",
      "minas de marcona - nearest hotel: No hotel found\n",
      "<Response [200]>\n",
      "veraval - nearest hotel: Shyam\n",
      "<Response [200]>\n",
      "muttupet - nearest hotel: No hotel found\n",
      "<Response [200]>\n",
      "jacobina - nearest hotel: Hotel Jovem Jota\n",
      "<Response [200]>\n",
      "wynyard - nearest hotel: Wynyard Hotel\n",
      "<Response [200]>\n",
      "ilhabela - nearest hotel: Vila Kebaya\n",
      "<Response [200]>\n",
      "gobabis - nearest hotel: Kalahari Convention Centre Hotel\n",
      "<Response [200]>\n",
      "tonekabon - nearest hotel: ساختمان پارسیان ۲\n",
      "<Response [200]>\n",
      "midvagur - nearest hotel: GiljaHome\n",
      "<Response [200]>\n",
      "krasyliv - nearest hotel: Парадіс\n",
      "<Response [200]>\n",
      "capela do alto - nearest hotel: Hotel Fazenda Reviver\n",
      "<Response [200]>\n",
      "molalla - nearest hotel: The Prairie House Inn\n",
      "<Response [200]>\n",
      "hermanus - nearest hotel: Aloe guest house\n",
      "<Response [200]>\n",
      "tadjourah - nearest hotel: No hotel found\n",
      "<Response [200]>\n",
      "port macquarie - nearest hotel: The Observatory\n",
      "<Response [200]>\n",
      "longyearbyen - nearest hotel: The Vault\n",
      "<Response [200]>\n",
      "port elizabeth - nearest hotel: Waterford Hotel\n",
      "<Response [200]>\n",
      "san antonio de pale - nearest hotel: No hotel found\n",
      "<Response [200]>\n",
      "kralendijk - nearest hotel: Hotel Bonaire Inn\n",
      "<Response [200]>\n",
      "kalabo - nearest hotel: Golden Lodge Luxury Acomodation\n",
      "<Response [200]>\n",
      "pieksamaki - nearest hotel: Ysihotelli\n",
      "<Response [200]>\n",
      "santa sylvina - nearest hotel: No hotel found\n",
      "<Response [200]>\n",
      "labrador city - nearest hotel: Carol Inn\n",
      "<Response [200]>\n",
      "guantanamo - nearest hotel: Hotel Martí\n",
      "<Response [200]>\n",
      "lefkada - nearest hotel: Ianos\n",
      "<Response [200]>\n",
      "menaka - nearest hotel: No hotel found\n",
      "<Response [200]>\n",
      "kill devil hills - nearest hotel: Mariner Days Inn & Suites\n",
      "<Response [200]>\n",
      "benguela - nearest hotel: Hotel Moibela\n",
      "<Response [200]>\n",
      "undurkhaan - nearest hotel: Khanburged Hotel\n",
      "<Response [200]>\n",
      "tejen - nearest hotel: Tejen Myhmanhanasy\n",
      "<Response [200]>\n",
      "lys'va - nearest hotel: \"Асоль\"\n",
      "<Response [200]>\n",
      "klyuchi - nearest hotel: No hotel found\n",
      "<Response [200]>\n",
      "salalah - nearest hotel: Muscat International Hotel\n",
      "<Response [200]>\n",
      "beira - nearest hotel: Hotel Savoy\n",
      "<Response [200]>\n",
      "cartagena del chaira - nearest hotel: Los Corceles\n",
      "<Response [200]>\n",
      "bratsk - nearest hotel: Три кита\n",
      "<Response [200]>\n",
      "altay - nearest hotel: Sunshine Holiday Hotel\n",
      "<Response [200]>\n",
      "pyapon - nearest hotel: No hotel found\n",
      "<Response [200]>\n",
      "al ghayzah - nearest hotel: فندق تاج العرب\n",
      "<Response [200]>\n",
      "kapuskasing - nearest hotel: Travelodge\n",
      "<Response [200]>\n",
      "karymskoye - nearest hotel: No hotel found\n",
      "<Response [200]>\n",
      "ust'-kulom - nearest hotel: No hotel found\n",
      "<Response [200]>\n",
      "bengkulu - nearest hotel: Dena Hotel\n",
      "<Response [200]>\n",
      "ilulissat - nearest hotel: Best Western Plus Hotel Ilulissat\n",
      "<Response [200]>\n",
      "impfondo - nearest hotel: Tropicana\n",
      "<Response [200]>\n",
      "sandakan - nearest hotel: Hotel City Star\n",
      "<Response [200]>\n",
      "bhamo - nearest hotel: Winlight Hotel\n",
      "<Response [200]>\n",
      "broken hill - nearest hotel: Ibis Styles\n",
      "<Response [200]>\n",
      "geraldton - nearest hotel: Ocean Centre Hotel\n",
      "<Response [200]>\n",
      "turbat - nearest hotel: No hotel found\n",
      "<Response [200]>\n",
      "la passe - nearest hotel: L'Estuaire\n",
      "<Response [200]>\n",
      "narra - nearest hotel: Jose Liza Pension\n",
      "<Response [200]>\n",
      "kutahya - nearest hotel: Hilton Garden Inn Kutahya\n",
      "<Response [200]>\n",
      "rongelap - nearest hotel: No hotel found\n",
      "<Response [200]>\n",
      "sokolow podlaski - nearest hotel: Pokoje Gościnne Bar Sokół\n",
      "<Response [200]>\n",
      "kourou - nearest hotel: SCI Horizon\n",
      "<Response [200]>\n",
      "mukalla - nearest hotel: فندق الجابري\n",
      "<Response [200]>\n",
      "kolonia - nearest hotel: Wasserturm Hotel Cologne\n",
      "<Response [200]>\n",
      "badger - nearest hotel: Hotel North Pole\n",
      "<Response [200]>\n",
      "tucupita - nearest hotel: Hotel salma suit\n",
      "<Response [200]>\n",
      "buala - nearest hotel: No hotel found\n",
      "<Response [200]>\n",
      "sanya - nearest hotel: Хубаёши\n",
      "<Response [200]>\n",
      "san patricio - nearest hotel: No hotel found\n",
      "<Response [200]>\n",
      "puerto deseado - nearest hotel: Los Olmos\n",
      "<Response [200]>\n",
      "atafu village - nearest hotel: No hotel found\n",
      "<Response [200]>\n",
      "kaitong - nearest hotel: No hotel found\n",
      "<Response [200]>\n",
      "santa cruz - nearest hotel: Aviador Hotel Boutique\n",
      "<Response [200]>\n",
      "lai chau - nearest hotel: Minh Tuan Hotel\n",
      "<Response [200]>\n",
      "kohat - nearest hotel: No hotel found\n",
      "<Response [200]>\n",
      "fale old settlement - nearest hotel: No hotel found\n",
      "<Response [200]>\n",
      "el granada - nearest hotel: Beach House\n",
      "<Response [200]>\n",
      "susuman - nearest hotel: No hotel found\n",
      "<Response [200]>\n",
      "aykhal - nearest hotel: Уют\n",
      "<Response [200]>\n",
      "havre - nearest hotel: Le Relais des 2 Normandies\n",
      "<Response [200]>\n",
      "sandnessjoen - nearest hotel: Scandic Syv Søstre\n",
      "<Response [200]>\n",
      "colon - nearest hotel: Hotel Plaza\n",
      "<Response [200]>\n",
      "ust-nera - nearest hotel: гостиница \"Солнечная\"\n",
      "<Response [200]>\n",
      "berd - nearest hotel: Utiq\n",
      "<Response [200]>\n",
      "nema - nearest hotel: No hotel found\n",
      "<Response [200]>\n",
      "alto lucero - nearest hotel: Cantil\n",
      "<Response [200]>\n",
      "al bardiyah - nearest hotel: فندق البردي\n",
      "<Response [200]>\n",
      "alta sierra - nearest hotel: No hotel found\n",
      "<Response [200]>\n",
      "red chute - nearest hotel: Harrah's Louisiana Downs\n",
      "<Response [200]>\n",
      "saint-pierre - nearest hotel: Tropic Hotel\n",
      "<Response [200]>\n",
      "bondo - nearest hotel: No hotel found\n",
      "<Response [200]>\n",
      "tangalle - nearest hotel: Coco Tangalla\n",
      "<Response [200]>\n",
      "tolanaro - nearest hotel: Hôtel Mahavokey\n",
      "<Response [200]>\n",
      "filingue - nearest hotel: No hotel found\n",
      "<Response [200]>\n",
      "amboasary - nearest hotel: No hotel found\n",
      "<Response [200]>\n",
      "gorgan - nearest hotel: هتل خیام\n",
      "<Response [200]>\n",
      "narsingi - nearest hotel: No hotel found\n",
      "<Response [200]>\n",
      "santa ana - nearest hotel: Holiday Inn Express\n",
      "<Response [200]>\n",
      "aksu - nearest hotel: Akesu Tianyuan International Hotel\n",
      "<Response [200]>\n",
      "altinyayla - nearest hotel: No hotel found\n",
      "<Response [200]>\n",
      "ihosy - nearest hotel: No hotel found\n",
      "<Response [200]>\n",
      "dryden - nearest hotel: Holiday Inn Express\n",
      "<Response [200]>\n",
      "port douglas - nearest hotel: Mantra Aqueous Port Douglas\n",
      "<Response [200]>\n",
      "jumri tilaiya - nearest hotel: No hotel found\n",
      "<Response [200]>\n",
      "mambajao - nearest hotel: GV Hotel Camigun\n",
      "<Response [200]>\n",
      "nayoro - nearest hotel: Hotel MyStays Nayoro\n",
      "<Response [200]>\n",
      "chibuto - nearest hotel: DESHENG\n",
      "<Response [200]>\n",
      "fukuyama - nearest hotel: nhập cty\n",
      "<Response [200]>\n",
      "luga - nearest hotel: Луга\n",
      "<Response [200]>\n",
      "ziro - nearest hotel: No hotel found\n",
      "<Response [200]>\n",
      "port blair - nearest hotel: Andaman Ocean Breeze\n",
      "<Response [200]>\n",
      "howrah - nearest hotel: Sun India Guest House\n",
      "<Response [200]>\n",
      "tual - nearest hotel: Suita\n",
      "<Response [200]>\n",
      "brookings - nearest hotel: Quality Inn\n",
      "<Response [200]>\n",
      "sosnovo-ozerskoye - nearest hotel: Озёрная\n",
      "<Response [200]>\n",
      "nehe - nearest hotel: No hotel found\n",
      "<Response [200]>\n",
      "antofagasta - nearest hotel: Hotel Colón\n",
      "<Response [200]>\n",
      "tamanrasset - nearest hotel: فندق الأمان\n",
      "<Response [200]>\n",
      "itamaraca - nearest hotel: No hotel found\n",
      "<Response [200]>\n",
      "bucerias - nearest hotel: Royal Decameron Complex\n",
      "<Response [200]>\n",
      "villa gesell - nearest hotel: Hotel El Faro\n",
      "<Response [200]>\n",
      "verkhnevilyuysk - nearest hotel: No hotel found\n",
      "<Response [200]>\n",
      "selfoss - nearest hotel: Miðgarður\n",
      "<Response [200]>\n",
      "coquimbo - nearest hotel: Hotel Iberia\n",
      "<Response [200]>\n",
      "west wodonga - nearest hotel: Quest Apartments\n",
      "<Response [200]>\n",
      "rujewa - nearest hotel: No hotel found\n",
      "<Response [200]>\n",
      "acapulco de juarez - nearest hotel: Hotel del Valle\n",
      "<Response [200]>\n",
      "kirensk - nearest hotel: Ивушка\n",
      "<Response [200]>\n",
      "nagqu - nearest hotel: Naqu Hotel\n",
      "<Response [200]>\n",
      "fort st. john - nearest hotel: Fort St. John Motor Inn\n",
      "<Response [200]>\n",
      "dalton - nearest hotel: Days Inn\n",
      "<Response [200]>\n",
      "sydney - nearest hotel: The Fullerton Hotel\n",
      "<Response [200]>\n",
      "inari - nearest hotel: Villa Lanca\n",
      "<Response [200]>\n",
      "kruisfontein - nearest hotel: No hotel found\n",
      "<Response [200]>\n",
      "zouerate - nearest hotel: فندق تيرس زمور\n",
      "<Response [200]>\n",
      "santiago del torno - nearest hotel: Jhoni\n",
      "<Response [200]>\n",
      "mettur - nearest hotel: Tamilnadu Mettur\n",
      "<Response [200]>\n",
      "dunda - nearest hotel: No hotel found\n",
      "<Response [200]>\n",
      "chulakkurgan - nearest hotel: адеми\n",
      "<Response [200]>\n",
      "shenjiamen - nearest hotel: Zhonghan Hotel\n",
      "<Response [200]>\n",
      "ulety - nearest hotel: No hotel found\n",
      "<Response [200]>\n",
      "oranjemund - nearest hotel: Op My Stoep\n",
      "<Response [200]>\n",
      "chonchi - nearest hotel: Hotel Huildín\n",
      "<Response [200]>\n",
      "choibalsan - nearest hotel: Зүүн Ордон Зочид Буудал\n",
      "<Response [200]>\n",
      "mytilene - nearest hotel: ΛΑ ΜΙΡΑΖ\n",
      "<Response [200]>\n",
      "pasighat - nearest hotel: Aane Hotel\n",
      "<Response [200]>\n",
      "prainha - nearest hotel: No hotel found\n",
      "<Response [200]>\n",
      "ciudad lazaro cardenas - nearest hotel: Hotel Sol del Pacífico\n",
      "<Response [200]>\n",
      "viedma - nearest hotel: Níjar\n",
      "<Response [200]>\n",
      "arkhangel'sk - nearest hotel: Серафима\n",
      "<Response [200]>\n",
      "peterhead - nearest hotel: Albert Hotel\n",
      "<Response [200]>\n",
      "pabrade - nearest hotel: No hotel found\n",
      "<Response [200]>\n",
      "khovd - nearest hotel: Khovd hotel\n",
      "<Response [200]>\n",
      "kiunga - nearest hotel: No hotel found\n",
      "<Response [200]>\n",
      "corinto - nearest hotel: Apollon\n",
      "<Response [200]>\n",
      "banda aceh - nearest hotel: Hotel 61\n",
      "<Response [200]>\n",
      "bolhrad - nearest hotel: Кооператор\n",
      "<Response [200]>\n",
      "kismayo - nearest hotel: Kismayo Hotel\n",
      "<Response [200]>\n",
      "kavaratti - nearest hotel: No hotel found\n",
      "<Response [200]>\n",
      "ceerigaabo - nearest hotel: Sanaag Hotel\n",
      "<Response [200]>\n",
      "weno - nearest hotel: High Tide Hotel\n",
      "<Response [200]>\n",
      "serres - nearest hotel: Hotel Galaxy\n",
      "<Response [200]>\n",
      "taulaga - nearest hotel: No hotel found\n",
      "<Response [200]>\n",
      "kalmunai - nearest hotel: Saji new food\n",
      "<Response [200]>\n",
      "bastrop - nearest hotel: No hotel found\n",
      "<Response [200]>\n",
      "inhambane - nearest hotel: Hotel de Inhambane\n",
      "<Response [200]>\n",
      "wickenburg - nearest hotel: Best Western Rancho Grande\n",
      "<Response [200]>\n",
      "cheongsong gun - nearest hotel: 주왕산온천관광호텔\n",
      "<Response [200]>\n",
      "changuinola - nearest hotel: Goden Sahara\n",
      "<Response [200]>\n",
      "nova sintra - nearest hotel: Residência Ka Dencho\n",
      "<Response [200]>\n",
      "kindu - nearest hotel: No hotel found\n",
      "<Response [200]>\n",
      "marat - nearest hotel: No hotel found\n",
      "<Response [200]>\n",
      "camocim - nearest hotel: Hotel Camocim\n",
      "<Response [200]>\n",
      "margate - nearest hotel: The Reading Rooms\n",
      "<Response [200]>\n",
      "lido adriano - nearest hotel: Azzurra\n",
      "<Response [200]>\n",
      "paka - nearest hotel: Paka Inn\n",
      "<Response [200]>\n",
      "san pedro - nearest hotel: Hotel Takara\n",
      "<Response [200]>\n",
      "arraial do cabo - nearest hotel: No hotel found\n",
      "<Response [200]>\n",
      "santo antonio do ica - nearest hotel: No hotel found\n",
      "<Response [200]>\n",
      "luganville - nearest hotel: Beachfront Resort\n",
      "<Response [200]>\n",
      "xinzhi - nearest hotel: No hotel found\n",
      "<Response [200]>\n",
      "leer - nearest hotel: Hotel Hafenspeicher\n",
      "<Response [200]>\n",
      "unai - nearest hotel: Hotel Fazenda Curva do Rio\n",
      "<Response [200]>\n",
      "freetown - nearest hotel: Formal Leona hotel\n",
      "<Response [200]>\n",
      "xishan - nearest hotel: Dongfeng\n",
      "<Response [200]>\n",
      "okha - nearest hotel: Сфера\n",
      "<Response [200]>\n",
      "kharabali - nearest hotel: No hotel found\n",
      "<Response [200]>\n",
      "island harbour - nearest hotel: Premier Inn\n",
      "<Response [200]>\n",
      "kuusamo - nearest hotel: Holiday Club Kuusamon Tropiikki\n",
      "<Response [200]>\n",
      "vila velha - nearest hotel: Hotel Prainha\n",
      "<Response [200]>\n",
      "lensk - nearest hotel: No hotel found\n",
      "<Response [200]>\n",
      "thayetmyo - nearest hotel: No hotel found\n",
      "<Response [200]>\n",
      "nar'yan-mar - nearest hotel: Гостиница \"Агат\"\n",
      "<Response [200]>\n",
      "kaa-khem - nearest hotel: No hotel found\n",
      "<Response [200]>\n",
      "palmas - nearest hotel: Hotel Triângulo Mineiro\n",
      "<Response [200]>\n",
      "kemijarvi - nearest hotel: Hotelli Kemijärvi\n",
      "<Response [200]>\n",
      "hithadhoo - nearest hotel: Pebbles Inn\n",
      "<Response [200]>\n",
      "gobindpur - nearest hotel: No hotel found\n",
      "<Response [200]>\n",
      "huaicheng - nearest hotel: No hotel found\n",
      "<Response [200]>\n",
      "axim - nearest hotel: Axim Beach Hotel\n",
      "<Response [200]>\n",
      "laxey - nearest hotel: Groudle Glen Cottages\n",
      "<Response [200]>\n",
      "acarau - nearest hotel: No hotel found\n",
      "<Response [200]>\n",
      "chipinge - nearest hotel: No hotel found\n",
      "<Response [200]>\n",
      "inarajan village - nearest hotel: No hotel found\n",
      "<Response [200]>\n",
      "santa ana de yacuma - nearest hotel: No hotel found\n",
      "<Response [200]>\n",
      "frontera - nearest hotel: Quirino\n",
      "<Response [200]>\n",
      "larkird - nearest hotel: No hotel found\n",
      "<Response [200]>\n",
      "holualoa - nearest hotel: Kona Hotel\n",
      "<Response [200]>\n",
      "vilyuysk - nearest hotel: Мария\n",
      "<Response [200]>\n",
      "katima mulilo - nearest hotel: Zambezi River Lodge\n",
      "<Response [200]>\n",
      "mugia - nearest hotel: Solpor do Coído\n",
      "<Response [200]>\n",
      "igra - nearest hotel: Сутэро\n",
      "<Response [200]>\n",
      "darwin - nearest hotel: Mantra Pantanas Darwin\n",
      "<Response [200]>\n",
      "katsuura - nearest hotel: 潮騒の宿\n",
      "<Response [200]>\n",
      "qamdo - nearest hotel: 银杏商务宾馆\n",
      "<Response [200]>\n",
      "farim - nearest hotel: No hotel found\n",
      "<Response [200]>\n",
      "calama - nearest hotel: Apart Hotel Geotel Calama\n",
      "<Response [200]>\n",
      "tocopilla - nearest hotel: hotel Isidora\n",
      "<Response [200]>\n",
      "murun-kuren - nearest hotel: No hotel found\n",
      "<Response [200]>\n",
      "hastings - nearest hotel: White Rock Hotel\n",
      "<Response [200]>\n",
      "lamu - nearest hotel: Hotel Archipelago villa bed and breakfast\n",
      "<Response [200]>\n",
      "nuku'alofa - nearest hotel: City Hotel\n",
      "<Response [200]>\n",
      "lionel town - nearest hotel: No hotel found\n",
      "<Response [200]>\n",
      "al jawf - nearest hotel: No hotel found\n",
      "<Response [200]>\n",
      "ilava - nearest hotel: Hotel Moravec\n",
      "<Response [200]>\n",
      "xilin hot - nearest hotel: Hotel hailibu 120\n",
      "<Response [200]>\n",
      "kem' - nearest hotel: Кемь\n",
      "<Response [200]>\n",
      "suwannaphum - nearest hotel: Suwan Hotel & Resort\n",
      "<Response [200]>\n",
      "haiku-pauwela - nearest hotel: Inn At Mama's Fish House\n",
      "<Response [200]>\n",
      "sainte-anne-des-monts - nearest hotel: Hotel et Cie\n",
      "<Response [200]>\n",
      "mahina - nearest hotel: Motu Martin\n",
      "<Response [200]>\n",
      "lahat - nearest hotel: No hotel found\n",
      "<Response [200]>\n",
      "sisimiut - nearest hotel: Sømandshjemmet\n",
      "<Response [200]>\n",
      "aver-o-mar - nearest hotel: Hotel Santo André\n",
      "<Response [200]>\n",
      "luderitz - nearest hotel: Seaview Hotel Zum Sperrgebiet\n",
      "<Response [200]>\n",
      "ratnagiri - nearest hotel: Vihar\n",
      "<Response [200]>\n",
      "mbale - nearest hotel: No hotel found\n",
      "<Response [200]>\n",
      "kenai - nearest hotel: Beluga Lookout Hotel\n",
      "<Response [200]>\n",
      "pruzhany - nearest hotel: Мухавец\n",
      "<Response [200]>\n",
      "poronaysk - nearest hotel: No hotel found\n",
      "<Response [200]>\n",
      "rangkasbitung - nearest hotel: Wisma Sugri\n",
      "<Response [200]>\n",
      "hakui - nearest hotel: ビジネスホテル羽音碧々\n",
      "<Response [200]>\n",
      "shalqar - nearest hotel: Бекнур\n",
      "<Response [200]>\n",
      "paraty - nearest hotel: Solar dos Gerânios\n",
      "<Response [200]>\n",
      "khenchela - nearest hotel: نزل طارق ابن زياد\n",
      "<Response [200]>\n",
      "urangan - nearest hotel: Ramada\n",
      "<Response [200]>\n",
      "trairi - nearest hotel: Pousada Villa Aurora\n",
      "<Response [200]>\n",
      "shar - nearest hotel: Бейсенов\n",
      "<Response [200]>\n",
      "lerwick - nearest hotel: Grand Hotel\n",
      "<Response [200]>\n",
      "imperia - nearest hotel: Agriturismo L'Adagio\n",
      "<Response [200]>\n",
      "rio gallegos - nearest hotel: Amérian Río Gallegos Apart & Suites\n",
      "<Response [200]>\n",
      "port hedland - nearest hotel: The Esplanade Hotel\n",
      "<Response [200]>\n",
      "puan - nearest hotel: 벨리노호텔\n",
      "<Response [200]>\n",
      "kone - nearest hotel: Pacifik Appartels\n",
      "<Response [200]>\n",
      "aripuana - nearest hotel: No hotel found\n",
      "<Response [200]>\n",
      "alaghsas - nearest hotel: Hôtel Zagado\n",
      "<Response [200]>\n",
      "kostyantynivka - nearest hotel: Готель \"Схід\"\n",
      "<Response [200]>\n",
      "rabo de peixe - nearest hotel: Pico do Refugio\n",
      "<Response [200]>\n",
      "sao vicente - nearest hotel: Pousada Vitória\n",
      "<Response [200]>\n",
      "city of balikpapan - nearest hotel: Hotel Djang Djaya 2\n",
      "<Response [200]>\n",
      "colchani - nearest hotel: Hotel de Sal - Sol de Mañana\n",
      "<Response [200]>\n",
      "mareeba - nearest hotel: The Gateway Hotel\n",
      "<Response [200]>\n",
      "ati - nearest hotel: No hotel found\n",
      "<Response [200]>\n",
      "chadan - nearest hotel: Жарки\n",
      "<Response [200]>\n",
      "sabang - nearest hotel: Sabang Hill\n",
      "<Response [200]>\n",
      "camas - nearest hotel: Hostal El Madero\n",
      "<Response [200]>\n",
      "ulsteinvik - nearest hotel: Quality Hotel Ulstein\n",
      "<Response [200]>\n",
      "dunedin - nearest hotel: Scenic Hotel Dunedin City\n",
      "<Response [200]>\n",
      "tofol - nearest hotel: Nautilus Resort\n",
      "<Response [200]>\n",
      "shache - nearest hotel: 莎車新盛賓舘\n",
      "<Response [200]>\n",
      "porbandar - nearest hotel: Toran Tourist Bungalow\n",
      "<Response [200]>\n",
      "plettenberg bay - nearest hotel: Milkwood Manor\n",
      "<Response [200]>\n",
      "kehychivka - nearest hotel: Статус\n",
      "<Response [200]>\n",
      "gillette - nearest hotel: Montgomery Hotel\n",
      "<Response [200]>\n",
      "karrapur - nearest hotel: No hotel found\n",
      "<Response [200]>\n",
      "levuka - nearest hotel: No hotel found\n",
      "<Response [200]>\n",
      "dzhangala - nearest hotel: Жаңақала ЛПУ жатақханасы\n",
      "<Response [200]>\n",
      "wynne - nearest hotel: No hotel found\n",
      "<Response [200]>\n",
      "mtwara - nearest hotel: Newala Guest House\n",
      "<Response [200]>\n",
      "kintinku - nearest hotel: No hotel found\n",
      "<Response [200]>\n",
      "pangkalpinang - nearest hotel: Renz Hotel\n",
      "<Response [200]>\n",
      "shihezi - nearest hotel: 石河子宾馆\n",
      "<Response [200]>\n",
      "cole harbour - nearest hotel: Hearthstone Inn Boutique Hotel Dartmouth/Halifax\n",
      "<Response [200]>\n",
      "fujin - nearest hotel: No hotel found\n",
      "<Response [200]>\n",
      "altamont - nearest hotel: Quality Inn\n",
      "<Response [200]>\n",
      "el bauga - nearest hotel: No hotel found\n",
      "<Response [200]>\n",
      "guerrero negro - nearest hotel: Plaza sal paraiso\n",
      "<Response [200]>\n",
      "tiebo - nearest hotel: Auberge Confiance\n",
      "<Response [200]>\n",
      "shulan - nearest hotel: No hotel found\n",
      "<Response [200]>\n",
      "farafangana - nearest hotel: Le Concombre Masqué\n",
      "<Response [200]>\n",
      "zhaotong - nearest hotel: Autumn Hotel\n",
      "<Response [200]>\n",
      "bardai - nearest hotel: No hotel found\n",
      "<Response [200]>\n",
      "saint-joseph - nearest hotel: PALM Hotel & Spa\n",
      "<Response [200]>\n",
      "kayangel - nearest hotel: No hotel found\n",
      "<Response [200]>\n",
      "yorosso - nearest hotel: No hotel found\n",
      "<Response [200]>\n",
      "serdar - nearest hotel: Chynar Hotel\n",
      "<Response [200]>\n",
      "ta`u - nearest hotel: No hotel found\n"
     ]
    },
    {
     "data": {
      "text/html": [
       "<div>\n",
       "<style scoped>\n",
       "    .dataframe tbody tr th:only-of-type {\n",
       "        vertical-align: middle;\n",
       "    }\n",
       "\n",
       "    .dataframe tbody tr th {\n",
       "        vertical-align: top;\n",
       "    }\n",
       "\n",
       "    .dataframe thead th {\n",
       "        text-align: right;\n",
       "    }\n",
       "</style>\n",
       "<table border=\"1\" class=\"dataframe\">\n",
       "  <thead>\n",
       "    <tr style=\"text-align: right;\">\n",
       "      <th></th>\n",
       "      <th>City</th>\n",
       "      <th>Country</th>\n",
       "      <th>Lat</th>\n",
       "      <th>Lng</th>\n",
       "      <th>Humidity</th>\n",
       "      <th>Hotel Name</th>\n",
       "    </tr>\n",
       "  </thead>\n",
       "  <tbody>\n",
       "    <tr>\n",
       "      <th>0</th>\n",
       "      <td>fortuna</td>\n",
       "      <td>US</td>\n",
       "      <td>40.5982</td>\n",
       "      <td>-124.1573</td>\n",
       "      <td>56</td>\n",
       "      <td>Comfort Inn &amp; Suites Redwood Country</td>\n",
       "    </tr>\n",
       "    <tr>\n",
       "      <th>1</th>\n",
       "      <td>bredasdorp</td>\n",
       "      <td>ZA</td>\n",
       "      <td>-34.5322</td>\n",
       "      <td>20.0403</td>\n",
       "      <td>95</td>\n",
       "      <td>Victoria Hotel</td>\n",
       "    </tr>\n",
       "    <tr>\n",
       "      <th>2</th>\n",
       "      <td>papatowai</td>\n",
       "      <td>NZ</td>\n",
       "      <td>-46.5619</td>\n",
       "      <td>169.4708</td>\n",
       "      <td>58</td>\n",
       "      <td>No hotel found</td>\n",
       "    </tr>\n",
       "    <tr>\n",
       "      <th>3</th>\n",
       "      <td>udachny</td>\n",
       "      <td>RU</td>\n",
       "      <td>66.4167</td>\n",
       "      <td>112.4000</td>\n",
       "      <td>100</td>\n",
       "      <td>Вилюй</td>\n",
       "    </tr>\n",
       "    <tr>\n",
       "      <th>4</th>\n",
       "      <td>saint-philippe</td>\n",
       "      <td>RE</td>\n",
       "      <td>-21.3585</td>\n",
       "      <td>55.7679</td>\n",
       "      <td>84</td>\n",
       "      <td>Le Baril</td>\n",
       "    </tr>\n",
       "    <tr>\n",
       "      <th>...</th>\n",
       "      <td>...</td>\n",
       "      <td>...</td>\n",
       "      <td>...</td>\n",
       "      <td>...</td>\n",
       "      <td>...</td>\n",
       "      <td>...</td>\n",
       "    </tr>\n",
       "    <tr>\n",
       "      <th>542</th>\n",
       "      <td>saint-joseph</td>\n",
       "      <td>RE</td>\n",
       "      <td>-21.3667</td>\n",
       "      <td>55.6167</td>\n",
       "      <td>83</td>\n",
       "      <td>PALM Hotel &amp; Spa</td>\n",
       "    </tr>\n",
       "    <tr>\n",
       "      <th>543</th>\n",
       "      <td>kayangel</td>\n",
       "      <td>PW</td>\n",
       "      <td>8.0823</td>\n",
       "      <td>134.7173</td>\n",
       "      <td>83</td>\n",
       "      <td>No hotel found</td>\n",
       "    </tr>\n",
       "    <tr>\n",
       "      <th>544</th>\n",
       "      <td>yorosso</td>\n",
       "      <td>ML</td>\n",
       "      <td>12.3536</td>\n",
       "      <td>-4.7761</td>\n",
       "      <td>16</td>\n",
       "      <td>No hotel found</td>\n",
       "    </tr>\n",
       "    <tr>\n",
       "      <th>545</th>\n",
       "      <td>serdar</td>\n",
       "      <td>TM</td>\n",
       "      <td>38.9764</td>\n",
       "      <td>56.2757</td>\n",
       "      <td>74</td>\n",
       "      <td>Chynar Hotel</td>\n",
       "    </tr>\n",
       "    <tr>\n",
       "      <th>546</th>\n",
       "      <td>ta`u</td>\n",
       "      <td>AS</td>\n",
       "      <td>-14.2336</td>\n",
       "      <td>-169.5144</td>\n",
       "      <td>75</td>\n",
       "      <td>No hotel found</td>\n",
       "    </tr>\n",
       "  </tbody>\n",
       "</table>\n",
       "<p>547 rows × 6 columns</p>\n",
       "</div>"
      ],
      "text/plain": [
       "               City Country      Lat       Lng  Humidity  \\\n",
       "0           fortuna      US  40.5982 -124.1573        56   \n",
       "1        bredasdorp      ZA -34.5322   20.0403        95   \n",
       "2         papatowai      NZ -46.5619  169.4708        58   \n",
       "3           udachny      RU  66.4167  112.4000       100   \n",
       "4    saint-philippe      RE -21.3585   55.7679        84   \n",
       "..              ...     ...      ...       ...       ...   \n",
       "542    saint-joseph      RE -21.3667   55.6167        83   \n",
       "543        kayangel      PW   8.0823  134.7173        83   \n",
       "544         yorosso      ML  12.3536   -4.7761        16   \n",
       "545          serdar      TM  38.9764   56.2757        74   \n",
       "546            ta`u      AS -14.2336 -169.5144        75   \n",
       "\n",
       "                               Hotel Name  \n",
       "0    Comfort Inn & Suites Redwood Country  \n",
       "1                          Victoria Hotel  \n",
       "2                          No hotel found  \n",
       "3                                   Вилюй  \n",
       "4                                Le Baril  \n",
       "..                                    ...  \n",
       "542                      PALM Hotel & Spa  \n",
       "543                        No hotel found  \n",
       "544                        No hotel found  \n",
       "545                          Chynar Hotel  \n",
       "546                        No hotel found  \n",
       "\n",
       "[547 rows x 6 columns]"
      ]
     },
     "execution_count": 5,
     "metadata": {},
     "output_type": "execute_result"
    }
   ],
   "source": [
    "# Set parameters to search for a hotel\n",
    "radius = 10000  # 10,000 meters\n",
    "params = {\n",
    "    \"radius\": radius,\n",
    "    \"categories\": \"accommodation.hotel\",\n",
    "    \"apiKey\": \"614e57f3158245beafef67158bc3d79c\",\n",
    "    \"limit\": 20\n",
    "}\n",
    "\n",
    "# Print a message to follow up the hotel search\n",
    "print(\"Starting hotel search\")\n",
    "\n",
    "# Iterate through the hotel_df DataFrame\n",
    "for index, row in hotel_df.iterrows():\n",
    "    # get latitude, longitude from the DataFrame\n",
    "    lat = row['Lat']\n",
    "    lng = row['Lng']\n",
    "    \n",
    "    # Add filter and bias parameters with the current city's latitude and longitude to the params dictionary\n",
    "    params[\"filter\"] = f\"circle:{lng},{lat},{radius}\"\n",
    "    params[\"bias\"] = f\"proximity:{lng},{lat}\"\n",
    "\n",
    "    \n",
    "    # Set base URL\n",
    "    base_url = \"https://api.geoapify.com/v2/places\"\n",
    "\n",
    "    # Make an API request using the params dictionary\n",
    "    response = requests.get(base_url, params=params)\n",
    "    print(response)\n",
    "    # Convert the API response to JSON format\n",
    "    name_address = response.json()\n",
    "    \n",
    "    # Grab the first hotel from the results and store the name in the hotel_df DataFrame\n",
    "    try:\n",
    "        hotel_df.loc[index, \"Hotel Name\"] = name_address[\"features\"][0][\"properties\"][\"name\"]\n",
    "    except (KeyError, IndexError):\n",
    "        # If no hotel is found, set the hotel name as \"No hotel found\".\n",
    "        hotel_df.loc[index, \"Hotel Name\"] = \"No hotel found\"\n",
    "        \n",
    "    # Log the search results\n",
    "    print(f\"{hotel_df.loc[index, 'City']} - nearest hotel: {hotel_df.loc[index, 'Hotel Name']}\")\n",
    "\n",
    "# Display sample data\n",
    "hotel_df\n",
    "\n"
   ]
  },
  {
   "cell_type": "markdown",
   "metadata": {},
   "source": [
    "### Step 5: Add the hotel name and the country as additional information in the hover message for each city in the map."
   ]
  },
  {
   "cell_type": "code",
   "execution_count": 6,
   "metadata": {},
   "outputs": [
    {
     "data": {
      "application/vnd.plotly.v1+json": {
       "config": {
        "plotlyServerURL": "https://plot.ly"
       },
       "data": [
        {
         "customdata": [
          [
           "fortuna",
           "Comfort Inn & Suites Redwood Country",
           "US"
          ],
          [
           "bredasdorp",
           "Victoria Hotel",
           "ZA"
          ],
          [
           "papatowai",
           "No hotel found",
           "NZ"
          ],
          [
           "udachny",
           "Вилюй",
           "RU"
          ],
          [
           "saint-philippe",
           "Le Baril",
           "RE"
          ],
          [
           "edinburgh of the seven seas",
           "No hotel found",
           "SH"
          ],
          [
           "nogliki",
           "Ноглики",
           "RU"
          ],
          [
           "invercargill",
           "The Grand",
           "NZ"
          ],
          [
           "grytviken",
           "No hotel found",
           "GS"
          ],
          [
           "qianzhou",
           "JinHuang Hotel",
           "CN"
          ],
          [
           "puerto ayora",
           "Hostal La Mirada De Solitario George",
           "EC"
          ],
          [
           "port-aux-francais",
           "Keravel",
           "TF"
          ],
          [
           "kodiak",
           "Shelikof Lodge",
           "US"
          ],
          [
           "wailua homesteads",
           "Hilton Garden Inn Kauai Wailua Bay",
           "US"
          ],
          [
           "adamstown",
           "No hotel found",
           "PN"
          ],
          [
           "homer",
           "Driftwood Inn & Homer Seaside Lodges",
           "US"
          ],
          [
           "kemin",
           "Кемин",
           "KG"
          ],
          [
           "petropavlovsk-kamchatsky",
           "ООО Постоялый двор",
           "RU"
          ],
          [
           "kolosovka",
           "No hotel found",
           "RU"
          ],
          [
           "biloela",
           "Settlers Hotel Motel",
           "AU"
          ],
          [
           "waitangi",
           "Hotel Chathams",
           "NZ"
          ],
          [
           "as saffaniyah",
           "No hotel found",
           "SA"
          ],
          [
           "parham",
           "Oceanic View Exclusive Vacation Cottages",
           "AG"
          ],
          [
           "comodoro rivadavia",
           "No hotel found",
           "AR"
          ],
          [
           "west island",
           "Cocos Village Bungalows",
           "CC"
          ],
          [
           "nemuro",
           "お宿エクハシ",
           "JP"
          ],
          [
           "mount pearl",
           "Sandman Signature St. John's",
           "CA"
          ],
          [
           "lihue",
           "Kauai Palms",
           "US"
          ],
          [
           "callao",
           "Casa Ronald",
           "PE"
          ],
          [
           "kovdor",
           "Очаг",
           "RU"
          ],
          [
           "khandyga",
           "Апельсин",
           "RU"
          ],
          [
           "ushuaia",
           "Apart Hotel Aires del Beagle",
           "AR"
          ],
          [
           "colonia",
           "Wasserturm Hotel Cologne",
           "DE"
          ],
          [
           "bilibino",
           "No hotel found",
           "RU"
          ],
          [
           "georgetown",
           "Page 63 hostel",
           "MY"
          ],
          [
           "ribeira grande",
           "Hospedaria JSF",
           "PT"
          ],
          [
           "hasaki",
           "大新旅館",
           "JP"
          ],
          [
           "carnarvon",
           "No hotel found",
           "AU"
          ],
          [
           "ebon",
           "No hotel found",
           "MH"
          ],
          [
           "nambucca",
           "No hotel found",
           "AU"
          ],
          [
           "hadibu",
           "No hotel found",
           "YE"
          ],
          [
           "kununurra",
           "No hotel found",
           "AU"
          ],
          [
           "lebu",
           "No hotel found",
           "CL"
          ],
          [
           "enewetak",
           "No hotel found",
           "MH"
          ],
          [
           "tura",
           "No hotel found",
           "IN"
          ],
          [
           "buka",
           "No hotel found",
           "UZ"
          ],
          [
           "nizhniy odes",
           "No hotel found",
           "RU"
          ],
          [
           "college",
           "BEST WESTERN PLUS Pioneer Park Inn",
           "US"
          ],
          [
           "hermosillo",
           "Lucerna",
           "MX"
          ],
          [
           "albany",
           "No hotel found",
           "US"
          ],
          [
           "tazovsky",
           "Тазовчанка",
           "RU"
          ],
          [
           "afaahiti",
           "Omati Lodge",
           "PF"
          ],
          [
           "namibe",
           "Hotel Chik Chik Namibe",
           "AO"
          ],
          [
           "nelson",
           "Skylight Villa",
           "NZ"
          ],
          [
           "puerto natales",
           "Dorotea Patagonia Hostel",
           "CL"
          ],
          [
           "codrington",
           "No hotel found",
           "AU"
          ],
          [
           "male",
           "Champa Central Hotel",
           "MV"
          ],
          [
           "iqaluit",
           "Frobisher Inn",
           "CA"
          ],
          [
           "vadso",
           "Scandic Vadsø",
           "NO"
          ],
          [
           "paramonga",
           "Hotel Rico",
           "PE"
          ],
          [
           "porto novo",
           "Hôtel 6500 CFA",
           "BJ"
          ],
          [
           "puerto baquerizo moreno",
           "Dory's House",
           "EC"
          ],
          [
           "siwa oasis",
           "فندق الكيلانى",
           "EG"
          ],
          [
           "margaret river",
           "Margaret River Hotel",
           "AU"
          ],
          [
           "lakatoro",
           "No hotel found",
           "VU"
          ],
          [
           "whitehorse",
           "Town & Mountain Hotel",
           "CA"
          ],
          [
           "balykshi",
           "Арасан",
           "KZ"
          ],
          [
           "gonbad-e kavus",
           "هتل قابوس",
           "IR"
          ],
          [
           "tambovka",
           "No hotel found",
           "RU"
          ],
          [
           "stanley",
           "Hotel 52",
           "GB"
          ],
          [
           "grand-bassam",
           "Hôtel 3G",
           "CI"
          ],
          [
           "olonkinbyen",
           "No hotel found",
           "SJ"
          ],
          [
           "mujiayingzi",
           "No hotel found",
           "CN"
          ],
          [
           "lompoc",
           "Embassy Suites by Hilton Lompoc Central Coast",
           "US"
          ],
          [
           "sidi ifni",
           "Hotel Ére Nouvelle",
           "MA"
          ],
          [
           "kingston",
           "Aphrodite Hotel",
           "JM"
          ],
          [
           "mandalgovi",
           "Б",
           "MN"
          ],
          [
           "aasiaat",
           "SØMA",
           "GL"
          ],
          [
           "sao jose da coroa grande",
           "Hotel do Sol",
           "BR"
          ],
          [
           "shitanjing",
           "No hotel found",
           "CN"
          ],
          [
           "boa vista",
           "Aipana Plaza Hotel",
           "BR"
          ],
          [
           "novaya igirma",
           "Тайга",
           "RU"
          ],
          [
           "tiksi",
           "Арктика",
           "RU"
          ],
          [
           "pangai",
           "Billy's Place",
           "TO"
          ],
          [
           "melekeok village",
           "No hotel found",
           "PW"
          ],
          [
           "yellowknife",
           "No hotel found",
           "CA"
          ],
          [
           "pamanukan",
           "No hotel found",
           "ID"
          ],
          [
           "kapa'a",
           "Pono Kai Resort",
           "US"
          ],
          [
           "port lincoln",
           "Boston Hotel",
           "AU"
          ],
          [
           "behshahr",
           "هتل اشرف",
           "IR"
          ],
          [
           "taoudenni",
           "No hotel found",
           "ML"
          ],
          [
           "ancud",
           "Cabañas",
           "CL"
          ],
          [
           "bac lieu",
           "Khách sạn Bạc Liêu",
           "VN"
          ],
          [
           "cockburn town",
           "The Salt Raker Inn",
           "TC"
          ],
          [
           "pitimbu",
           "Pousada Brisa Mar",
           "BR"
          ],
          [
           "blackmans bay",
           "Villa Howden",
           "AU"
          ],
          [
           "hamilton",
           "North Vista Manor",
           "US"
          ],
          [
           "fort bragg",
           "Airborne Inn Lodging",
           "US"
          ],
          [
           "bethel",
           "Hampton Inn Danbury",
           "US"
          ],
          [
           "saldanha",
           "Hoedjesbaai",
           "ZA"
          ],
          [
           "chibougamau",
           "No hotel found",
           "CA"
          ],
          [
           "treasure island",
           "Thunderbird Beach Resort",
           "US"
          ],
          [
           "manaure",
           "hotel palaima",
           "CO"
          ],
          [
           "vorkuta",
           "\"Мегаполис\"",
           "RU"
          ],
          [
           "hawaiian paradise park",
           "No hotel found",
           "US"
          ],
          [
           "xining",
           "Qinghai hotel",
           "CN"
          ],
          [
           "tindouf",
           "محمد بوسبي",
           "DZ"
          ],
          [
           "kyzyl-mazhalyk",
           "No hotel found",
           "RU"
          ],
          [
           "salym",
           "Каравани",
           "RU"
          ],
          [
           "saipan",
           "Chalan Kanoa Beach Hotel",
           "MP"
          ],
          [
           "shakiso",
           "No hotel found",
           "ET"
          ],
          [
           "talodi",
           "No hotel found",
           "SD"
          ],
          [
           "palikir - national government center",
           "Mangrove Bay Hotel",
           "FM"
          ],
          [
           "chauk",
           "Royal Chauk",
           "MM"
          ],
          [
           "isafjordur",
           "Hótel Horn",
           "IS"
          ],
          [
           "salmas",
           "هتل آتا",
           "IR"
          ],
          [
           "hotan",
           "Hua Yi International Hotel (accepts foreigners)",
           "CN"
          ],
          [
           "pisco",
           "La Portada",
           "PE"
          ],
          [
           "cambridge",
           "Travelodge",
           "CA"
          ],
          [
           "bubaque",
           "Chez Julio",
           "GW"
          ],
          [
           "mogocha",
           "7Ka",
           "RU"
          ],
          [
           "alofi",
           "Matavai Resort",
           "NU"
          ],
          [
           "talnakh",
           "Талнах",
           "RU"
          ],
          [
           "uturoa",
           "Hawaiki Nui hotel",
           "PF"
          ],
          [
           "bodo",
           "Zefyr hotell",
           "NO"
          ],
          [
           "punta arenas",
           "Hotel Lacolet",
           "CL"
          ],
          [
           "karor",
           "No hotel found",
           "PK"
          ],
          [
           "klaksvik",
           "Hotel Klaksvik",
           "FO"
          ],
          [
           "nouadhibou",
           "Hotel valencia",
           "MR"
          ],
          [
           "ola",
           "No hotel found",
           "RU"
          ],
          [
           "labytnangi",
           "Семь лиственниц",
           "RU"
          ],
          [
           "kingscliff",
           "Kingscliff Beach Hotel",
           "AU"
          ],
          [
           "chuguyevka",
           "No hotel found",
           "RU"
          ],
          [
           "qaqortoq",
           "Hotel Qaqortoq",
           "GL"
          ],
          [
           "keflavik",
           "Núpan Deluxe",
           "IS"
          ],
          [
           "tot'ma",
           "No hotel found",
           "RU"
          ],
          [
           "mana",
           "Le Samana",
           "GF"
          ],
          [
           "mhamid",
           "Hotel Kasbah Azalay",
           "MA"
          ],
          [
           "arno",
           "Pensionat Grisslehamns",
           "SE"
          ],
          [
           "dumbea",
           "Hôtel Quality Resort Rivland",
           "NC"
          ],
          [
           "the bottom",
           "Queen's Garden Resort",
           "BQ"
          ],
          [
           "glace bay",
           "No hotel found",
           "CA"
          ],
          [
           "ostersund",
           "Hotell Stortorget",
           "SE"
          ],
          [
           "chui",
           "Alerces",
           "UY"
          ],
          [
           "sechura",
           "Maximus Inn",
           "PE"
          ],
          [
           "loncoche",
           "Loncoche",
           "CL"
          ],
          [
           "mora",
           "Hôtel Podoko",
           "CM"
          ],
          [
           "jamestown",
           "DoubleTree Jamestown",
           "US"
          ],
          [
           "ciudad mante",
           "Hotel zaens",
           "MX"
          ],
          [
           "alice springs",
           "Aurora Alice Springs",
           "AU"
          ],
          [
           "ciudad del maiz",
           "No hotel found",
           "MX"
          ],
          [
           "las tablas",
           "Hotel Don Jesus",
           "PA"
          ],
          [
           "vilyuchinsk",
           "Победа",
           "RU"
          ],
          [
           "bonthe",
           "No hotel found",
           "SL"
          ],
          [
           "newman",
           "No hotel found",
           "US"
          ],
          [
           "zaozersk",
           "Северное сияние",
           "RU"
          ],
          [
           "tazacorte",
           "App Leyma",
           "ES"
          ],
          [
           "oyama",
           "東横イン 小山駅東口1",
           "JP"
          ],
          [
           "sao joao da barra",
           "Pousada Mediterrâneo",
           "BR"
          ],
          [
           "kattivakkam",
           "No hotel found",
           "IN"
          ],
          [
           "kisangani",
           "Hotel Kisangani",
           "CD"
          ],
          [
           "turkmenbasy",
           "Türkmenbaşy Oteli",
           "TM"
          ],
          [
           "hami",
           "Хами",
           "CN"
          ],
          [
           "bir el ater",
           "فندق الشفيق",
           "DZ"
          ],
          [
           "ovalle",
           "Hotel Roxy",
           "CL"
          ],
          [
           "iskateley",
           "Авантаж",
           "RU"
          ],
          [
           "thompson",
           "Thompson Inn",
           "CA"
          ],
          [
           "mount gambier",
           "The Old Mount Gambier Gaol",
           "AU"
          ],
          [
           "jayapura",
           "Hotel Jasmine Jayapura",
           "ID"
          ],
          [
           "nuuk",
           "Nordbo",
           "GL"
          ],
          [
           "anadyr",
           "Гостевой дом",
           "RU"
          ],
          [
           "portland",
           "the Hoxton",
           "US"
          ],
          [
           "balabac",
           "No hotel found",
           "PH"
          ],
          [
           "naze",
           "ビジネス旅館畠山",
           "JP"
          ],
          [
           "avarua",
           "Paradise Inn",
           "CK"
          ],
          [
           "yeed",
           "No hotel found",
           "SO"
          ],
          [
           "nyurba",
           "Марина",
           "RU"
          ],
          [
           "howard springs",
           "No hotel found",
           "AU"
          ],
          [
           "tandalti",
           "No hotel found",
           "SD"
          ],
          [
           "east london",
           "No hotel found",
           "ZA"
          ],
          [
           "lagunas",
           "Hospedaje Eco",
           "PE"
          ],
          [
           "okhotsk",
           "No hotel found",
           "RU"
          ],
          [
           "arti",
           "No hotel found",
           "RU"
          ],
          [
           "patterson",
           "Hampton Inn & Suites",
           "US"
          ],
          [
           "dudinka",
           "Виктория",
           "RU"
          ],
          [
           "george town",
           "Page 63 hostel",
           "MY"
          ],
          [
           "loen",
           "No hotel found",
           "MH"
          ],
          [
           "sorong",
           "Hotel Membramo Marina",
           "ID"
          ],
          [
           "sen monorom",
           "Pich Tevy",
           "KH"
          ],
          [
           "chamical",
           "No hotel found",
           "AR"
          ],
          [
           "yerofey pavlovich",
           "No hotel found",
           "RU"
          ],
          [
           "gadzhiyevo",
           "Оазис",
           "RU"
          ],
          [
           "utrik",
           "No hotel found",
           "MH"
          ],
          [
           "jinhua",
           "邮苑宾馆",
           "CN"
          ],
          [
           "coahuayana de hidalgo",
           "No hotel found",
           "MX"
          ],
          [
           "pangody",
           "Газпром энерго",
           "RU"
          ],
          [
           "port mathurin",
           "Escale Vacances",
           "MU"
          ],
          [
           "la'ie",
           "No hotel found",
           "US"
          ],
          [
           "greymouth",
           "Recreation Hotel",
           "NZ"
          ],
          [
           "lazaro cardenas",
           "Hotel Sol del Pacífico",
           "MX"
          ],
          [
           "westport",
           "Norwalk Inn and Conference Center",
           "US"
          ],
          [
           "magnitogorsk",
           "Лагуна",
           "RU"
          ],
          [
           "santana",
           "Hotel Teodoro",
           "BR"
          ],
          [
           "akureyri",
           "Hótel Norðurland",
           "IS"
          ],
          [
           "alto araguaia",
           "Hotel Araguaia",
           "BR"
          ],
          [
           "tyukhtet",
           "No hotel found",
           "RU"
          ],
          [
           "kamaishi",
           "釜石ベイシティホテル",
           "JP"
          ],
          [
           "mitsamiouli",
           "Hotel le Paradis",
           "KM"
          ],
          [
           "touros",
           "Pousada Atlântico",
           "BR"
          ],
          [
           "ghormach",
           "No hotel found",
           "AF"
          ],
          [
           "sitka",
           "Aspen Suites Hotel",
           "US"
          ],
          [
           "san andres",
           "Hotel Decameron Isleño",
           "CO"
          ],
          [
           "lata",
           "Residencial Botânico",
           "PT"
          ],
          [
           "piritiba",
           "No hotel found",
           "BR"
          ],
          [
           "bamboo flat",
           "Hotel Megapode Nest",
           "IN"
          ],
          [
           "kavieng",
           "Kavieng Hotel",
           "PG"
          ],
          [
           "flying fish cove",
           "Christmas Island Lodge",
           "CX"
          ],
          [
           "chojna",
           "No hotel found",
           "PL"
          ],
          [
           "zavitinsk",
           "Люкс",
           "RU"
          ],
          [
           "pyinmana",
           "Myint Myat Hotel",
           "MM"
          ],
          [
           "mil'kovo",
           "Дрозды",
           "RU"
          ],
          [
           "sangod",
           "No hotel found",
           "IN"
          ],
          [
           "melfi",
           "Hotel Due Pini",
           "IT"
          ],
          [
           "onokhoy",
           "No hotel found",
           "RU"
          ],
          [
           "san luis de la loma",
           "No hotel found",
           "MX"
          ],
          [
           "mar del plata",
           "Gran hotel Mónaco",
           "AR"
          ],
          [
           "samana",
           "Hotel Cotubanamá",
           "DO"
          ],
          [
           "allapalli",
           "No hotel found",
           "IN"
          ],
          [
           "brokopondo",
           "Matu eiland",
           "SR"
          ],
          [
           "maymana",
           "No hotel found",
           "AF"
          ],
          [
           "romanovo",
           "No hotel found",
           "RU"
          ],
          [
           "daru",
           "Kuki",
           "PG"
          ],
          [
           "constantia",
           "Hotel Chérica",
           "RO"
          ],
          [
           "galliano",
           "Fairfield Inn & Suites by Marriott Cut Off-Galliano",
           "US"
          ],
          [
           "egilsstadir",
           "Valaskjálf",
           "IS"
          ],
          [
           "chabahar",
           "هتل سپیده",
           "IR"
          ],
          [
           "namtsy",
           "No hotel found",
           "RU"
          ],
          [
           "goksun",
           "Göksun Öğretmenevi",
           "TR"
          ],
          [
           "vorgashor",
           "София",
           "RU"
          ],
          [
           "camana",
           "Caja Arequipa",
           "PE"
          ],
          [
           "malango",
           "Madarana",
           "ID"
          ],
          [
           "riberalta",
           "Hotel Jomali",
           "BO"
          ],
          [
           "praia da vitoria",
           "Salles",
           "PT"
          ],
          [
           "forster",
           "No hotel found",
           "AU"
          ],
          [
           "quatre cocos",
           "Horisun",
           "MU"
          ],
          [
           "remire-montjoly",
           "Complexe Belova",
           "GF"
          ],
          [
           "mount isa",
           "Ibis Styles",
           "AU"
          ],
          [
           "caconda",
           "No hotel found",
           "AO"
          ],
          [
           "port moresby",
           "The Sanctuary Hotel and Spa",
           "PG"
          ],
          [
           "saladan",
           "KoHub Apartments",
           "TH"
          ],
          [
           "cadale",
           "No hotel found",
           "SO"
          ],
          [
           "ha'il",
           "فندق كلاسيك",
           "SA"
          ],
          [
           "kodinsk",
           "Ангара",
           "RU"
          ],
          [
           "kota kinabalu",
           "Cititel Express",
           "MY"
          ],
          [
           "port alfred",
           "No hotel found",
           "ZA"
          ],
          [
           "mumford",
           "Blue Diamond Beach Spa Resort",
           "GH"
          ],
          [
           "minas de marcona",
           "No hotel found",
           "PE"
          ],
          [
           "veraval",
           "Shyam",
           "IN"
          ],
          [
           "muttupet",
           "No hotel found",
           "IN"
          ],
          [
           "jacobina",
           "Hotel Jovem Jota",
           "BR"
          ],
          [
           "wynyard",
           "Wynyard Hotel",
           "AU"
          ],
          [
           "ilhabela",
           "Vila Kebaya",
           "BR"
          ],
          [
           "gobabis",
           "Kalahari Convention Centre Hotel",
           null
          ],
          [
           "tonekabon",
           "ساختمان پارسیان ۲",
           "IR"
          ],
          [
           "midvagur",
           "GiljaHome",
           "FO"
          ],
          [
           "krasyliv",
           "Парадіс",
           "UA"
          ],
          [
           "capela do alto",
           "Hotel Fazenda Reviver",
           "BR"
          ],
          [
           "molalla",
           "The Prairie House Inn",
           "US"
          ],
          [
           "hermanus",
           "Aloe guest house",
           "ZA"
          ],
          [
           "tadjourah",
           "No hotel found",
           "DJ"
          ],
          [
           "port macquarie",
           "The Observatory",
           "AU"
          ],
          [
           "longyearbyen",
           "The Vault",
           "SJ"
          ],
          [
           "port elizabeth",
           "Waterford Hotel",
           "ZA"
          ],
          [
           "san antonio de pale",
           "No hotel found",
           "GQ"
          ],
          [
           "kralendijk",
           "Hotel Bonaire Inn",
           "BQ"
          ],
          [
           "kalabo",
           "Golden Lodge Luxury Acomodation",
           "ZM"
          ],
          [
           "pieksamaki",
           "Ysihotelli",
           "FI"
          ],
          [
           "santa sylvina",
           "No hotel found",
           "AR"
          ],
          [
           "labrador city",
           "Carol Inn",
           "CA"
          ],
          [
           "guantanamo",
           "Hotel Martí",
           "CU"
          ],
          [
           "lefkada",
           "Ianos",
           "GR"
          ],
          [
           "menaka",
           "No hotel found",
           "ML"
          ],
          [
           "kill devil hills",
           "Mariner Days Inn & Suites",
           "US"
          ],
          [
           "benguela",
           "Hotel Moibela",
           "AO"
          ],
          [
           "undurkhaan",
           "Khanburged Hotel",
           "MN"
          ],
          [
           "tejen",
           "Tejen Myhmanhanasy",
           "TM"
          ],
          [
           "lys'va",
           "\"Асоль\"",
           "RU"
          ],
          [
           "klyuchi",
           "No hotel found",
           "RU"
          ],
          [
           "salalah",
           "Muscat International Hotel",
           "OM"
          ],
          [
           "beira",
           "Hotel Savoy",
           "MZ"
          ],
          [
           "cartagena del chaira",
           "Los Corceles",
           "CO"
          ],
          [
           "bratsk",
           "Три кита",
           "RU"
          ],
          [
           "altay",
           "Sunshine Holiday Hotel",
           "CN"
          ],
          [
           "pyapon",
           "No hotel found",
           "MM"
          ],
          [
           "al ghayzah",
           "فندق تاج العرب",
           "YE"
          ],
          [
           "kapuskasing",
           "Travelodge",
           "CA"
          ],
          [
           "karymskoye",
           "No hotel found",
           "RU"
          ],
          [
           "ust'-kulom",
           "No hotel found",
           "RU"
          ],
          [
           "bengkulu",
           "Dena Hotel",
           "ID"
          ],
          [
           "ilulissat",
           "Best Western Plus Hotel Ilulissat",
           "GL"
          ],
          [
           "impfondo",
           "Tropicana",
           "CG"
          ],
          [
           "sandakan",
           "Hotel City Star",
           "MY"
          ],
          [
           "bhamo",
           "Winlight Hotel",
           "MM"
          ],
          [
           "broken hill",
           "Ibis Styles",
           "AU"
          ],
          [
           "geraldton",
           "Ocean Centre Hotel",
           "AU"
          ],
          [
           "turbat",
           "No hotel found",
           "PK"
          ],
          [
           "la passe",
           "L'Estuaire",
           "FR"
          ],
          [
           "narra",
           "Jose Liza Pension",
           "PH"
          ],
          [
           "kutahya",
           "Hilton Garden Inn Kutahya",
           "TR"
          ],
          [
           "rongelap",
           "No hotel found",
           "MH"
          ],
          [
           "sokolow podlaski",
           "Pokoje Gościnne Bar Sokół",
           "PL"
          ],
          [
           "kourou",
           "SCI Horizon",
           "GF"
          ],
          [
           "mukalla",
           "فندق الجابري",
           "YE"
          ],
          [
           "kolonia",
           "Wasserturm Hotel Cologne",
           "DE"
          ],
          [
           "badger",
           "Hotel North Pole",
           "US"
          ],
          [
           "tucupita",
           "Hotel salma suit",
           "VE"
          ],
          [
           "buala",
           "No hotel found",
           "SB"
          ],
          [
           "sanya",
           "Хубаёши",
           "CN"
          ],
          [
           "san patricio",
           "No hotel found",
           "US"
          ],
          [
           "puerto deseado",
           "Los Olmos",
           "AR"
          ],
          [
           "atafu village",
           "No hotel found",
           "TK"
          ],
          [
           "kaitong",
           "No hotel found",
           "CN"
          ],
          [
           "santa cruz",
           "Aviador Hotel Boutique",
           "BO"
          ],
          [
           "lai chau",
           "Minh Tuan Hotel",
           "VN"
          ],
          [
           "kohat",
           "No hotel found",
           "PK"
          ],
          [
           "fale old settlement",
           "No hotel found",
           "TK"
          ],
          [
           "el granada",
           "Beach House",
           "US"
          ],
          [
           "susuman",
           "No hotel found",
           "RU"
          ],
          [
           "aykhal",
           "Уют",
           "RU"
          ],
          [
           "havre",
           "Le Relais des 2 Normandies",
           "FR"
          ],
          [
           "sandnessjoen",
           "Scandic Syv Søstre",
           "NO"
          ],
          [
           "colon",
           "Hotel Plaza",
           "PA"
          ],
          [
           "ust-nera",
           "гостиница \"Солнечная\"",
           "RU"
          ],
          [
           "berd",
           "Utiq",
           "AM"
          ],
          [
           "nema",
           "No hotel found",
           "RU"
          ],
          [
           "alto lucero",
           "Cantil",
           "MX"
          ],
          [
           "al bardiyah",
           "فندق البردي",
           "LY"
          ],
          [
           "alta sierra",
           "No hotel found",
           "US"
          ],
          [
           "red chute",
           "Harrah's Louisiana Downs",
           "US"
          ],
          [
           "saint-pierre",
           "Tropic Hotel",
           "RE"
          ],
          [
           "bondo",
           "No hotel found",
           "CD"
          ],
          [
           "tangalle",
           "Coco Tangalla",
           "LK"
          ],
          [
           "tolanaro",
           "Hôtel Mahavokey",
           "MG"
          ],
          [
           "filingue",
           "No hotel found",
           "NE"
          ],
          [
           "amboasary",
           "No hotel found",
           "MG"
          ],
          [
           "gorgan",
           "هتل خیام",
           "IR"
          ],
          [
           "narsingi",
           "No hotel found",
           "IN"
          ],
          [
           "santa ana",
           "Holiday Inn Express",
           "US"
          ],
          [
           "aksu",
           "Akesu Tianyuan International Hotel",
           "CN"
          ],
          [
           "altinyayla",
           "No hotel found",
           "TR"
          ],
          [
           "ihosy",
           "No hotel found",
           "MG"
          ],
          [
           "dryden",
           "Holiday Inn Express",
           "CA"
          ],
          [
           "port douglas",
           "Mantra Aqueous Port Douglas",
           "AU"
          ],
          [
           "jumri tilaiya",
           "No hotel found",
           "IN"
          ],
          [
           "mambajao",
           "GV Hotel Camigun",
           "PH"
          ],
          [
           "nayoro",
           "Hotel MyStays Nayoro",
           "JP"
          ],
          [
           "chibuto",
           "DESHENG",
           "MZ"
          ],
          [
           "fukuyama",
           "nhập cty",
           "JP"
          ],
          [
           "luga",
           "Луга",
           "RU"
          ],
          [
           "ziro",
           "No hotel found",
           "IN"
          ],
          [
           "port blair",
           "Andaman Ocean Breeze",
           "IN"
          ],
          [
           "howrah",
           "Sun India Guest House",
           "IN"
          ],
          [
           "tual",
           "Suita",
           "ID"
          ],
          [
           "brookings",
           "Quality Inn",
           "US"
          ],
          [
           "sosnovo-ozerskoye",
           "Озёрная",
           "RU"
          ],
          [
           "nehe",
           "No hotel found",
           "CN"
          ],
          [
           "antofagasta",
           "Hotel Colón",
           "CL"
          ],
          [
           "tamanrasset",
           "فندق الأمان",
           "DZ"
          ],
          [
           "itamaraca",
           "No hotel found",
           "BR"
          ],
          [
           "bucerias",
           "Royal Decameron Complex",
           "MX"
          ],
          [
           "villa gesell",
           "Hotel El Faro",
           "AR"
          ],
          [
           "verkhnevilyuysk",
           "No hotel found",
           "RU"
          ],
          [
           "selfoss",
           "Miðgarður",
           "IS"
          ],
          [
           "coquimbo",
           "Hotel Iberia",
           "CL"
          ],
          [
           "west wodonga",
           "Quest Apartments",
           "AU"
          ],
          [
           "rujewa",
           "No hotel found",
           "TZ"
          ],
          [
           "acapulco de juarez",
           "Hotel del Valle",
           "MX"
          ],
          [
           "kirensk",
           "Ивушка",
           "RU"
          ],
          [
           "nagqu",
           "Naqu Hotel",
           "CN"
          ],
          [
           "fort st. john",
           "Fort St. John Motor Inn",
           "CA"
          ],
          [
           "dalton",
           "Days Inn",
           "US"
          ],
          [
           "sydney",
           "The Fullerton Hotel",
           "AU"
          ],
          [
           "inari",
           "Villa Lanca",
           "FI"
          ],
          [
           "kruisfontein",
           "No hotel found",
           "ZA"
          ],
          [
           "zouerate",
           "فندق تيرس زمور",
           "MR"
          ],
          [
           "santiago del torno",
           "Jhoni",
           "BO"
          ],
          [
           "mettur",
           "Tamilnadu Mettur",
           "IN"
          ],
          [
           "dunda",
           "No hotel found",
           "TZ"
          ],
          [
           "chulakkurgan",
           "адеми",
           "KZ"
          ],
          [
           "shenjiamen",
           "Zhonghan Hotel",
           "CN"
          ],
          [
           "ulety",
           "No hotel found",
           "RU"
          ],
          [
           "oranjemund",
           "Op My Stoep",
           null
          ],
          [
           "chonchi",
           "Hotel Huildín",
           "CL"
          ],
          [
           "choibalsan",
           "Зүүн Ордон Зочид Буудал",
           "MN"
          ],
          [
           "mytilene",
           "ΛΑ ΜΙΡΑΖ",
           "GR"
          ],
          [
           "pasighat",
           "Aane Hotel",
           "IN"
          ],
          [
           "prainha",
           "No hotel found",
           "BR"
          ],
          [
           "ciudad lazaro cardenas",
           "Hotel Sol del Pacífico",
           "MX"
          ],
          [
           "viedma",
           "Níjar",
           "AR"
          ],
          [
           "arkhangel'sk",
           "Серафима",
           "RU"
          ],
          [
           "peterhead",
           "Albert Hotel",
           "GB"
          ],
          [
           "pabrade",
           "No hotel found",
           "LT"
          ],
          [
           "khovd",
           "Khovd hotel",
           "MN"
          ],
          [
           "kiunga",
           "No hotel found",
           "PG"
          ],
          [
           "corinto",
           "Apollon",
           "GR"
          ],
          [
           "banda aceh",
           "Hotel 61",
           "ID"
          ],
          [
           "bolhrad",
           "Кооператор",
           "UA"
          ],
          [
           "kismayo",
           "Kismayo Hotel",
           "SO"
          ],
          [
           "kavaratti",
           "No hotel found",
           "IN"
          ],
          [
           "ceerigaabo",
           "Sanaag Hotel",
           "SO"
          ],
          [
           "weno",
           "High Tide Hotel",
           "FM"
          ],
          [
           "serres",
           "Hotel Galaxy",
           "GR"
          ],
          [
           "taulaga",
           "No hotel found",
           "AS"
          ],
          [
           "kalmunai",
           "Saji new food",
           "LK"
          ],
          [
           "bastrop",
           "No hotel found",
           "US"
          ],
          [
           "inhambane",
           "Hotel de Inhambane",
           "MZ"
          ],
          [
           "wickenburg",
           "Best Western Rancho Grande",
           "US"
          ],
          [
           "cheongsong gun",
           "주왕산온천관광호텔",
           "KR"
          ],
          [
           "changuinola",
           "Goden Sahara",
           "PA"
          ],
          [
           "nova sintra",
           "Residência Ka Dencho",
           "CV"
          ],
          [
           "kindu",
           "No hotel found",
           "CD"
          ],
          [
           "marat",
           "No hotel found",
           "SA"
          ],
          [
           "camocim",
           "Hotel Camocim",
           "BR"
          ],
          [
           "margate",
           "The Reading Rooms",
           "GB"
          ],
          [
           "lido adriano",
           "Azzurra",
           "IT"
          ],
          [
           "paka",
           "Paka Inn",
           "MY"
          ],
          [
           "san pedro",
           "Hotel Takara",
           "PH"
          ],
          [
           "arraial do cabo",
           "No hotel found",
           "BR"
          ],
          [
           "santo antonio do ica",
           "No hotel found",
           "BR"
          ],
          [
           "luganville",
           "Beachfront Resort",
           "VU"
          ],
          [
           "xinzhi",
           "No hotel found",
           "CN"
          ],
          [
           "leer",
           "Hotel Hafenspeicher",
           "DE"
          ],
          [
           "unai",
           "Hotel Fazenda Curva do Rio",
           "BR"
          ],
          [
           "freetown",
           "Formal Leona hotel",
           "SL"
          ],
          [
           "xishan",
           "Dongfeng",
           "CN"
          ],
          [
           "okha",
           "Сфера",
           "RU"
          ],
          [
           "kharabali",
           "No hotel found",
           "RU"
          ],
          [
           "island harbour",
           "Premier Inn",
           "GB"
          ],
          [
           "kuusamo",
           "Holiday Club Kuusamon Tropiikki",
           "FI"
          ],
          [
           "vila velha",
           "Hotel Prainha",
           "BR"
          ],
          [
           "lensk",
           "No hotel found",
           "RU"
          ],
          [
           "thayetmyo",
           "No hotel found",
           "MM"
          ],
          [
           "nar'yan-mar",
           "Гостиница \"Агат\"",
           "RU"
          ],
          [
           "kaa-khem",
           "No hotel found",
           "RU"
          ],
          [
           "palmas",
           "Hotel Triângulo Mineiro",
           "BR"
          ],
          [
           "kemijarvi",
           "Hotelli Kemijärvi",
           "FI"
          ],
          [
           "hithadhoo",
           "Pebbles Inn",
           "MV"
          ],
          [
           "gobindpur",
           "No hotel found",
           "IN"
          ],
          [
           "huaicheng",
           "No hotel found",
           "CN"
          ],
          [
           "axim",
           "Axim Beach Hotel",
           "GH"
          ],
          [
           "laxey",
           "Groudle Glen Cottages",
           "IM"
          ],
          [
           "acarau",
           "No hotel found",
           "BR"
          ],
          [
           "chipinge",
           "No hotel found",
           "ZW"
          ],
          [
           "inarajan village",
           "No hotel found",
           "GU"
          ],
          [
           "santa ana de yacuma",
           "No hotel found",
           "BO"
          ],
          [
           "frontera",
           "Quirino",
           "MX"
          ],
          [
           "larkird",
           "No hotel found",
           "AF"
          ],
          [
           "holualoa",
           "Kona Hotel",
           "US"
          ],
          [
           "vilyuysk",
           "Мария",
           "RU"
          ],
          [
           "katima mulilo",
           "Zambezi River Lodge",
           null
          ],
          [
           "mugia",
           "Solpor do Coído",
           "ES"
          ],
          [
           "igra",
           "Сутэро",
           "RU"
          ],
          [
           "darwin",
           "Mantra Pantanas Darwin",
           "AU"
          ],
          [
           "katsuura",
           "潮騒の宿",
           "JP"
          ],
          [
           "qamdo",
           "银杏商务宾馆",
           "CN"
          ],
          [
           "farim",
           "No hotel found",
           "GW"
          ],
          [
           "calama",
           "Apart Hotel Geotel Calama",
           "CL"
          ],
          [
           "tocopilla",
           "hotel Isidora",
           "CL"
          ],
          [
           "murun-kuren",
           "No hotel found",
           "MN"
          ],
          [
           "hastings",
           "White Rock Hotel",
           "GB"
          ],
          [
           "lamu",
           "Hotel Archipelago villa bed and breakfast",
           "KE"
          ],
          [
           "nuku'alofa",
           "City Hotel",
           "TO"
          ],
          [
           "lionel town",
           "No hotel found",
           "JM"
          ],
          [
           "al jawf",
           "No hotel found",
           "SA"
          ],
          [
           "ilava",
           "Hotel Moravec",
           "SK"
          ],
          [
           "xilin hot",
           "Hotel hailibu 120",
           "CN"
          ],
          [
           "kem'",
           "Кемь",
           "RU"
          ],
          [
           "suwannaphum",
           "Suwan Hotel & Resort",
           "TH"
          ],
          [
           "haiku-pauwela",
           "Inn At Mama's Fish House",
           "US"
          ],
          [
           "sainte-anne-des-monts",
           "Hotel et Cie",
           "CA"
          ],
          [
           "mahina",
           "Motu Martin",
           "PF"
          ],
          [
           "lahat",
           "No hotel found",
           "ID"
          ],
          [
           "sisimiut",
           "Sømandshjemmet",
           "GL"
          ],
          [
           "aver-o-mar",
           "Hotel Santo André",
           "PT"
          ],
          [
           "luderitz",
           "Seaview Hotel Zum Sperrgebiet",
           null
          ],
          [
           "ratnagiri",
           "Vihar",
           "IN"
          ],
          [
           "mbale",
           "No hotel found",
           "UG"
          ],
          [
           "kenai",
           "Beluga Lookout Hotel",
           "US"
          ],
          [
           "pruzhany",
           "Мухавец",
           "BY"
          ],
          [
           "poronaysk",
           "No hotel found",
           "RU"
          ],
          [
           "rangkasbitung",
           "Wisma Sugri",
           "ID"
          ],
          [
           "hakui",
           "ビジネスホテル羽音碧々",
           "JP"
          ],
          [
           "shalqar",
           "Бекнур",
           "KZ"
          ],
          [
           "paraty",
           "Solar dos Gerânios",
           "BR"
          ],
          [
           "khenchela",
           "نزل طارق ابن زياد",
           "DZ"
          ],
          [
           "urangan",
           "Ramada",
           "AU"
          ],
          [
           "trairi",
           "Pousada Villa Aurora",
           "BR"
          ],
          [
           "shar",
           "Бейсенов",
           "KZ"
          ],
          [
           "lerwick",
           "Grand Hotel",
           "GB"
          ],
          [
           "imperia",
           "Agriturismo L'Adagio",
           "IT"
          ],
          [
           "rio gallegos",
           "Amérian Río Gallegos Apart & Suites",
           "AR"
          ],
          [
           "port hedland",
           "The Esplanade Hotel",
           "AU"
          ],
          [
           "puan",
           "벨리노호텔",
           "KR"
          ],
          [
           "kone",
           "Pacifik Appartels",
           "NC"
          ],
          [
           "aripuana",
           "No hotel found",
           "BR"
          ],
          [
           "alaghsas",
           "Hôtel Zagado",
           "NE"
          ],
          [
           "kostyantynivka",
           "Готель \"Схід\"",
           "UA"
          ],
          [
           "rabo de peixe",
           "Pico do Refugio",
           "PT"
          ],
          [
           "sao vicente",
           "Pousada Vitória",
           "BR"
          ],
          [
           "city of balikpapan",
           "Hotel Djang Djaya 2",
           "ID"
          ],
          [
           "colchani",
           "Hotel de Sal - Sol de Mañana",
           "BO"
          ],
          [
           "mareeba",
           "The Gateway Hotel",
           "AU"
          ],
          [
           "ati",
           "No hotel found",
           "TD"
          ],
          [
           "chadan",
           "Жарки",
           "RU"
          ],
          [
           "sabang",
           "Sabang Hill",
           "ID"
          ],
          [
           "camas",
           "Hostal El Madero",
           "ES"
          ],
          [
           "ulsteinvik",
           "Quality Hotel Ulstein",
           "NO"
          ],
          [
           "dunedin",
           "Scenic Hotel Dunedin City",
           "NZ"
          ],
          [
           "tofol",
           "Nautilus Resort",
           "FM"
          ],
          [
           "shache",
           "莎車新盛賓舘",
           "CN"
          ],
          [
           "porbandar",
           "Toran Tourist Bungalow",
           "IN"
          ],
          [
           "plettenberg bay",
           "Milkwood Manor",
           "ZA"
          ],
          [
           "kehychivka",
           "Статус",
           "UA"
          ],
          [
           "gillette",
           "Montgomery Hotel",
           "US"
          ],
          [
           "karrapur",
           "No hotel found",
           "IN"
          ],
          [
           "levuka",
           "No hotel found",
           "CA"
          ],
          [
           "dzhangala",
           "Жаңақала ЛПУ жатақханасы",
           "KZ"
          ],
          [
           "wynne",
           "No hotel found",
           "US"
          ],
          [
           "mtwara",
           "Newala Guest House",
           "TZ"
          ],
          [
           "kintinku",
           "No hotel found",
           "TZ"
          ],
          [
           "pangkalpinang",
           "Renz Hotel",
           "ID"
          ],
          [
           "shihezi",
           "石河子宾馆",
           "CN"
          ],
          [
           "cole harbour",
           "Hearthstone Inn Boutique Hotel Dartmouth/Halifax",
           "CA"
          ],
          [
           "fujin",
           "No hotel found",
           "CN"
          ],
          [
           "altamont",
           "Quality Inn",
           "US"
          ],
          [
           "el bauga",
           "No hotel found",
           "SD"
          ],
          [
           "guerrero negro",
           "Plaza sal paraiso",
           "MX"
          ],
          [
           "tiebo",
           "Auberge Confiance",
           "SN"
          ],
          [
           "shulan",
           "No hotel found",
           "CN"
          ],
          [
           "farafangana",
           "Le Concombre Masqué",
           "MG"
          ],
          [
           "zhaotong",
           "Autumn Hotel",
           "CN"
          ],
          [
           "bardai",
           "No hotel found",
           "NG"
          ],
          [
           "saint-joseph",
           "PALM Hotel & Spa",
           "RE"
          ],
          [
           "kayangel",
           "No hotel found",
           "PW"
          ],
          [
           "yorosso",
           "No hotel found",
           "ML"
          ],
          [
           "serdar",
           "Chynar Hotel",
           "TM"
          ],
          [
           "ta`u",
           "No hotel found",
           "AS"
          ]
         ],
         "geo": "geo",
         "hovertemplate": "<b>%{hovertext}</b><br>Hotel: %{customdata[0]}<br>Country: %{customdata[1]}",
         "hovertext": [
          "fortuna",
          "bredasdorp",
          "papatowai",
          "udachny",
          "saint-philippe",
          "edinburgh of the seven seas",
          "nogliki",
          "invercargill",
          "grytviken",
          "qianzhou",
          "puerto ayora",
          "port-aux-francais",
          "kodiak",
          "wailua homesteads",
          "adamstown",
          "homer",
          "kemin",
          "petropavlovsk-kamchatsky",
          "kolosovka",
          "biloela",
          "waitangi",
          "as saffaniyah",
          "parham",
          "comodoro rivadavia",
          "west island",
          "nemuro",
          "mount pearl",
          "lihue",
          "callao",
          "kovdor",
          "khandyga",
          "ushuaia",
          "colonia",
          "bilibino",
          "georgetown",
          "ribeira grande",
          "hasaki",
          "carnarvon",
          "ebon",
          "nambucca",
          "hadibu",
          "kununurra",
          "lebu",
          "enewetak",
          "tura",
          "buka",
          "nizhniy odes",
          "college",
          "hermosillo",
          "albany",
          "tazovsky",
          "afaahiti",
          "namibe",
          "nelson",
          "puerto natales",
          "codrington",
          "male",
          "iqaluit",
          "vadso",
          "paramonga",
          "porto novo",
          "puerto baquerizo moreno",
          "siwa oasis",
          "margaret river",
          "lakatoro",
          "whitehorse",
          "balykshi",
          "gonbad-e kavus",
          "tambovka",
          "stanley",
          "grand-bassam",
          "olonkinbyen",
          "mujiayingzi",
          "lompoc",
          "sidi ifni",
          "kingston",
          "mandalgovi",
          "aasiaat",
          "sao jose da coroa grande",
          "shitanjing",
          "boa vista",
          "novaya igirma",
          "tiksi",
          "pangai",
          "melekeok village",
          "yellowknife",
          "pamanukan",
          "kapa'a",
          "port lincoln",
          "behshahr",
          "taoudenni",
          "ancud",
          "bac lieu",
          "cockburn town",
          "pitimbu",
          "blackmans bay",
          "hamilton",
          "fort bragg",
          "bethel",
          "saldanha",
          "chibougamau",
          "treasure island",
          "manaure",
          "vorkuta",
          "hawaiian paradise park",
          "xining",
          "tindouf",
          "kyzyl-mazhalyk",
          "salym",
          "saipan",
          "shakiso",
          "talodi",
          "palikir - national government center",
          "chauk",
          "isafjordur",
          "salmas",
          "hotan",
          "pisco",
          "cambridge",
          "bubaque",
          "mogocha",
          "alofi",
          "talnakh",
          "uturoa",
          "bodo",
          "punta arenas",
          "karor",
          "klaksvik",
          "nouadhibou",
          "ola",
          "labytnangi",
          "kingscliff",
          "chuguyevka",
          "qaqortoq",
          "keflavik",
          "tot'ma",
          "mana",
          "mhamid",
          "arno",
          "dumbea",
          "the bottom",
          "glace bay",
          "ostersund",
          "chui",
          "sechura",
          "loncoche",
          "mora",
          "jamestown",
          "ciudad mante",
          "alice springs",
          "ciudad del maiz",
          "las tablas",
          "vilyuchinsk",
          "bonthe",
          "newman",
          "zaozersk",
          "tazacorte",
          "oyama",
          "sao joao da barra",
          "kattivakkam",
          "kisangani",
          "turkmenbasy",
          "hami",
          "bir el ater",
          "ovalle",
          "iskateley",
          "thompson",
          "mount gambier",
          "jayapura",
          "nuuk",
          "anadyr",
          "portland",
          "balabac",
          "naze",
          "avarua",
          "yeed",
          "nyurba",
          "howard springs",
          "tandalti",
          "east london",
          "lagunas",
          "okhotsk",
          "arti",
          "patterson",
          "dudinka",
          "george town",
          "loen",
          "sorong",
          "sen monorom",
          "chamical",
          "yerofey pavlovich",
          "gadzhiyevo",
          "utrik",
          "jinhua",
          "coahuayana de hidalgo",
          "pangody",
          "port mathurin",
          "la'ie",
          "greymouth",
          "lazaro cardenas",
          "westport",
          "magnitogorsk",
          "santana",
          "akureyri",
          "alto araguaia",
          "tyukhtet",
          "kamaishi",
          "mitsamiouli",
          "touros",
          "ghormach",
          "sitka",
          "san andres",
          "lata",
          "piritiba",
          "bamboo flat",
          "kavieng",
          "flying fish cove",
          "chojna",
          "zavitinsk",
          "pyinmana",
          "mil'kovo",
          "sangod",
          "melfi",
          "onokhoy",
          "san luis de la loma",
          "mar del plata",
          "samana",
          "allapalli",
          "brokopondo",
          "maymana",
          "romanovo",
          "daru",
          "constantia",
          "galliano",
          "egilsstadir",
          "chabahar",
          "namtsy",
          "goksun",
          "vorgashor",
          "camana",
          "malango",
          "riberalta",
          "praia da vitoria",
          "forster",
          "quatre cocos",
          "remire-montjoly",
          "mount isa",
          "caconda",
          "port moresby",
          "saladan",
          "cadale",
          "ha'il",
          "kodinsk",
          "kota kinabalu",
          "port alfred",
          "mumford",
          "minas de marcona",
          "veraval",
          "muttupet",
          "jacobina",
          "wynyard",
          "ilhabela",
          "gobabis",
          "tonekabon",
          "midvagur",
          "krasyliv",
          "capela do alto",
          "molalla",
          "hermanus",
          "tadjourah",
          "port macquarie",
          "longyearbyen",
          "port elizabeth",
          "san antonio de pale",
          "kralendijk",
          "kalabo",
          "pieksamaki",
          "santa sylvina",
          "labrador city",
          "guantanamo",
          "lefkada",
          "menaka",
          "kill devil hills",
          "benguela",
          "undurkhaan",
          "tejen",
          "lys'va",
          "klyuchi",
          "salalah",
          "beira",
          "cartagena del chaira",
          "bratsk",
          "altay",
          "pyapon",
          "al ghayzah",
          "kapuskasing",
          "karymskoye",
          "ust'-kulom",
          "bengkulu",
          "ilulissat",
          "impfondo",
          "sandakan",
          "bhamo",
          "broken hill",
          "geraldton",
          "turbat",
          "la passe",
          "narra",
          "kutahya",
          "rongelap",
          "sokolow podlaski",
          "kourou",
          "mukalla",
          "kolonia",
          "badger",
          "tucupita",
          "buala",
          "sanya",
          "san patricio",
          "puerto deseado",
          "atafu village",
          "kaitong",
          "santa cruz",
          "lai chau",
          "kohat",
          "fale old settlement",
          "el granada",
          "susuman",
          "aykhal",
          "havre",
          "sandnessjoen",
          "colon",
          "ust-nera",
          "berd",
          "nema",
          "alto lucero",
          "al bardiyah",
          "alta sierra",
          "red chute",
          "saint-pierre",
          "bondo",
          "tangalle",
          "tolanaro",
          "filingue",
          "amboasary",
          "gorgan",
          "narsingi",
          "santa ana",
          "aksu",
          "altinyayla",
          "ihosy",
          "dryden",
          "port douglas",
          "jumri tilaiya",
          "mambajao",
          "nayoro",
          "chibuto",
          "fukuyama",
          "luga",
          "ziro",
          "port blair",
          "howrah",
          "tual",
          "brookings",
          "sosnovo-ozerskoye",
          "nehe",
          "antofagasta",
          "tamanrasset",
          "itamaraca",
          "bucerias",
          "villa gesell",
          "verkhnevilyuysk",
          "selfoss",
          "coquimbo",
          "west wodonga",
          "rujewa",
          "acapulco de juarez",
          "kirensk",
          "nagqu",
          "fort st. john",
          "dalton",
          "sydney",
          "inari",
          "kruisfontein",
          "zouerate",
          "santiago del torno",
          "mettur",
          "dunda",
          "chulakkurgan",
          "shenjiamen",
          "ulety",
          "oranjemund",
          "chonchi",
          "choibalsan",
          "mytilene",
          "pasighat",
          "prainha",
          "ciudad lazaro cardenas",
          "viedma",
          "arkhangel'sk",
          "peterhead",
          "pabrade",
          "khovd",
          "kiunga",
          "corinto",
          "banda aceh",
          "bolhrad",
          "kismayo",
          "kavaratti",
          "ceerigaabo",
          "weno",
          "serres",
          "taulaga",
          "kalmunai",
          "bastrop",
          "inhambane",
          "wickenburg",
          "cheongsong gun",
          "changuinola",
          "nova sintra",
          "kindu",
          "marat",
          "camocim",
          "margate",
          "lido adriano",
          "paka",
          "san pedro",
          "arraial do cabo",
          "santo antonio do ica",
          "luganville",
          "xinzhi",
          "leer",
          "unai",
          "freetown",
          "xishan",
          "okha",
          "kharabali",
          "island harbour",
          "kuusamo",
          "vila velha",
          "lensk",
          "thayetmyo",
          "nar'yan-mar",
          "kaa-khem",
          "palmas",
          "kemijarvi",
          "hithadhoo",
          "gobindpur",
          "huaicheng",
          "axim",
          "laxey",
          "acarau",
          "chipinge",
          "inarajan village",
          "santa ana de yacuma",
          "frontera",
          "larkird",
          "holualoa",
          "vilyuysk",
          "katima mulilo",
          "mugia",
          "igra",
          "darwin",
          "katsuura",
          "qamdo",
          "farim",
          "calama",
          "tocopilla",
          "murun-kuren",
          "hastings",
          "lamu",
          "nuku'alofa",
          "lionel town",
          "al jawf",
          "ilava",
          "xilin hot",
          "kem'",
          "suwannaphum",
          "haiku-pauwela",
          "sainte-anne-des-monts",
          "mahina",
          "lahat",
          "sisimiut",
          "aver-o-mar",
          "luderitz",
          "ratnagiri",
          "mbale",
          "kenai",
          "pruzhany",
          "poronaysk",
          "rangkasbitung",
          "hakui",
          "shalqar",
          "paraty",
          "khenchela",
          "urangan",
          "trairi",
          "shar",
          "lerwick",
          "imperia",
          "rio gallegos",
          "port hedland",
          "puan",
          "kone",
          "aripuana",
          "alaghsas",
          "kostyantynivka",
          "rabo de peixe",
          "sao vicente",
          "city of balikpapan",
          "colchani",
          "mareeba",
          "ati",
          "chadan",
          "sabang",
          "camas",
          "ulsteinvik",
          "dunedin",
          "tofol",
          "shache",
          "porbandar",
          "plettenberg bay",
          "kehychivka",
          "gillette",
          "karrapur",
          "levuka",
          "dzhangala",
          "wynne",
          "mtwara",
          "kintinku",
          "pangkalpinang",
          "shihezi",
          "cole harbour",
          "fujin",
          "altamont",
          "el bauga",
          "guerrero negro",
          "tiebo",
          "shulan",
          "farafangana",
          "zhaotong",
          "bardai",
          "saint-joseph",
          "kayangel",
          "yorosso",
          "serdar",
          "ta`u"
         ],
         "lat": [
          40.5982,
          -34.5322,
          -46.5619,
          66.4167,
          -21.3585,
          -37.0676,
          51.8333,
          -46.4,
          -54.2811,
          28.3167,
          -0.7393,
          -49.35,
          57.79,
          22.0669,
          -25.066,
          59.6425,
          42.7846,
          53.0452,
          56.4678,
          -24.4167,
          -43.9535,
          27.9708,
          17.0968,
          -45.8667,
          -12.1568,
          43.3236,
          47.5166,
          21.9789,
          -12.0667,
          67.5662,
          62.6667,
          -54.8,
          50.9333,
          68.0546,
          5.4112,
          38.5167,
          35.7333,
          -24.8667,
          4.582,
          -30.6333,
          12.65,
          -15.7667,
          -37.6167,
          11.3474,
          25.5198,
          40.8108,
          63.6445,
          64.8569,
          29.0667,
          42.6001,
          67.4667,
          -17.75,
          -15.1961,
          -41.2833,
          -51.7236,
          -38.2667,
          4.1748,
          63.7506,
          70.0744,
          -10.6667,
          6.4965,
          -0.9,
          29.2041,
          -33.95,
          -16.0999,
          60.7161,
          47.0667,
          37.25,
          50.0969,
          54.868,
          5.2118,
          70.9221,
          42.1167,
          34.6391,
          29.3797,
          17.997,
          45.7625,
          68.7098,
          -8.8978,
          39.2342,
          2.8197,
          57.1334,
          71.6872,
          -19.8,
          7.4957,
          62.456,
          -6.2842,
          22.0752,
          -34.7333,
          36.6923,
          22.6783,
          -41.8697,
          9.285,
          21.4612,
          -7.4706,
          -43.0167,
          39.1834,
          35.139,
          41.3712,
          -33.0117,
          49.9168,
          27.7692,
          11.7751,
          67.5,
          19.5933,
          36.6167,
          27.6711,
          51.1333,
          60.0625,
          15.1355,
          5.75,
          10.6325,
          6.9248,
          20.8833,
          66.0755,
          38.1973,
          37.0997,
          -13.7,
          43.3601,
          11.2833,
          53.7333,
          -19.0595,
          69.4865,
          -16.7333,
          67.28,
          -53.15,
          31.2274,
          62.2266,
          20.931,
          59.5833,
          66.6572,
          -28.2667,
          44.1653,
          60.7167,
          64.0049,
          59.9747,
          5.6592,
          29.82,
          60.1167,
          -22.15,
          17.6259,
          46.1969,
          63.1792,
          -33.6971,
          -5.5569,
          -39.3667,
          11.0461,
          42.097,
          22.7333,
          -23.7,
          22.4,
          7.7667,
          52.9306,
          7.5264,
          37.3138,
          69.4005,
          28.629,
          36.3,
          -21.6403,
          13.2167,
          0.5167,
          40.0222,
          42.8,
          34.7449,
          -30.5983,
          67.6803,
          55.7435,
          -37.8333,
          -2.5333,
          64.1835,
          64.75,
          45.5234,
          7.9868,
          28.3667,
          -21.2078,
          4.55,
          63.2842,
          -12.497,
          13.0167,
          -33.0153,
          -5.2269,
          59.3833,
          56.4234,
          37.4716,
          69.4058,
          5.4112,
          7.7601,
          -0.8833,
          12.45,
          -30.36,
          53.9667,
          69.2551,
          11.2278,
          29.1078,
          18.7,
          65.85,
          -19.6833,
          21.6477,
          -42.4667,
          17.9583,
          41.1415,
          53.4186,
          -0.0583,
          65.6835,
          -17.3147,
          56.5389,
          39.2667,
          -11.3847,
          -5.1989,
          35.7306,
          57.0531,
          12.5847,
          40.1629,
          -11.7303,
          11.7,
          -2.5744,
          -10.4217,
          52.9639,
          50.1167,
          19.7333,
          55.6078,
          24.9167,
          40.9965,
          51.932,
          17.2706,
          -38.0023,
          19.2056,
          19.4167,
          4.75,
          35.9214,
          52.6182,
          -9.0763,
          44.1833,
          29.4422,
          65.2653,
          25.2919,
          62.7161,
          38.021,
          67.5833,
          -16.6228,
          -2.9627,
          -10.9833,
          38.7333,
          -32.1667,
          -20.2078,
          4.9167,
          -20.7333,
          -13.7333,
          -9.4431,
          7.6134,
          2.7603,
          27.5219,
          58.6881,
          5.9749,
          -33.5906,
          5.2618,
          -15.2119,
          20.9,
          10.4,
          -11.1806,
          -41,
          -23.7781,
          -22.45,
          36.8163,
          62.0511,
          49.6519,
          -23.4706,
          45.1473,
          -34.4187,
          12,
          -31.4333,
          78.2186,
          -33.918,
          -1.4014,
          12.15,
          -14.97,
          62.3,
          -27.8326,
          52.9463,
          20.1444,
          38.8275,
          15.9182,
          36.0307,
          -12.5763,
          47.3194,
          37.3834,
          58.1086,
          52.2667,
          17.0151,
          -19.8436,
          1.3349,
          56.1325,
          47.8667,
          16.2833,
          16.2079,
          49.4169,
          51.6167,
          61.6864,
          -3.8004,
          69.2167,
          1.6381,
          5.8402,
          24.2667,
          -31.95,
          -28.7667,
          26.0023,
          45.5549,
          9.3167,
          39.4242,
          11.1635,
          52.4068,
          5.1552,
          14.5425,
          50.9333,
          64.8,
          9.0622,
          -8.145,
          18.2431,
          28.017,
          -47.7503,
          -8.5421,
          44.8135,
          -17.8,
          22.3997,
          33.582,
          -9.3852,
          37.5027,
          62.7833,
          66,
          49.5833,
          66.0217,
          9.3592,
          64.5667,
          40.8815,
          57.5067,
          19.6167,
          31.7561,
          35.7291,
          32.556,
          -21.3393,
          3.8146,
          6.024,
          -25.0319,
          14.3521,
          -25.0333,
          36.8387,
          18.0333,
          33.7456,
          41.1231,
          39.2725,
          -22.4,
          49.7833,
          -16.4833,
          24.4333,
          9.2504,
          44.3506,
          -24.6867,
          34.4833,
          58.7372,
          27.6333,
          11.6667,
          22.5892,
          -5.6667,
          44.3114,
          52.5249,
          48.4833,
          -23.65,
          22.785,
          -7.7478,
          20.75,
          -37.2639,
          63.4453,
          63.9331,
          -29.9533,
          -36.1257,
          -8.7,
          16.8634,
          57.7853,
          31.5,
          56.2499,
          34.7698,
          -33.8679,
          68.906,
          -34.0033,
          22.7187,
          -17.9833,
          11.8,
          -8.1167,
          43.765,
          29.9576,
          51.3572,
          -28.55,
          -42.6128,
          48.0667,
          39.11,
          28.0667,
          -1.8,
          17.9583,
          -40.8135,
          64.5401,
          57.5058,
          55,
          48.0056,
          -6.1219,
          37.9407,
          5.5577,
          45.6826,
          -0.3582,
          10.5669,
          10.6162,
          7.4515,
          41.0856,
          -11.0553,
          7.4167,
          32.7562,
          -23.865,
          33.9686,
          36.4335,
          9.4333,
          14.8667,
          -2.95,
          25.0701,
          -2.9022,
          51.3813,
          44.4123,
          4.6374,
          14.35,
          -22.9661,
          -3.1022,
          -15.5333,
          36.4989,
          53.2316,
          -16.3575,
          8.484,
          27.6667,
          53.5739,
          47.4196,
          50.724,
          65.9667,
          -20.3297,
          60.7253,
          19.3167,
          67.6713,
          51.6833,
          -10.2128,
          66.7131,
          -0.6,
          22.6333,
          23.9051,
          4.8699,
          54.2302,
          -2.8856,
          -20.1883,
          13.2736,
          -13.75,
          26.9333,
          35.4894,
          19.6228,
          63.7553,
          -17.5,
          43.1041,
          57.5558,
          -12.4611,
          35.1333,
          31.1667,
          12.4839,
          -22.4667,
          -22.092,
          49.6342,
          50.8552,
          -2.2717,
          -21.1333,
          17.8101,
          29.5,
          48.9977,
          43.9667,
          64.9555,
          15.6035,
          20.9219,
          49.124,
          -17.5065,
          -3.8,
          66.9395,
          41.4078,
          -26.6481,
          16.9833,
          1.0821,
          60.5544,
          52.5567,
          49.2167,
          -6.3591,
          36.8833,
          47.8333,
          -23.2178,
          35.4358,
          -25.3,
          -3.2778,
          49.5886,
          60.1545,
          43.9667,
          -51.6226,
          -20.3167,
          35.7281,
          -21.0595,
          -9.1667,
          17.0187,
          48.5277,
          37.8,
          -23.9631,
          -1.242,
          -20.3,
          -17,
          13.2154,
          51.2833,
          5.8933,
          37.402,
          62.3432,
          -45.8742,
          5.3248,
          38.4167,
          21.6422,
          -34.0527,
          49.2866,
          44.2911,
          23.95,
          50.1834,
          49.2167,
          35.2245,
          -10.2667,
          -5.8833,
          -2.1333,
          44.3,
          44.6724,
          47.26,
          42.2068,
          18.262,
          27.9769,
          14.6333,
          44.4167,
          -22.8167,
          27.3167,
          11.65,
          -21.3667,
          8.0823,
          12.3536,
          38.9764,
          -14.2336
         ],
         "legendgroup": "",
         "lon": [
          -124.1573,
          20.0403,
          169.4708,
          112.4,
          55.7679,
          -12.3116,
          143.1667,
          168.35,
          -36.5092,
          109.7167,
          -90.3518,
          70.2167,
          -152.4072,
          -159.378,
          -130.1015,
          -151.5483,
          75.6892,
          158.6483,
          73.611,
          150.5,
          -176.5597,
          48.73,
          -61.7705,
          -67.5,
          96.8225,
          145.575,
          -52.7813,
          -159.3672,
          -77.15,
          30.4758,
          135.6,
          -68.3,
          6.95,
          166.4372,
          100.3354,
          -28.7,
          140.8333,
          113.6333,
          168.6964,
          152.9833,
          54.0333,
          128.7333,
          -73.65,
          162.3373,
          90.2201,
          69.1986,
          54.856,
          -147.8028,
          -110.9667,
          -73.9662,
          78.7,
          -149.2833,
          12.1522,
          173.2833,
          -72.4875,
          141.9667,
          73.5089,
          -68.5145,
          29.7487,
          -77.8333,
          2.6036,
          -89.6,
          25.5195,
          115.0667,
          167.4164,
          -135.0538,
          51.8667,
          55.1672,
          128.0489,
          -1.6985,
          -3.7388,
          -8.7187,
          118.7833,
          -120.4579,
          -10.173,
          -76.7936,
          106.2708,
          -52.8699,
          -35.1478,
          106.3439,
          -60.6733,
          103.9112,
          128.8694,
          -174.35,
          134.6367,
          -114.3525,
          107.8106,
          -159.319,
          135.8667,
          53.5526,
          -3.9836,
          -73.8203,
          105.7244,
          -71.1419,
          -34.8086,
          147.3167,
          -84.5333,
          -79.006,
          -73.414,
          17.9442,
          -74.3659,
          -82.769,
          -72.4445,
          64,
          -154.9731,
          101.7667,
          -8.1474,
          90.6,
          71.4789,
          145.701,
          38.9167,
          30.3797,
          158.1611,
          94.8167,
          -23.124,
          44.7653,
          79.9269,
          -76.2167,
          -80.3127,
          -15.8333,
          119.7667,
          -169.9187,
          88.3972,
          -151.4333,
          14.405,
          -70.9167,
          70.9492,
          -6.589,
          -17.0347,
          151.2833,
          66.4183,
          153.5667,
          133.8633,
          -46.0333,
          -22.5624,
          42.7642,
          -53.7767,
          -5.72,
          18.6333,
          166.45,
          -63.2492,
          -59.957,
          14.6357,
          -53.4616,
          -80.8222,
          -72.6333,
          14.1401,
          -79.2353,
          -98.9667,
          133.8833,
          -99.6,
          -80.2833,
          158.4028,
          -12.505,
          -121.0208,
          32.4476,
          -17.9293,
          139.8,
          -41.0511,
          80.3167,
          25.2,
          52.9552,
          93.45,
          8.0602,
          -71.2003,
          53.1512,
          -97.8558,
          140.7667,
          140.7,
          -51.7216,
          177.4833,
          -122.6762,
          117.0645,
          129.4833,
          -159.775,
          43.0333,
          118.3319,
          131.047,
          31.8667,
          27.9116,
          -75.6753,
          143.3,
          58.5328,
          -121.1297,
          86.1778,
          100.3354,
          168.2307,
          131.25,
          107.2,
          -66.314,
          121.9667,
          33.3362,
          169.8474,
          119.6547,
          -103.6583,
          74.4859,
          63.4167,
          -157.9253,
          171.2,
          -102.2,
          -73.3579,
          59.0472,
          -51.1817,
          -18.0878,
          -53.2153,
          89.3011,
          141.8833,
          43.2844,
          -35.4608,
          63.7826,
          -135.33,
          -81.7006,
          -8.3327,
          -40.5553,
          92.7167,
          150.7967,
          105.6791,
          14.428,
          129.45,
          96.2167,
          37.7956,
          76.2833,
          15.6514,
          108.0747,
          -100.8939,
          -57.5575,
          -69.3369,
          80.0667,
          -55.1667,
          64.7836,
          81.2271,
          143.2092,
          28.65,
          -90.2992,
          -14.3948,
          60.643,
          129.6658,
          36.4973,
          63.95,
          -72.7111,
          119.9001,
          -66.1,
          -27.0667,
          152.5167,
          57.7625,
          -52.2667,
          139.5,
          15.0667,
          147.1797,
          99.0365,
          46.3222,
          41.6907,
          99.1844,
          116.0724,
          26.891,
          -0.759,
          -75.1103,
          70.3667,
          79.4833,
          -40.5183,
          145.7167,
          -45.3581,
          18.9667,
          50.8738,
          -7.1939,
          26.9725,
          -47.7347,
          -122.577,
          19.2345,
          42.5,
          152.9167,
          15.6401,
          25.5701,
          5.6325,
          -68.2667,
          22.6814,
          27.1333,
          -61.1375,
          -66.9114,
          -75.2092,
          20.7019,
          2.4022,
          -75.676,
          13.4055,
          110.6556,
          60.5054,
          57.8053,
          79.1667,
          54.0924,
          34.8389,
          -74.8429,
          101.6142,
          88.1167,
          95.6833,
          52.176,
          -82.4331,
          114.35,
          53.6902,
          102.2655,
          -51.1,
          18.0667,
          118.1179,
          97.2333,
          141.4333,
          114.6,
          63.044,
          -0.8967,
          118.4,
          29.9833,
          166.8941,
          22.2531,
          -52.6478,
          49.1242,
          6.95,
          -147.5333,
          -62.051,
          159.5921,
          109.505,
          -97.5169,
          -65.8938,
          -172.5159,
          123.15,
          -63.1667,
          103.4517,
          71.4493,
          -171.2468,
          -122.4694,
          148.1667,
          111.5,
          0.3333,
          12.6316,
          -79.9014,
          143.2,
          45.3899,
          50.5011,
          -96.7167,
          25.0865,
          -118.5495,
          -93.6132,
          55.4781,
          23.6866,
          80.7911,
          46.9987,
          3.3168,
          46.3833,
          54.4348,
          78.4333,
          -117.8678,
          80.2644,
          36.751,
          46.1167,
          -92.7503,
          145.4667,
          85.5167,
          124.7156,
          142.4578,
          33.5306,
          133.3667,
          29.8453,
          93.8333,
          92.75,
          88.3103,
          132.75,
          -96.7984,
          111.5418,
          124.8333,
          -70.4,
          5.5228,
          -34.8256,
          -105.3333,
          -56.973,
          120.3167,
          -20.9971,
          -71.3436,
          146.8486,
          34.3833,
          -99.8901,
          108.1119,
          92,
          -120.8529,
          -84.9702,
          151.2073,
          27.0288,
          24.7314,
          -12.4521,
          -63.3833,
          77.8,
          34.25,
          69.1814,
          122.298,
          112.4849,
          16.4333,
          -73.8092,
          114.5,
          26.5547,
          95.3333,
          -53.48,
          -102.2,
          -62.9967,
          40.5433,
          -1.7981,
          25.7833,
          91.6419,
          141.2906,
          22.9573,
          95.3222,
          28.6149,
          42.5454,
          72.642,
          47.368,
          151.8468,
          23.5497,
          -171.0883,
          81.8167,
          -91.8724,
          35.3833,
          -112.7296,
          129.057,
          -82.5167,
          -24.7167,
          25.95,
          45.4615,
          -40.8411,
          1.3862,
          12.3086,
          103.4368,
          121.0167,
          -42.0278,
          -67.9397,
          167.1667,
          111.7047,
          7.461,
          -46.9061,
          -13.2299,
          113.5,
          142.9478,
          47.2568,
          -1.2758,
          29.1833,
          -40.2925,
          114.9278,
          95.1833,
          53.087,
          94.7333,
          -48.3603,
          27.4306,
          73.0833,
          86.0667,
          112.1931,
          -2.2405,
          -4.3999,
          -40.12,
          32.6236,
          144.7484,
          -65.4333,
          -101.45,
          66.6641,
          -155.9522,
          121.6247,
          24.2667,
          -9.2179,
          53.0547,
          130.8418,
          140.3,
          97.2333,
          -15.2217,
          -68.9333,
          -70.1979,
          100.1625,
          0.5729,
          40.902,
          -175.2,
          -77.2406,
          38.75,
          18.2353,
          116.0333,
          34.5793,
          103.8021,
          -156.3051,
          -66.4924,
          -149.489,
          103.5333,
          -53.6735,
          -8.7812,
          15.1594,
          73.3,
          34.175,
          -151.2583,
          24.4644,
          143.1167,
          106.2494,
          136.7833,
          59.6,
          -44.7131,
          7.1433,
          152.9,
          -39.2689,
          81.0453,
          -1.1494,
          7.7833,
          -69.2181,
          118.5667,
          126.7319,
          164.8658,
          -60.6333,
          8.0168,
          37.7069,
          -25.5833,
          -46.3919,
          116.8942,
          -66.9333,
          145.4333,
          18.3353,
          91.5833,
          95.3214,
          -6.0331,
          5.8487,
          170.5036,
          163.0078,
          77.2406,
          69.6093,
          23.3716,
          35.7615,
          -105.5022,
          78.85,
          -105.4011,
          50.3333,
          -90.7868,
          40.1833,
          35.2333,
          106.1333,
          86.0333,
          -63.4751,
          132.0322,
          -121.7372,
          33.9081,
          -114.0611,
          -16.2333,
          126.95,
          47.8333,
          103.7167,
          7.2333,
          55.6167,
          134.7173,
          -4.7761,
          56.2757,
          -169.5144
         ],
         "marker": {
          "color": "#636efa",
          "symbol": "circle"
         },
         "mode": "markers",
         "name": "",
         "showlegend": false,
         "type": "scattergeo"
        }
       ],
       "layout": {
        "geo": {
         "center": {},
         "domain": {
          "x": [
           0,
           1
          ],
          "y": [
           0,
           1
          ]
         },
         "projection": {
          "type": "natural earth"
         }
        },
        "legend": {
         "tracegroupgap": 0
        },
        "margin": {
         "t": 60
        },
        "template": {
         "data": {
          "bar": [
           {
            "error_x": {
             "color": "#2a3f5f"
            },
            "error_y": {
             "color": "#2a3f5f"
            },
            "marker": {
             "line": {
              "color": "#E5ECF6",
              "width": 0.5
             },
             "pattern": {
              "fillmode": "overlay",
              "size": 10,
              "solidity": 0.2
             }
            },
            "type": "bar"
           }
          ],
          "barpolar": [
           {
            "marker": {
             "line": {
              "color": "#E5ECF6",
              "width": 0.5
             },
             "pattern": {
              "fillmode": "overlay",
              "size": 10,
              "solidity": 0.2
             }
            },
            "type": "barpolar"
           }
          ],
          "carpet": [
           {
            "aaxis": {
             "endlinecolor": "#2a3f5f",
             "gridcolor": "white",
             "linecolor": "white",
             "minorgridcolor": "white",
             "startlinecolor": "#2a3f5f"
            },
            "baxis": {
             "endlinecolor": "#2a3f5f",
             "gridcolor": "white",
             "linecolor": "white",
             "minorgridcolor": "white",
             "startlinecolor": "#2a3f5f"
            },
            "type": "carpet"
           }
          ],
          "choropleth": [
           {
            "colorbar": {
             "outlinewidth": 0,
             "ticks": ""
            },
            "type": "choropleth"
           }
          ],
          "contour": [
           {
            "colorbar": {
             "outlinewidth": 0,
             "ticks": ""
            },
            "colorscale": [
             [
              0,
              "#0d0887"
             ],
             [
              0.1111111111111111,
              "#46039f"
             ],
             [
              0.2222222222222222,
              "#7201a8"
             ],
             [
              0.3333333333333333,
              "#9c179e"
             ],
             [
              0.4444444444444444,
              "#bd3786"
             ],
             [
              0.5555555555555556,
              "#d8576b"
             ],
             [
              0.6666666666666666,
              "#ed7953"
             ],
             [
              0.7777777777777778,
              "#fb9f3a"
             ],
             [
              0.8888888888888888,
              "#fdca26"
             ],
             [
              1,
              "#f0f921"
             ]
            ],
            "type": "contour"
           }
          ],
          "contourcarpet": [
           {
            "colorbar": {
             "outlinewidth": 0,
             "ticks": ""
            },
            "type": "contourcarpet"
           }
          ],
          "heatmap": [
           {
            "colorbar": {
             "outlinewidth": 0,
             "ticks": ""
            },
            "colorscale": [
             [
              0,
              "#0d0887"
             ],
             [
              0.1111111111111111,
              "#46039f"
             ],
             [
              0.2222222222222222,
              "#7201a8"
             ],
             [
              0.3333333333333333,
              "#9c179e"
             ],
             [
              0.4444444444444444,
              "#bd3786"
             ],
             [
              0.5555555555555556,
              "#d8576b"
             ],
             [
              0.6666666666666666,
              "#ed7953"
             ],
             [
              0.7777777777777778,
              "#fb9f3a"
             ],
             [
              0.8888888888888888,
              "#fdca26"
             ],
             [
              1,
              "#f0f921"
             ]
            ],
            "type": "heatmap"
           }
          ],
          "heatmapgl": [
           {
            "colorbar": {
             "outlinewidth": 0,
             "ticks": ""
            },
            "colorscale": [
             [
              0,
              "#0d0887"
             ],
             [
              0.1111111111111111,
              "#46039f"
             ],
             [
              0.2222222222222222,
              "#7201a8"
             ],
             [
              0.3333333333333333,
              "#9c179e"
             ],
             [
              0.4444444444444444,
              "#bd3786"
             ],
             [
              0.5555555555555556,
              "#d8576b"
             ],
             [
              0.6666666666666666,
              "#ed7953"
             ],
             [
              0.7777777777777778,
              "#fb9f3a"
             ],
             [
              0.8888888888888888,
              "#fdca26"
             ],
             [
              1,
              "#f0f921"
             ]
            ],
            "type": "heatmapgl"
           }
          ],
          "histogram": [
           {
            "marker": {
             "pattern": {
              "fillmode": "overlay",
              "size": 10,
              "solidity": 0.2
             }
            },
            "type": "histogram"
           }
          ],
          "histogram2d": [
           {
            "colorbar": {
             "outlinewidth": 0,
             "ticks": ""
            },
            "colorscale": [
             [
              0,
              "#0d0887"
             ],
             [
              0.1111111111111111,
              "#46039f"
             ],
             [
              0.2222222222222222,
              "#7201a8"
             ],
             [
              0.3333333333333333,
              "#9c179e"
             ],
             [
              0.4444444444444444,
              "#bd3786"
             ],
             [
              0.5555555555555556,
              "#d8576b"
             ],
             [
              0.6666666666666666,
              "#ed7953"
             ],
             [
              0.7777777777777778,
              "#fb9f3a"
             ],
             [
              0.8888888888888888,
              "#fdca26"
             ],
             [
              1,
              "#f0f921"
             ]
            ],
            "type": "histogram2d"
           }
          ],
          "histogram2dcontour": [
           {
            "colorbar": {
             "outlinewidth": 0,
             "ticks": ""
            },
            "colorscale": [
             [
              0,
              "#0d0887"
             ],
             [
              0.1111111111111111,
              "#46039f"
             ],
             [
              0.2222222222222222,
              "#7201a8"
             ],
             [
              0.3333333333333333,
              "#9c179e"
             ],
             [
              0.4444444444444444,
              "#bd3786"
             ],
             [
              0.5555555555555556,
              "#d8576b"
             ],
             [
              0.6666666666666666,
              "#ed7953"
             ],
             [
              0.7777777777777778,
              "#fb9f3a"
             ],
             [
              0.8888888888888888,
              "#fdca26"
             ],
             [
              1,
              "#f0f921"
             ]
            ],
            "type": "histogram2dcontour"
           }
          ],
          "mesh3d": [
           {
            "colorbar": {
             "outlinewidth": 0,
             "ticks": ""
            },
            "type": "mesh3d"
           }
          ],
          "parcoords": [
           {
            "line": {
             "colorbar": {
              "outlinewidth": 0,
              "ticks": ""
             }
            },
            "type": "parcoords"
           }
          ],
          "pie": [
           {
            "automargin": true,
            "type": "pie"
           }
          ],
          "scatter": [
           {
            "fillpattern": {
             "fillmode": "overlay",
             "size": 10,
             "solidity": 0.2
            },
            "type": "scatter"
           }
          ],
          "scatter3d": [
           {
            "line": {
             "colorbar": {
              "outlinewidth": 0,
              "ticks": ""
             }
            },
            "marker": {
             "colorbar": {
              "outlinewidth": 0,
              "ticks": ""
             }
            },
            "type": "scatter3d"
           }
          ],
          "scattercarpet": [
           {
            "marker": {
             "colorbar": {
              "outlinewidth": 0,
              "ticks": ""
             }
            },
            "type": "scattercarpet"
           }
          ],
          "scattergeo": [
           {
            "marker": {
             "colorbar": {
              "outlinewidth": 0,
              "ticks": ""
             }
            },
            "type": "scattergeo"
           }
          ],
          "scattergl": [
           {
            "marker": {
             "colorbar": {
              "outlinewidth": 0,
              "ticks": ""
             }
            },
            "type": "scattergl"
           }
          ],
          "scattermapbox": [
           {
            "marker": {
             "colorbar": {
              "outlinewidth": 0,
              "ticks": ""
             }
            },
            "type": "scattermapbox"
           }
          ],
          "scatterpolar": [
           {
            "marker": {
             "colorbar": {
              "outlinewidth": 0,
              "ticks": ""
             }
            },
            "type": "scatterpolar"
           }
          ],
          "scatterpolargl": [
           {
            "marker": {
             "colorbar": {
              "outlinewidth": 0,
              "ticks": ""
             }
            },
            "type": "scatterpolargl"
           }
          ],
          "scatterternary": [
           {
            "marker": {
             "colorbar": {
              "outlinewidth": 0,
              "ticks": ""
             }
            },
            "type": "scatterternary"
           }
          ],
          "surface": [
           {
            "colorbar": {
             "outlinewidth": 0,
             "ticks": ""
            },
            "colorscale": [
             [
              0,
              "#0d0887"
             ],
             [
              0.1111111111111111,
              "#46039f"
             ],
             [
              0.2222222222222222,
              "#7201a8"
             ],
             [
              0.3333333333333333,
              "#9c179e"
             ],
             [
              0.4444444444444444,
              "#bd3786"
             ],
             [
              0.5555555555555556,
              "#d8576b"
             ],
             [
              0.6666666666666666,
              "#ed7953"
             ],
             [
              0.7777777777777778,
              "#fb9f3a"
             ],
             [
              0.8888888888888888,
              "#fdca26"
             ],
             [
              1,
              "#f0f921"
             ]
            ],
            "type": "surface"
           }
          ],
          "table": [
           {
            "cells": {
             "fill": {
              "color": "#EBF0F8"
             },
             "line": {
              "color": "white"
             }
            },
            "header": {
             "fill": {
              "color": "#C8D4E3"
             },
             "line": {
              "color": "white"
             }
            },
            "type": "table"
           }
          ]
         },
         "layout": {
          "annotationdefaults": {
           "arrowcolor": "#2a3f5f",
           "arrowhead": 0,
           "arrowwidth": 1
          },
          "autotypenumbers": "strict",
          "coloraxis": {
           "colorbar": {
            "outlinewidth": 0,
            "ticks": ""
           }
          },
          "colorscale": {
           "diverging": [
            [
             0,
             "#8e0152"
            ],
            [
             0.1,
             "#c51b7d"
            ],
            [
             0.2,
             "#de77ae"
            ],
            [
             0.3,
             "#f1b6da"
            ],
            [
             0.4,
             "#fde0ef"
            ],
            [
             0.5,
             "#f7f7f7"
            ],
            [
             0.6,
             "#e6f5d0"
            ],
            [
             0.7,
             "#b8e186"
            ],
            [
             0.8,
             "#7fbc41"
            ],
            [
             0.9,
             "#4d9221"
            ],
            [
             1,
             "#276419"
            ]
           ],
           "sequential": [
            [
             0,
             "#0d0887"
            ],
            [
             0.1111111111111111,
             "#46039f"
            ],
            [
             0.2222222222222222,
             "#7201a8"
            ],
            [
             0.3333333333333333,
             "#9c179e"
            ],
            [
             0.4444444444444444,
             "#bd3786"
            ],
            [
             0.5555555555555556,
             "#d8576b"
            ],
            [
             0.6666666666666666,
             "#ed7953"
            ],
            [
             0.7777777777777778,
             "#fb9f3a"
            ],
            [
             0.8888888888888888,
             "#fdca26"
            ],
            [
             1,
             "#f0f921"
            ]
           ],
           "sequentialminus": [
            [
             0,
             "#0d0887"
            ],
            [
             0.1111111111111111,
             "#46039f"
            ],
            [
             0.2222222222222222,
             "#7201a8"
            ],
            [
             0.3333333333333333,
             "#9c179e"
            ],
            [
             0.4444444444444444,
             "#bd3786"
            ],
            [
             0.5555555555555556,
             "#d8576b"
            ],
            [
             0.6666666666666666,
             "#ed7953"
            ],
            [
             0.7777777777777778,
             "#fb9f3a"
            ],
            [
             0.8888888888888888,
             "#fdca26"
            ],
            [
             1,
             "#f0f921"
            ]
           ]
          },
          "colorway": [
           "#636efa",
           "#EF553B",
           "#00cc96",
           "#ab63fa",
           "#FFA15A",
           "#19d3f3",
           "#FF6692",
           "#B6E880",
           "#FF97FF",
           "#FECB52"
          ],
          "font": {
           "color": "#2a3f5f"
          },
          "geo": {
           "bgcolor": "white",
           "lakecolor": "white",
           "landcolor": "#E5ECF6",
           "showlakes": true,
           "showland": true,
           "subunitcolor": "white"
          },
          "hoverlabel": {
           "align": "left"
          },
          "hovermode": "closest",
          "mapbox": {
           "style": "light"
          },
          "paper_bgcolor": "white",
          "plot_bgcolor": "#E5ECF6",
          "polar": {
           "angularaxis": {
            "gridcolor": "white",
            "linecolor": "white",
            "ticks": ""
           },
           "bgcolor": "#E5ECF6",
           "radialaxis": {
            "gridcolor": "white",
            "linecolor": "white",
            "ticks": ""
           }
          },
          "scene": {
           "xaxis": {
            "backgroundcolor": "#E5ECF6",
            "gridcolor": "white",
            "gridwidth": 2,
            "linecolor": "white",
            "showbackground": true,
            "ticks": "",
            "zerolinecolor": "white"
           },
           "yaxis": {
            "backgroundcolor": "#E5ECF6",
            "gridcolor": "white",
            "gridwidth": 2,
            "linecolor": "white",
            "showbackground": true,
            "ticks": "",
            "zerolinecolor": "white"
           },
           "zaxis": {
            "backgroundcolor": "#E5ECF6",
            "gridcolor": "white",
            "gridwidth": 2,
            "linecolor": "white",
            "showbackground": true,
            "ticks": "",
            "zerolinecolor": "white"
           }
          },
          "shapedefaults": {
           "line": {
            "color": "#2a3f5f"
           }
          },
          "ternary": {
           "aaxis": {
            "gridcolor": "white",
            "linecolor": "white",
            "ticks": ""
           },
           "baxis": {
            "gridcolor": "white",
            "linecolor": "white",
            "ticks": ""
           },
           "bgcolor": "#E5ECF6",
           "caxis": {
            "gridcolor": "white",
            "linecolor": "white",
            "ticks": ""
           }
          },
          "title": {
           "x": 0.05
          },
          "xaxis": {
           "automargin": true,
           "gridcolor": "white",
           "linecolor": "white",
           "ticks": "",
           "title": {
            "standoff": 15
           },
           "zerolinecolor": "white",
           "zerolinewidth": 2
          },
          "yaxis": {
           "automargin": true,
           "gridcolor": "white",
           "linecolor": "white",
           "ticks": "",
           "title": {
            "standoff": 15
           },
           "zerolinecolor": "white",
           "zerolinewidth": 2
          }
         }
        }
       }
      }
     },
     "metadata": {},
     "output_type": "display_data"
    }
   ],
   "source": [
    "import plotly.express as px\n",
    "\n",
    "# Assuming you have a DataFrame called 'city_data_df' containing city coordinates, hotel names, and countries\n",
    "# city_data_df should have columns: 'City', 'Lat', 'Lng', 'hotel_name', 'country'\n",
    "\n",
    "# Configure the map plot\n",
    "fig = px.scatter_geo(hotel_df, lat='Lat', lon='Lng', hover_name='City',\n",
    "                     hover_data={'City': True, 'Hotel Name': True, 'Country': True},\n",
    "                     projection=\"natural earth\")\n",
    "\n",
    "# Update hover message to include hotel name and country\n",
    "fig.update_traces(hovertemplate='<b>%{hovertext}</b><br>Hotel: %{customdata[0]}<br>Country: %{customdata[1]}')\n",
    "\n",
    "# Display the map\n",
    "fig.show()\n"
   ]
  },
  {
   "cell_type": "code",
   "execution_count": 10,
   "metadata": {},
   "outputs": [
    {
     "data": {
      "text/html": [
       "\n",
       "  <div id=\"bdb93613-2e99-4697-87ad-40eba0020278\" data-root-id=\"p1155\" style=\"display: contents;\"></div>\n"
      ]
     },
     "metadata": {},
     "output_type": "display_data"
    },
    {
     "data": {
      "application/javascript": "(function(root) {\n  function embed_document(root) {\n  const docs_json = {\"7c5511cb-ab0c-4ac0-a50d-14a62003a9ae\":{\"version\":\"3.3.4\",\"title\":\"Bokeh Application\",\"roots\":[{\"type\":\"object\",\"name\":\"Figure\",\"id\":\"p1155\",\"attributes\":{\"x_range\":{\"type\":\"object\",\"name\":\"DataRange1d\",\"id\":\"p1156\"},\"y_range\":{\"type\":\"object\",\"name\":\"DataRange1d\",\"id\":\"p1157\"},\"x_scale\":{\"type\":\"object\",\"name\":\"LinearScale\",\"id\":\"p1165\"},\"y_scale\":{\"type\":\"object\",\"name\":\"LinearScale\",\"id\":\"p1166\"},\"title\":{\"type\":\"object\",\"name\":\"Title\",\"id\":\"p1158\",\"attributes\":{\"text\":\"City Map\"}},\"renderers\":[{\"type\":\"object\",\"name\":\"GlyphRenderer\",\"id\":\"p1194\",\"attributes\":{\"data_source\":{\"type\":\"object\",\"name\":\"ColumnDataSource\",\"id\":\"p1152\",\"attributes\":{\"selected\":{\"type\":\"object\",\"name\":\"Selection\",\"id\":\"p1153\",\"attributes\":{\"indices\":[],\"line_indices\":[]}},\"selection_policy\":{\"type\":\"object\",\"name\":\"UnionRenderers\",\"id\":\"p1154\"},\"data\":{\"type\":\"map\",\"entries\":[[\"index\",{\"type\":\"ndarray\",\"array\":{\"type\":\"bytes\",\"data\":\"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\"},\"shape\":[547],\"dtype\":\"int32\",\"order\":\"little\"}],[\"City\",{\"type\":\"ndarray\",\"array\":[\"fortuna\",\"bredasdorp\",\"papatowai\",\"udachny\",\"saint-philippe\",\"edinburgh of the seven seas\",\"nogliki\",\"invercargill\",\"grytviken\",\"qianzhou\",\"puerto ayora\",\"port-aux-francais\",\"kodiak\",\"wailua homesteads\",\"adamstown\",\"homer\",\"kemin\",\"petropavlovsk-kamchatsky\",\"kolosovka\",\"biloela\",\"waitangi\",\"as saffaniyah\",\"parham\",\"comodoro rivadavia\",\"west island\",\"nemuro\",\"mount pearl\",\"lihue\",\"callao\",\"kovdor\",\"khandyga\",\"ushuaia\",\"colonia\",\"bilibino\",\"georgetown\",\"ribeira grande\",\"hasaki\",\"carnarvon\",\"ebon\",\"nambucca\",\"hadibu\",\"kununurra\",\"lebu\",\"enewetak\",\"tura\",\"buka\",\"nizhniy odes\",\"college\",\"hermosillo\",\"albany\",\"tazovsky\",\"afaahiti\",\"namibe\",\"nelson\",\"puerto natales\",\"codrington\",\"male\",\"iqaluit\",\"vadso\",\"paramonga\",\"porto novo\",\"puerto baquerizo moreno\",\"siwa oasis\",\"margaret river\",\"lakatoro\",\"whitehorse\",\"balykshi\",\"gonbad-e kavus\",\"tambovka\",\"stanley\",\"grand-bassam\",\"olonkinbyen\",\"mujiayingzi\",\"lompoc\",\"sidi ifni\",\"kingston\",\"mandalgovi\",\"aasiaat\",\"sao jose da coroa grande\",\"shitanjing\",\"boa vista\",\"novaya igirma\",\"tiksi\",\"pangai\",\"melekeok village\",\"yellowknife\",\"pamanukan\",\"kapa'a\",\"port lincoln\",\"behshahr\",\"taoudenni\",\"ancud\",\"bac lieu\",\"cockburn town\",\"pitimbu\",\"blackmans bay\",\"hamilton\",\"fort bragg\",\"bethel\",\"saldanha\",\"chibougamau\",\"treasure island\",\"manaure\",\"vorkuta\",\"hawaiian paradise park\",\"xining\",\"tindouf\",\"kyzyl-mazhalyk\",\"salym\",\"saipan\",\"shakiso\",\"talodi\",\"palikir - national government center\",\"chauk\",\"isafjordur\",\"salmas\",\"hotan\",\"pisco\",\"cambridge\",\"bubaque\",\"mogocha\",\"alofi\",\"talnakh\",\"uturoa\",\"bodo\",\"punta arenas\",\"karor\",\"klaksvik\",\"nouadhibou\",\"ola\",\"labytnangi\",\"kingscliff\",\"chuguyevka\",\"qaqortoq\",\"keflavik\",\"tot'ma\",\"mana\",\"mhamid\",\"arno\",\"dumbea\",\"the bottom\",\"glace bay\",\"ostersund\",\"chui\",\"sechura\",\"loncoche\",\"mora\",\"jamestown\",\"ciudad mante\",\"alice springs\",\"ciudad del maiz\",\"las tablas\",\"vilyuchinsk\",\"bonthe\",\"newman\",\"zaozersk\",\"tazacorte\",\"oyama\",\"sao joao da barra\",\"kattivakkam\",\"kisangani\",\"turkmenbasy\",\"hami\",\"bir el ater\",\"ovalle\",\"iskateley\",\"thompson\",\"mount gambier\",\"jayapura\",\"nuuk\",\"anadyr\",\"portland\",\"balabac\",\"naze\",\"avarua\",\"yeed\",\"nyurba\",\"howard springs\",\"tandalti\",\"east london\",\"lagunas\",\"okhotsk\",\"arti\",\"patterson\",\"dudinka\",\"george town\",\"loen\",\"sorong\",\"sen monorom\",\"chamical\",\"yerofey pavlovich\",\"gadzhiyevo\",\"utrik\",\"jinhua\",\"coahuayana de hidalgo\",\"pangody\",\"port mathurin\",\"la'ie\",\"greymouth\",\"lazaro cardenas\",\"westport\",\"magnitogorsk\",\"santana\",\"akureyri\",\"alto araguaia\",\"tyukhtet\",\"kamaishi\",\"mitsamiouli\",\"touros\",\"ghormach\",\"sitka\",\"san andres\",\"lata\",\"piritiba\",\"bamboo flat\",\"kavieng\",\"flying fish cove\",\"chojna\",\"zavitinsk\",\"pyinmana\",\"mil'kovo\",\"sangod\",\"melfi\",\"onokhoy\",\"san luis de la loma\",\"mar del plata\",\"samana\",\"allapalli\",\"brokopondo\",\"maymana\",\"romanovo\",\"daru\",\"constantia\",\"galliano\",\"egilsstadir\",\"chabahar\",\"namtsy\",\"goksun\",\"vorgashor\",\"camana\",\"malango\",\"riberalta\",\"praia da vitoria\",\"forster\",\"quatre cocos\",\"remire-montjoly\",\"mount isa\",\"caconda\",\"port moresby\",\"saladan\",\"cadale\",\"ha'il\",\"kodinsk\",\"kota kinabalu\",\"port alfred\",\"mumford\",\"minas de marcona\",\"veraval\",\"muttupet\",\"jacobina\",\"wynyard\",\"ilhabela\",\"gobabis\",\"tonekabon\",\"midvagur\",\"krasyliv\",\"capela do alto\",\"molalla\",\"hermanus\",\"tadjourah\",\"port macquarie\",\"longyearbyen\",\"port elizabeth\",\"san antonio de pale\",\"kralendijk\",\"kalabo\",\"pieksamaki\",\"santa sylvina\",\"labrador city\",\"guantanamo\",\"lefkada\",\"menaka\",\"kill devil hills\",\"benguela\",\"undurkhaan\",\"tejen\",\"lys'va\",\"klyuchi\",\"salalah\",\"beira\",\"cartagena del chaira\",\"bratsk\",\"altay\",\"pyapon\",\"al ghayzah\",\"kapuskasing\",\"karymskoye\",\"ust'-kulom\",\"bengkulu\",\"ilulissat\",\"impfondo\",\"sandakan\",\"bhamo\",\"broken hill\",\"geraldton\",\"turbat\",\"la passe\",\"narra\",\"kutahya\",\"rongelap\",\"sokolow podlaski\",\"kourou\",\"mukalla\",\"kolonia\",\"badger\",\"tucupita\",\"buala\",\"sanya\",\"san patricio\",\"puerto deseado\",\"atafu village\",\"kaitong\",\"santa cruz\",\"lai chau\",\"kohat\",\"fale old settlement\",\"el granada\",\"susuman\",\"aykhal\",\"havre\",\"sandnessjoen\",\"colon\",\"ust-nera\",\"berd\",\"nema\",\"alto lucero\",\"al bardiyah\",\"alta sierra\",\"red chute\",\"saint-pierre\",\"bondo\",\"tangalle\",\"tolanaro\",\"filingue\",\"amboasary\",\"gorgan\",\"narsingi\",\"santa ana\",\"aksu\",\"altinyayla\",\"ihosy\",\"dryden\",\"port douglas\",\"jumri tilaiya\",\"mambajao\",\"nayoro\",\"chibuto\",\"fukuyama\",\"luga\",\"ziro\",\"port blair\",\"howrah\",\"tual\",\"brookings\",\"sosnovo-ozerskoye\",\"nehe\",\"antofagasta\",\"tamanrasset\",\"itamaraca\",\"bucerias\",\"villa gesell\",\"verkhnevilyuysk\",\"selfoss\",\"coquimbo\",\"west wodonga\",\"rujewa\",\"acapulco de juarez\",\"kirensk\",\"nagqu\",\"fort st. john\",\"dalton\",\"sydney\",\"inari\",\"kruisfontein\",\"zouerate\",\"santiago del torno\",\"mettur\",\"dunda\",\"chulakkurgan\",\"shenjiamen\",\"ulety\",\"oranjemund\",\"chonchi\",\"choibalsan\",\"mytilene\",\"pasighat\",\"prainha\",\"ciudad lazaro cardenas\",\"viedma\",\"arkhangel'sk\",\"peterhead\",\"pabrade\",\"khovd\",\"kiunga\",\"corinto\",\"banda aceh\",\"bolhrad\",\"kismayo\",\"kavaratti\",\"ceerigaabo\",\"weno\",\"serres\",\"taulaga\",\"kalmunai\",\"bastrop\",\"inhambane\",\"wickenburg\",\"cheongsong gun\",\"changuinola\",\"nova sintra\",\"kindu\",\"marat\",\"camocim\",\"margate\",\"lido adriano\",\"paka\",\"san pedro\",\"arraial do cabo\",\"santo antonio do ica\",\"luganville\",\"xinzhi\",\"leer\",\"unai\",\"freetown\",\"xishan\",\"okha\",\"kharabali\",\"island harbour\",\"kuusamo\",\"vila velha\",\"lensk\",\"thayetmyo\",\"nar'yan-mar\",\"kaa-khem\",\"palmas\",\"kemijarvi\",\"hithadhoo\",\"gobindpur\",\"huaicheng\",\"axim\",\"laxey\",\"acarau\",\"chipinge\",\"inarajan village\",\"santa ana de yacuma\",\"frontera\",\"larkird\",\"holualoa\",\"vilyuysk\",\"katima mulilo\",\"mugia\",\"igra\",\"darwin\",\"katsuura\",\"qamdo\",\"farim\",\"calama\",\"tocopilla\",\"murun-kuren\",\"hastings\",\"lamu\",\"nuku'alofa\",\"lionel town\",\"al jawf\",\"ilava\",\"xilin hot\",\"kem'\",\"suwannaphum\",\"haiku-pauwela\",\"sainte-anne-des-monts\",\"mahina\",\"lahat\",\"sisimiut\",\"aver-o-mar\",\"luderitz\",\"ratnagiri\",\"mbale\",\"kenai\",\"pruzhany\",\"poronaysk\",\"rangkasbitung\",\"hakui\",\"shalqar\",\"paraty\",\"khenchela\",\"urangan\",\"trairi\",\"shar\",\"lerwick\",\"imperia\",\"rio gallegos\",\"port hedland\",\"puan\",\"kone\",\"aripuana\",\"alaghsas\",\"kostyantynivka\",\"rabo de peixe\",\"sao vicente\",\"city of balikpapan\",\"colchani\",\"mareeba\",\"ati\",\"chadan\",\"sabang\",\"camas\",\"ulsteinvik\",\"dunedin\",\"tofol\",\"shache\",\"porbandar\",\"plettenberg bay\",\"kehychivka\",\"gillette\",\"karrapur\",\"levuka\",\"dzhangala\",\"wynne\",\"mtwara\",\"kintinku\",\"pangkalpinang\",\"shihezi\",\"cole harbour\",\"fujin\",\"altamont\",\"el bauga\",\"guerrero negro\",\"tiebo\",\"shulan\",\"farafangana\",\"zhaotong\",\"bardai\",\"saint-joseph\",\"kayangel\",\"yorosso\",\"serdar\",\"ta`u\"],\"shape\":[547],\"dtype\":\"object\",\"order\":\"little\"}],[\"Country\",{\"type\":\"ndarray\",\"array\":[\"US\",\"ZA\",\"NZ\",\"RU\",\"RE\",\"SH\",\"RU\",\"NZ\",\"GS\",\"CN\",\"EC\",\"TF\",\"US\",\"US\",\"PN\",\"US\",\"KG\",\"RU\",\"RU\",\"AU\",\"NZ\",\"SA\",\"AG\",\"AR\",\"CC\",\"JP\",\"CA\",\"US\",\"PE\",\"RU\",\"RU\",\"AR\",\"DE\",\"RU\",\"MY\",\"PT\",\"JP\",\"AU\",\"MH\",\"AU\",\"YE\",\"AU\",\"CL\",\"MH\",\"IN\",\"UZ\",\"RU\",\"US\",\"MX\",\"US\",\"RU\",\"PF\",\"AO\",\"NZ\",\"CL\",\"AU\",\"MV\",\"CA\",\"NO\",\"PE\",\"BJ\",\"EC\",\"EG\",\"AU\",\"VU\",\"CA\",\"KZ\",\"IR\",\"RU\",\"GB\",\"CI\",\"SJ\",\"CN\",\"US\",\"MA\",\"JM\",\"MN\",\"GL\",\"BR\",\"CN\",\"BR\",\"RU\",\"RU\",\"TO\",\"PW\",\"CA\",\"ID\",\"US\",\"AU\",\"IR\",\"ML\",\"CL\",\"VN\",\"TC\",\"BR\",\"AU\",\"US\",\"US\",\"US\",\"ZA\",\"CA\",\"US\",\"CO\",\"RU\",\"US\",\"CN\",\"DZ\",\"RU\",\"RU\",\"MP\",\"ET\",\"SD\",\"FM\",\"MM\",\"IS\",\"IR\",\"CN\",\"PE\",\"CA\",\"GW\",\"RU\",\"NU\",\"RU\",\"PF\",\"NO\",\"CL\",\"PK\",\"FO\",\"MR\",\"RU\",\"RU\",\"AU\",\"RU\",\"GL\",\"IS\",\"RU\",\"GF\",\"MA\",\"SE\",\"NC\",\"BQ\",\"CA\",\"SE\",\"UY\",\"PE\",\"CL\",\"CM\",\"US\",\"MX\",\"AU\",\"MX\",\"PA\",\"RU\",\"SL\",\"US\",\"RU\",\"ES\",\"JP\",\"BR\",\"IN\",\"CD\",\"TM\",\"CN\",\"DZ\",\"CL\",\"RU\",\"CA\",\"AU\",\"ID\",\"GL\",\"RU\",\"US\",\"PH\",\"JP\",\"CK\",\"SO\",\"RU\",\"AU\",\"SD\",\"ZA\",\"PE\",\"RU\",\"RU\",\"US\",\"RU\",\"MY\",\"MH\",\"ID\",\"KH\",\"AR\",\"RU\",\"RU\",\"MH\",\"CN\",\"MX\",\"RU\",\"MU\",\"US\",\"NZ\",\"MX\",\"US\",\"RU\",\"BR\",\"IS\",\"BR\",\"RU\",\"JP\",\"KM\",\"BR\",\"AF\",\"US\",\"CO\",\"PT\",\"BR\",\"IN\",\"PG\",\"CX\",\"PL\",\"RU\",\"MM\",\"RU\",\"IN\",\"IT\",\"RU\",\"MX\",\"AR\",\"DO\",\"IN\",\"SR\",\"AF\",\"RU\",\"PG\",\"RO\",\"US\",\"IS\",\"IR\",\"RU\",\"TR\",\"RU\",\"PE\",\"ID\",\"BO\",\"PT\",\"AU\",\"MU\",\"GF\",\"AU\",\"AO\",\"PG\",\"TH\",\"SO\",\"SA\",\"RU\",\"MY\",\"ZA\",\"GH\",\"PE\",\"IN\",\"IN\",\"BR\",\"AU\",\"BR\",{\"type\":\"number\",\"value\":\"nan\"},\"IR\",\"FO\",\"UA\",\"BR\",\"US\",\"ZA\",\"DJ\",\"AU\",\"SJ\",\"ZA\",\"GQ\",\"BQ\",\"ZM\",\"FI\",\"AR\",\"CA\",\"CU\",\"GR\",\"ML\",\"US\",\"AO\",\"MN\",\"TM\",\"RU\",\"RU\",\"OM\",\"MZ\",\"CO\",\"RU\",\"CN\",\"MM\",\"YE\",\"CA\",\"RU\",\"RU\",\"ID\",\"GL\",\"CG\",\"MY\",\"MM\",\"AU\",\"AU\",\"PK\",\"FR\",\"PH\",\"TR\",\"MH\",\"PL\",\"GF\",\"YE\",\"DE\",\"US\",\"VE\",\"SB\",\"CN\",\"US\",\"AR\",\"TK\",\"CN\",\"BO\",\"VN\",\"PK\",\"TK\",\"US\",\"RU\",\"RU\",\"FR\",\"NO\",\"PA\",\"RU\",\"AM\",\"RU\",\"MX\",\"LY\",\"US\",\"US\",\"RE\",\"CD\",\"LK\",\"MG\",\"NE\",\"MG\",\"IR\",\"IN\",\"US\",\"CN\",\"TR\",\"MG\",\"CA\",\"AU\",\"IN\",\"PH\",\"JP\",\"MZ\",\"JP\",\"RU\",\"IN\",\"IN\",\"IN\",\"ID\",\"US\",\"RU\",\"CN\",\"CL\",\"DZ\",\"BR\",\"MX\",\"AR\",\"RU\",\"IS\",\"CL\",\"AU\",\"TZ\",\"MX\",\"RU\",\"CN\",\"CA\",\"US\",\"AU\",\"FI\",\"ZA\",\"MR\",\"BO\",\"IN\",\"TZ\",\"KZ\",\"CN\",\"RU\",{\"type\":\"number\",\"value\":\"nan\"},\"CL\",\"MN\",\"GR\",\"IN\",\"BR\",\"MX\",\"AR\",\"RU\",\"GB\",\"LT\",\"MN\",\"PG\",\"GR\",\"ID\",\"UA\",\"SO\",\"IN\",\"SO\",\"FM\",\"GR\",\"AS\",\"LK\",\"US\",\"MZ\",\"US\",\"KR\",\"PA\",\"CV\",\"CD\",\"SA\",\"BR\",\"GB\",\"IT\",\"MY\",\"PH\",\"BR\",\"BR\",\"VU\",\"CN\",\"DE\",\"BR\",\"SL\",\"CN\",\"RU\",\"RU\",\"GB\",\"FI\",\"BR\",\"RU\",\"MM\",\"RU\",\"RU\",\"BR\",\"FI\",\"MV\",\"IN\",\"CN\",\"GH\",\"IM\",\"BR\",\"ZW\",\"GU\",\"BO\",\"MX\",\"AF\",\"US\",\"RU\",{\"type\":\"number\",\"value\":\"nan\"},\"ES\",\"RU\",\"AU\",\"JP\",\"CN\",\"GW\",\"CL\",\"CL\",\"MN\",\"GB\",\"KE\",\"TO\",\"JM\",\"SA\",\"SK\",\"CN\",\"RU\",\"TH\",\"US\",\"CA\",\"PF\",\"ID\",\"GL\",\"PT\",{\"type\":\"number\",\"value\":\"nan\"},\"IN\",\"UG\",\"US\",\"BY\",\"RU\",\"ID\",\"JP\",\"KZ\",\"BR\",\"DZ\",\"AU\",\"BR\",\"KZ\",\"GB\",\"IT\",\"AR\",\"AU\",\"KR\",\"NC\",\"BR\",\"NE\",\"UA\",\"PT\",\"BR\",\"ID\",\"BO\",\"AU\",\"TD\",\"RU\",\"ID\",\"ES\",\"NO\",\"NZ\",\"FM\",\"CN\",\"IN\",\"ZA\",\"UA\",\"US\",\"IN\",\"CA\",\"KZ\",\"US\",\"TZ\",\"TZ\",\"ID\",\"CN\",\"CA\",\"CN\",\"US\",\"SD\",\"MX\",\"SN\",\"CN\",\"MG\",\"CN\",\"NG\",\"RE\",\"PW\",\"ML\",\"TM\",\"AS\"],\"shape\":[547],\"dtype\":\"object\",\"order\":\"little\"}],[\"Lat\",{\"type\":\"ndarray\",\"array\":{\"type\":\"bytes\",\"data\":\"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\"},\"shape\":[547],\"dtype\":\"float64\",\"order\":\"little\"}],[\"Lng\",{\"type\":\"ndarray\",\"array\":{\"type\":\"bytes\",\"data\":\"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\"},\"shape\":[547],\"dtype\":\"float64\",\"order\":\"little\"}],[\"Humidity\",{\"type\":\"ndarray\",\"array\":{\"type\":\"bytes\",\"data\":\"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\"},\"shape\":[547],\"dtype\":\"int32\",\"order\":\"little\"}],[\"Hotel Name\",{\"type\":\"ndarray\",\"array\":[\"Comfort Inn & Suites Redwood Country\",\"Victoria Hotel\",\"No hotel found\",\"\\u0412\\u0438\\u043b\\u044e\\u0439\",\"Le Baril\",\"No hotel found\",\"\\u041d\\u043e\\u0433\\u043b\\u0438\\u043a\\u0438\",\"The Grand\",\"No hotel found\",\"JinHuang Hotel\",\"Hostal La Mirada De Solitario George\",\"Keravel\",\"Shelikof Lodge\",\"Hilton Garden Inn Kauai Wailua Bay\",\"No hotel found\",\"Driftwood Inn & Homer Seaside Lodges\",\"\\u041a\\u0435\\u043c\\u0438\\u043d\",\"\\u041e\\u041e\\u041e \\u041f\\u043e\\u0441\\u0442\\u043e\\u044f\\u043b\\u044b\\u0439 \\u0434\\u0432\\u043e\\u0440\",\"No hotel found\",\"Settlers Hotel Motel\",\"Hotel Chathams\",\"No hotel found\",\"Oceanic View Exclusive Vacation Cottages\",\"No hotel found\",\"Cocos Village Bungalows\",\"\\u304a\\u5bbf\\u30a8\\u30af\\u30cf\\u30b7\",\"Sandman Signature St. John's\",\"Kauai Palms\",\"Casa Ronald\",\"\\u041e\\u0447\\u0430\\u0433\",\"\\u0410\\u043f\\u0435\\u043b\\u044c\\u0441\\u0438\\u043d\",\"Apart Hotel Aires del Beagle\",\"Wasserturm Hotel Cologne\",\"No hotel found\",\"Page 63 hostel\",\"Hospedaria JSF\",\"\\u5927\\u65b0\\u65c5\\u9928\",\"No hotel found\",\"No hotel found\",\"No hotel found\",\"No hotel found\",\"No hotel found\",\"No hotel found\",\"No hotel found\",\"No hotel found\",\"No hotel found\",\"No hotel found\",\"BEST WESTERN PLUS Pioneer Park Inn\",\"Lucerna\",\"No hotel found\",\"\\u0422\\u0430\\u0437\\u043e\\u0432\\u0447\\u0430\\u043d\\u043a\\u0430\",\"Omati Lodge\",\"Hotel Chik Chik Namibe\",\"Skylight Villa\",\"Dorotea Patagonia Hostel\",\"No hotel found\",\"Champa Central Hotel\",\"Frobisher Inn\",\"Scandic Vads\\u00f8\",\"Hotel Rico\",\"H\\u00f4tel 6500 CFA\",\"Dory's House\",\"\\u0641\\u0646\\u062f\\u0642 \\u0627\\u0644\\u0643\\u064a\\u0644\\u0627\\u0646\\u0649\",\"Margaret River Hotel\",\"No hotel found\",\"Town & Mountain Hotel\",\"\\u0410\\u0440\\u0430\\u0441\\u0430\\u043d\",\"\\u0647\\u062a\\u0644 \\u0642\\u0627\\u0628\\u0648\\u0633\",\"No hotel found\",\"Hotel 52\",\"H\\u00f4tel 3G\",\"No hotel found\",\"No hotel found\",\"Embassy Suites by Hilton Lompoc Central Coast\",\"Hotel \\u00c9re Nouvelle\",\"Aphrodite Hotel\",\"\\u0411\",\"S\\u00d8MA\",\"Hotel do Sol\",\"No hotel found\",\"Aipana Plaza Hotel\",\"\\u0422\\u0430\\u0439\\u0433\\u0430\",\"\\u0410\\u0440\\u043a\\u0442\\u0438\\u043a\\u0430\",\"Billy's Place\",\"No hotel found\",\"No hotel found\",\"No hotel found\",\"Pono Kai Resort\",\"Boston Hotel\",\"\\u0647\\u062a\\u0644 \\u0627\\u0634\\u0631\\u0641\",\"No hotel found\",\"Caba\\u00f1as\",\"Kh\\u00e1ch s\\u1ea1n B\\u1ea1c Li\\u00eau\",\"The Salt Raker Inn\",\"Pousada Brisa Mar\",\"Villa Howden\",\"North Vista Manor\",\"Airborne Inn Lodging\",\"Hampton Inn Danbury\",\"Hoedjesbaai\",\"No hotel found\",\"Thunderbird Beach Resort\",\"hotel palaima\",\"\\\"\\u041c\\u0435\\u0433\\u0430\\u043f\\u043e\\u043b\\u0438\\u0441\\\"\",\"No hotel found\",\"Qinghai hotel\",\"\\u0645\\u062d\\u0645\\u062f \\u0628\\u0648\\u0633\\u0628\\u064a\",\"No hotel found\",\"\\u041a\\u0430\\u0440\\u0430\\u0432\\u0430\\u043d\\u0438\",\"Chalan Kanoa Beach Hotel\",\"No hotel found\",\"No hotel found\",\"Mangrove Bay Hotel\",\"Royal Chauk\",\"H\\u00f3tel Horn\",\"\\u0647\\u062a\\u0644 \\u0622\\u062a\\u0627\",\"Hua Yi International Hotel (accepts foreigners)\",\"La Portada\",\"Travelodge\",\"Chez Julio\",\"7Ka\",\"Matavai Resort\",\"\\u0422\\u0430\\u043b\\u043d\\u0430\\u0445\",\"Hawaiki Nui hotel\",\"Zefyr hotell\",\"Hotel Lacolet\",\"No hotel found\",\"Hotel Klaksvik\",\"Hotel valencia\",\"No hotel found\",\"\\u0421\\u0435\\u043c\\u044c \\u043b\\u0438\\u0441\\u0442\\u0432\\u0435\\u043d\\u043d\\u0438\\u0446\",\"Kingscliff Beach Hotel\",\"No hotel found\",\"Hotel Qaqortoq\",\"N\\u00fapan Deluxe\",\"No hotel found\",\"Le Samana\",\"Hotel Kasbah Azalay\",\"Pensionat Grisslehamns\",\"H\\u00f4tel Quality Resort Rivland\",\"Queen's Garden Resort\",\"No hotel found\",\"Hotell Stortorget\",\"Alerces\",\"Maximus Inn\",\"Loncoche\",\"H\\u00f4tel Podoko\",\"DoubleTree Jamestown\",\"Hotel zaens\",\"Aurora Alice Springs\",\"No hotel found\",\"Hotel Don Jesus\",\"\\u041f\\u043e\\u0431\\u0435\\u0434\\u0430\",\"No hotel found\",\"No hotel found\",\"\\u0421\\u0435\\u0432\\u0435\\u0440\\u043d\\u043e\\u0435 \\u0441\\u0438\\u044f\\u043d\\u0438\\u0435\",\"App Leyma\",\"\\u6771\\u6a2a\\u30a4\\u30f3 \\u5c0f\\u5c71\\u99c5\\u6771\\u53e31\",\"Pousada Mediterr\\u00e2neo\",\"No hotel found\",\"Hotel Kisangani\",\"T\\u00fcrkmenba\\u015fy Oteli\",\"\\u0425\\u0430\\u043c\\u0438\",\"\\u0641\\u0646\\u062f\\u0642 \\u0627\\u0644\\u0634\\u0641\\u064a\\u0642\",\"Hotel Roxy\",\"\\u0410\\u0432\\u0430\\u043d\\u0442\\u0430\\u0436\",\"Thompson Inn\",\"The Old Mount Gambier Gaol\",\"Hotel Jasmine Jayapura\",\"Nordbo\",\"\\u0413\\u043e\\u0441\\u0442\\u0435\\u0432\\u043e\\u0439 \\u0434\\u043e\\u043c\",\"the Hoxton\",\"No hotel found\",\"\\u30d3\\u30b8\\u30cd\\u30b9\\u65c5\\u9928\\u7560\\u5c71\",\"Paradise Inn\",\"No hotel found\",\"\\u041c\\u0430\\u0440\\u0438\\u043d\\u0430\",\"No hotel found\",\"No hotel found\",\"No hotel found\",\"Hospedaje Eco\",\"No hotel found\",\"No hotel found\",\"Hampton Inn & Suites\",\"\\u0412\\u0438\\u043a\\u0442\\u043e\\u0440\\u0438\\u044f\",\"Page 63 hostel\",\"No hotel found\",\"Hotel Membramo Marina\",\"Pich Tevy\",\"No hotel found\",\"No hotel found\",\"\\u041e\\u0430\\u0437\\u0438\\u0441\",\"No hotel found\",\"\\u90ae\\u82d1\\u5bbe\\u9986\",\"No hotel found\",\"\\u0413\\u0430\\u0437\\u043f\\u0440\\u043e\\u043c \\u044d\\u043d\\u0435\\u0440\\u0433\\u043e\",\"Escale Vacances\",\"No hotel found\",\"Recreation Hotel\",\"Hotel Sol del Pac\\u00edfico\",\"Norwalk Inn and Conference Center\",\"\\u041b\\u0430\\u0433\\u0443\\u043d\\u0430\",\"Hotel Teodoro\",\"H\\u00f3tel Nor\\u00f0urland\",\"Hotel Araguaia\",\"No hotel found\",\"\\u91dc\\u77f3\\u30d9\\u30a4\\u30b7\\u30c6\\u30a3\\u30db\\u30c6\\u30eb\",\"Hotel le Paradis\",\"Pousada Atl\\u00e2ntico\",\"No hotel found\",\"Aspen Suites Hotel\",\"Hotel Decameron Isle\\u00f1o\",\"Residencial Bot\\u00e2nico\",\"No hotel found\",\"Hotel Megapode Nest\",\"Kavieng Hotel\",\"Christmas Island Lodge\",\"No hotel found\",\"\\u041b\\u044e\\u043a\\u0441\",\"Myint Myat Hotel\",\"\\u0414\\u0440\\u043e\\u0437\\u0434\\u044b\",\"No hotel found\",\"Hotel Due Pini\",\"No hotel found\",\"No hotel found\",\"Gran hotel M\\u00f3naco\",\"Hotel Cotubanam\\u00e1\",\"No hotel found\",\"Matu eiland\",\"No hotel found\",\"No hotel found\",\"Kuki\",\"Hotel Ch\\u00e9rica\",\"Fairfield Inn & Suites by Marriott Cut Off-Galliano\",\"Valaskj\\u00e1lf\",\"\\u0647\\u062a\\u0644 \\u0633\\u067e\\u06cc\\u062f\\u0647\",\"No hotel found\",\"G\\u00f6ksun \\u00d6\\u011fretmenevi\",\"\\u0421\\u043e\\u0444\\u0438\\u044f\",\"Caja Arequipa\",\"Madarana\",\"Hotel Jomali\",\"Salles\",\"No hotel found\",\"Horisun\",\"Complexe Belova\",\"Ibis Styles\",\"No hotel found\",\"The Sanctuary Hotel and Spa\",\"KoHub Apartments\",\"No hotel found\",\"\\u0641\\u0646\\u062f\\u0642 \\u0643\\u0644\\u0627\\u0633\\u064a\\u0643\",\"\\u0410\\u043d\\u0433\\u0430\\u0440\\u0430\",\"Cititel Express\",\"No hotel found\",\"Blue Diamond Beach Spa Resort\",\"No hotel found\",\"Shyam\",\"No hotel found\",\"Hotel Jovem Jota\",\"Wynyard Hotel\",\"Vila Kebaya\",\"Kalahari Convention Centre Hotel\",\"\\u0633\\u0627\\u062e\\u062a\\u0645\\u0627\\u0646 \\u067e\\u0627\\u0631\\u0633\\u06cc\\u0627\\u0646 \\u06f2\",\"GiljaHome\",\"\\u041f\\u0430\\u0440\\u0430\\u0434\\u0456\\u0441\",\"Hotel Fazenda Reviver\",\"The Prairie House Inn\",\"Aloe guest house\",\"No hotel found\",\"The Observatory\",\"The Vault\",\"Waterford Hotel\",\"No hotel found\",\"Hotel Bonaire Inn\",\"Golden Lodge Luxury Acomodation\",\"Ysihotelli\",\"No hotel found\",\"Carol Inn\",\"Hotel Mart\\u00ed\",\"Ianos\",\"No hotel found\",\"Mariner Days Inn & Suites\",\"Hotel Moibela\",\"Khanburged Hotel\",\"Tejen Myhmanhanasy\",\"\\\"\\u0410\\u0441\\u043e\\u043b\\u044c\\\"\",\"No hotel found\",\"Muscat International Hotel\",\"Hotel Savoy\",\"Los Corceles\",\"\\u0422\\u0440\\u0438 \\u043a\\u0438\\u0442\\u0430\",\"Sunshine Holiday Hotel\",\"No hotel found\",\"\\u0641\\u0646\\u062f\\u0642 \\u062a\\u0627\\u062c \\u0627\\u0644\\u0639\\u0631\\u0628\",\"Travelodge\",\"No hotel found\",\"No hotel found\",\"Dena Hotel\",\"Best Western Plus Hotel Ilulissat\",\"Tropicana\",\"Hotel City Star\",\"Winlight Hotel\",\"Ibis Styles\",\"Ocean Centre Hotel\",\"No hotel found\",\"L'Estuaire\",\"Jose Liza Pension\",\"Hilton Garden Inn Kutahya\",\"No hotel found\",\"Pokoje Go\\u015bcinne Bar Sok\\u00f3\\u0142\",\"SCI Horizon\",\"\\u0641\\u0646\\u062f\\u0642 \\u0627\\u0644\\u062c\\u0627\\u0628\\u0631\\u064a\",\"Wasserturm Hotel Cologne\",\"Hotel North Pole\",\"Hotel salma suit\",\"No hotel found\",\"\\u0425\\u0443\\u0431\\u0430\\u0451\\u0448\\u0438\",\"No hotel found\",\"Los Olmos\",\"No hotel found\",\"No hotel found\",\"Aviador Hotel Boutique\",\"Minh Tuan Hotel\",\"No hotel found\",\"No hotel found\",\"Beach House\",\"No hotel found\",\"\\u0423\\u044e\\u0442\",\"Le Relais des 2 Normandies\",\"Scandic Syv S\\u00f8stre\",\"Hotel Plaza\",\"\\u0433\\u043e\\u0441\\u0442\\u0438\\u043d\\u0438\\u0446\\u0430 \\\"\\u0421\\u043e\\u043b\\u043d\\u0435\\u0447\\u043d\\u0430\\u044f\\\"\",\"Utiq\",\"No hotel found\",\"Cantil\",\"\\u0641\\u0646\\u062f\\u0642 \\u0627\\u0644\\u0628\\u0631\\u062f\\u064a\",\"No hotel found\",\"Harrah's Louisiana Downs\",\"Tropic Hotel\",\"No hotel found\",\"Coco Tangalla\",\"H\\u00f4tel Mahavokey\",\"No hotel found\",\"No hotel found\",\"\\u0647\\u062a\\u0644 \\u062e\\u06cc\\u0627\\u0645\",\"No hotel found\",\"Holiday Inn Express\",\"Akesu Tianyuan International Hotel\",\"No hotel found\",\"No hotel found\",\"Holiday Inn Express\",\"Mantra Aqueous Port Douglas\",\"No hotel found\",\"GV Hotel Camigun\",\"Hotel MyStays Nayoro\",\"DESHENG\",\"nh\\u1eadp cty\",\"\\u041b\\u0443\\u0433\\u0430\",\"No hotel found\",\"Andaman Ocean Breeze\",\"Sun India Guest House\",\"Suita\",\"Quality Inn\",\"\\u041e\\u0437\\u0451\\u0440\\u043d\\u0430\\u044f\",\"No hotel found\",\"Hotel Col\\u00f3n\",\"\\u0641\\u0646\\u062f\\u0642 \\u0627\\u0644\\u0623\\u0645\\u0627\\u0646\",\"No hotel found\",\"Royal Decameron Complex\",\"Hotel El Faro\",\"No hotel found\",\"Mi\\u00f0gar\\u00f0ur\",\"Hotel Iberia\",\"Quest Apartments\",\"No hotel found\",\"Hotel del Valle\",\"\\u0418\\u0432\\u0443\\u0448\\u043a\\u0430\",\"Naqu Hotel\",\"Fort St. John Motor Inn\",\"Days Inn\",\"The Fullerton Hotel\",\"Villa Lanca\",\"No hotel found\",\"\\u0641\\u0646\\u062f\\u0642 \\u062a\\u064a\\u0631\\u0633 \\u0632\\u0645\\u0648\\u0631\",\"Jhoni\",\"Tamilnadu Mettur\",\"No hotel found\",\"\\u0430\\u0434\\u0435\\u043c\\u0438\",\"Zhonghan Hotel\",\"No hotel found\",\"Op My Stoep\",\"Hotel Huild\\u00edn\",\"\\u0417\\u04af\\u04af\\u043d \\u041e\\u0440\\u0434\\u043e\\u043d \\u0417\\u043e\\u0447\\u0438\\u0434 \\u0411\\u0443\\u0443\\u0434\\u0430\\u043b\",\"\\u039b\\u0391 \\u039c\\u0399\\u03a1\\u0391\\u0396\",\"Aane Hotel\",\"No hotel found\",\"Hotel Sol del Pac\\u00edfico\",\"N\\u00edjar\",\"\\u0421\\u0435\\u0440\\u0430\\u0444\\u0438\\u043c\\u0430\",\"Albert Hotel\",\"No hotel found\",\"Khovd hotel\",\"No hotel found\",\"Apollon\",\"Hotel 61\",\"\\u041a\\u043e\\u043e\\u043f\\u0435\\u0440\\u0430\\u0442\\u043e\\u0440\",\"Kismayo Hotel\",\"No hotel found\",\"Sanaag Hotel\",\"High Tide Hotel\",\"Hotel Galaxy\",\"No hotel found\",\"Saji new food\",\"No hotel found\",\"Hotel de Inhambane\",\"Best Western Rancho Grande\",\"\\uc8fc\\uc655\\uc0b0\\uc628\\ucc9c\\uad00\\uad11\\ud638\\ud154\",\"Goden Sahara\",\"Resid\\u00eancia Ka Dencho\",\"No hotel found\",\"No hotel found\",\"Hotel Camocim\",\"The Reading Rooms\",\"Azzurra\",\"Paka Inn\",\"Hotel Takara\",\"No hotel found\",\"No hotel found\",\"Beachfront Resort\",\"No hotel found\",\"Hotel Hafenspeicher\",\"Hotel Fazenda Curva do Rio\",\"Formal Leona hotel\",\"Dongfeng\",\"\\u0421\\u0444\\u0435\\u0440\\u0430\",\"No hotel found\",\"Premier Inn\",\"Holiday Club Kuusamon Tropiikki\",\"Hotel Prainha\",\"No hotel found\",\"No hotel found\",\"\\u0413\\u043e\\u0441\\u0442\\u0438\\u043d\\u0438\\u0446\\u0430 \\\"\\u0410\\u0433\\u0430\\u0442\\\"\",\"No hotel found\",\"Hotel Tri\\u00e2ngulo Mineiro\",\"Hotelli Kemij\\u00e4rvi\",\"Pebbles Inn\",\"No hotel found\",\"No hotel found\",\"Axim Beach Hotel\",\"Groudle Glen Cottages\",\"No hotel found\",\"No hotel found\",\"No hotel found\",\"No hotel found\",\"Quirino\",\"No hotel found\",\"Kona Hotel\",\"\\u041c\\u0430\\u0440\\u0438\\u044f\",\"Zambezi River Lodge\",\"Solpor do Co\\u00eddo\",\"\\u0421\\u0443\\u0442\\u044d\\u0440\\u043e\",\"Mantra Pantanas Darwin\",\"\\u6f6e\\u9a12\\u306e\\u5bbf\",\"\\u94f6\\u674f\\u5546\\u52a1\\u5bbe\\u9986\",\"No hotel found\",\"Apart Hotel Geotel Calama\",\"hotel Isidora\",\"No hotel found\",\"White Rock Hotel\",\"Hotel Archipelago villa bed and breakfast\",\"City Hotel\",\"No hotel found\",\"No hotel found\",\"Hotel Moravec\",\"Hotel hailibu 120\",\"\\u041a\\u0435\\u043c\\u044c\",\"Suwan Hotel & Resort\",\"Inn At Mama's Fish House\",\"Hotel et Cie\",\"Motu Martin\",\"No hotel found\",\"S\\u00f8mandshjemmet\",\"Hotel Santo Andr\\u00e9\",\"Seaview Hotel Zum Sperrgebiet\",\"Vihar\",\"No hotel found\",\"Beluga Lookout Hotel\",\"\\u041c\\u0443\\u0445\\u0430\\u0432\\u0435\\u0446\",\"No hotel found\",\"Wisma Sugri\",\"\\u30d3\\u30b8\\u30cd\\u30b9\\u30db\\u30c6\\u30eb\\u7fbd\\u97f3\\u78a7\\u3005\",\"\\u0411\\u0435\\u043a\\u043d\\u0443\\u0440\",\"Solar dos Ger\\u00e2nios\",\"\\u0646\\u0632\\u0644 \\u0637\\u0627\\u0631\\u0642 \\u0627\\u0628\\u0646 \\u0632\\u064a\\u0627\\u062f\",\"Ramada\",\"Pousada Villa Aurora\",\"\\u0411\\u0435\\u0439\\u0441\\u0435\\u043d\\u043e\\u0432\",\"Grand Hotel\",\"Agriturismo L'Adagio\",\"Am\\u00e9rian R\\u00edo Gallegos Apart & Suites\",\"The Esplanade Hotel\",\"\\ubca8\\ub9ac\\ub178\\ud638\\ud154\",\"Pacifik Appartels\",\"No hotel found\",\"H\\u00f4tel Zagado\",\"\\u0413\\u043e\\u0442\\u0435\\u043b\\u044c \\\"\\u0421\\u0445\\u0456\\u0434\\\"\",\"Pico do Refugio\",\"Pousada Vit\\u00f3ria\",\"Hotel Djang Djaya 2\",\"Hotel de Sal - Sol de Ma\\u00f1ana\",\"The Gateway Hotel\",\"No hotel found\",\"\\u0416\\u0430\\u0440\\u043a\\u0438\",\"Sabang Hill\",\"Hostal El Madero\",\"Quality Hotel Ulstein\",\"Scenic Hotel Dunedin City\",\"Nautilus Resort\",\"\\u838e\\u8eca\\u65b0\\u76db\\u8cd3\\u8218\",\"Toran Tourist Bungalow\",\"Milkwood Manor\",\"\\u0421\\u0442\\u0430\\u0442\\u0443\\u0441\",\"Montgomery Hotel\",\"No hotel found\",\"No hotel found\",\"\\u0416\\u0430\\u04a3\\u0430\\u049b\\u0430\\u043b\\u0430 \\u041b\\u041f\\u0423 \\u0436\\u0430\\u0442\\u0430\\u049b\\u0445\\u0430\\u043d\\u0430\\u0441\\u044b\",\"No hotel found\",\"Newala Guest House\",\"No hotel found\",\"Renz Hotel\",\"\\u77f3\\u6cb3\\u5b50\\u5bbe\\u9986\",\"Hearthstone Inn Boutique Hotel Dartmouth/Halifax\",\"No hotel found\",\"Quality Inn\",\"No hotel found\",\"Plaza sal paraiso\",\"Auberge Confiance\",\"No hotel found\",\"Le Concombre Masqu\\u00e9\",\"Autumn Hotel\",\"No hotel found\",\"PALM Hotel & Spa\",\"No hotel found\",\"No hotel found\",\"Chynar Hotel\",\"No hotel found\"],\"shape\":[547],\"dtype\":\"object\",\"order\":\"little\"}]]}}},\"view\":{\"type\":\"object\",\"name\":\"CDSView\",\"id\":\"p1195\",\"attributes\":{\"filter\":{\"type\":\"object\",\"name\":\"AllIndices\",\"id\":\"p1196\"}}},\"glyph\":{\"type\":\"object\",\"name\":\"Circle\",\"id\":\"p1191\",\"attributes\":{\"x\":{\"type\":\"field\",\"field\":\"Lng\"},\"y\":{\"type\":\"field\",\"field\":\"Lat\"},\"size\":{\"type\":\"value\",\"value\":10},\"line_color\":{\"type\":\"value\",\"value\":\"#1f77b4\"},\"fill_color\":{\"type\":\"value\",\"value\":\"blue\"}}},\"nonselection_glyph\":{\"type\":\"object\",\"name\":\"Circle\",\"id\":\"p1192\",\"attributes\":{\"x\":{\"type\":\"field\",\"field\":\"Lng\"},\"y\":{\"type\":\"field\",\"field\":\"Lat\"},\"size\":{\"type\":\"value\",\"value\":10},\"line_color\":{\"type\":\"value\",\"value\":\"#1f77b4\"},\"line_alpha\":{\"type\":\"value\",\"value\":0.1},\"fill_color\":{\"type\":\"value\",\"value\":\"blue\"},\"fill_alpha\":{\"type\":\"value\",\"value\":0.1},\"hatch_alpha\":{\"type\":\"value\",\"value\":0.1}}},\"muted_glyph\":{\"type\":\"object\",\"name\":\"Circle\",\"id\":\"p1193\",\"attributes\":{\"x\":{\"type\":\"field\",\"field\":\"Lng\"},\"y\":{\"type\":\"field\",\"field\":\"Lat\"},\"size\":{\"type\":\"value\",\"value\":10},\"line_color\":{\"type\":\"value\",\"value\":\"#1f77b4\"},\"line_alpha\":{\"type\":\"value\",\"value\":0.2},\"fill_color\":{\"type\":\"value\",\"value\":\"blue\"},\"fill_alpha\":{\"type\":\"value\",\"value\":0.2},\"hatch_alpha\":{\"type\":\"value\",\"value\":0.2}}}}}],\"toolbar\":{\"type\":\"object\",\"name\":\"Toolbar\",\"id\":\"p1164\",\"attributes\":{\"tools\":[{\"type\":\"object\",\"name\":\"PanTool\",\"id\":\"p1177\"},{\"type\":\"object\",\"name\":\"WheelZoomTool\",\"id\":\"p1178\",\"attributes\":{\"renderers\":\"auto\"}},{\"type\":\"object\",\"name\":\"BoxZoomTool\",\"id\":\"p1179\",\"attributes\":{\"overlay\":{\"type\":\"object\",\"name\":\"BoxAnnotation\",\"id\":\"p1180\",\"attributes\":{\"syncable\":false,\"level\":\"overlay\",\"visible\":false,\"left\":{\"type\":\"number\",\"value\":\"nan\"},\"right\":{\"type\":\"number\",\"value\":\"nan\"},\"top\":{\"type\":\"number\",\"value\":\"nan\"},\"bottom\":{\"type\":\"number\",\"value\":\"nan\"},\"left_units\":\"canvas\",\"right_units\":\"canvas\",\"top_units\":\"canvas\",\"bottom_units\":\"canvas\",\"line_color\":\"black\",\"line_alpha\":1.0,\"line_width\":2,\"line_dash\":[4,4],\"fill_color\":\"lightgrey\",\"fill_alpha\":0.5}}}},{\"type\":\"object\",\"name\":\"SaveTool\",\"id\":\"p1185\"},{\"type\":\"object\",\"name\":\"ResetTool\",\"id\":\"p1186\"},{\"type\":\"object\",\"name\":\"HelpTool\",\"id\":\"p1187\"},{\"type\":\"object\",\"name\":\"HoverTool\",\"id\":\"p1197\",\"attributes\":{\"renderers\":\"auto\",\"tooltips\":[[\"City\",\"@City\"],[\"Hotel Name\",\"@{Hotel Name}\"],[\"Country\",\"@Country\"]]}}]}},\"left\":[{\"type\":\"object\",\"name\":\"LinearAxis\",\"id\":\"p1172\",\"attributes\":{\"ticker\":{\"type\":\"object\",\"name\":\"BasicTicker\",\"id\":\"p1173\",\"attributes\":{\"mantissas\":[1,2,5]}},\"formatter\":{\"type\":\"object\",\"name\":\"BasicTickFormatter\",\"id\":\"p1174\"},\"axis_label\":\"Latitude\",\"major_label_policy\":{\"type\":\"object\",\"name\":\"AllLabels\",\"id\":\"p1175\"}}}],\"below\":[{\"type\":\"object\",\"name\":\"LinearAxis\",\"id\":\"p1167\",\"attributes\":{\"ticker\":{\"type\":\"object\",\"name\":\"BasicTicker\",\"id\":\"p1168\",\"attributes\":{\"mantissas\":[1,2,5]}},\"formatter\":{\"type\":\"object\",\"name\":\"BasicTickFormatter\",\"id\":\"p1169\"},\"axis_label\":\"Longitude\",\"major_label_policy\":{\"type\":\"object\",\"name\":\"AllLabels\",\"id\":\"p1170\"}}}],\"center\":[{\"type\":\"object\",\"name\":\"Grid\",\"id\":\"p1171\",\"attributes\":{\"axis\":{\"id\":\"p1167\"}}},{\"type\":\"object\",\"name\":\"Grid\",\"id\":\"p1176\",\"attributes\":{\"dimension\":1,\"axis\":{\"id\":\"p1172\"}}}]}}],\"defs\":[{\"type\":\"model\",\"name\":\"ReactiveHTML1\"},{\"type\":\"model\",\"name\":\"FlexBox1\",\"properties\":[{\"name\":\"align_content\",\"kind\":\"Any\",\"default\":\"flex-start\"},{\"name\":\"align_items\",\"kind\":\"Any\",\"default\":\"flex-start\"},{\"name\":\"flex_direction\",\"kind\":\"Any\",\"default\":\"row\"},{\"name\":\"flex_wrap\",\"kind\":\"Any\",\"default\":\"wrap\"},{\"name\":\"justify_content\",\"kind\":\"Any\",\"default\":\"flex-start\"}]},{\"type\":\"model\",\"name\":\"FloatPanel1\",\"properties\":[{\"name\":\"config\",\"kind\":\"Any\",\"default\":{\"type\":\"map\"}},{\"name\":\"contained\",\"kind\":\"Any\",\"default\":true},{\"name\":\"position\",\"kind\":\"Any\",\"default\":\"right-top\"},{\"name\":\"offsetx\",\"kind\":\"Any\",\"default\":null},{\"name\":\"offsety\",\"kind\":\"Any\",\"default\":null},{\"name\":\"theme\",\"kind\":\"Any\",\"default\":\"primary\"},{\"name\":\"status\",\"kind\":\"Any\",\"default\":\"normalized\"}]},{\"type\":\"model\",\"name\":\"GridStack1\",\"properties\":[{\"name\":\"mode\",\"kind\":\"Any\",\"default\":\"warn\"},{\"name\":\"ncols\",\"kind\":\"Any\",\"default\":null},{\"name\":\"nrows\",\"kind\":\"Any\",\"default\":null},{\"name\":\"allow_resize\",\"kind\":\"Any\",\"default\":true},{\"name\":\"allow_drag\",\"kind\":\"Any\",\"default\":true},{\"name\":\"state\",\"kind\":\"Any\",\"default\":[]}]},{\"type\":\"model\",\"name\":\"drag1\",\"properties\":[{\"name\":\"slider_width\",\"kind\":\"Any\",\"default\":5},{\"name\":\"slider_color\",\"kind\":\"Any\",\"default\":\"black\"},{\"name\":\"value\",\"kind\":\"Any\",\"default\":50}]},{\"type\":\"model\",\"name\":\"click1\",\"properties\":[{\"name\":\"terminal_output\",\"kind\":\"Any\",\"default\":\"\"},{\"name\":\"debug_name\",\"kind\":\"Any\",\"default\":\"\"},{\"name\":\"clears\",\"kind\":\"Any\",\"default\":0}]},{\"type\":\"model\",\"name\":\"copy_to_clipboard1\",\"properties\":[{\"name\":\"fill\",\"kind\":\"Any\",\"default\":\"none\"},{\"name\":\"value\",\"kind\":\"Any\",\"default\":null}]},{\"type\":\"model\",\"name\":\"FastWrapper1\",\"properties\":[{\"name\":\"object\",\"kind\":\"Any\",\"default\":null},{\"name\":\"style\",\"kind\":\"Any\",\"default\":null}]},{\"type\":\"model\",\"name\":\"NotificationAreaBase1\",\"properties\":[{\"name\":\"js_events\",\"kind\":\"Any\",\"default\":{\"type\":\"map\"}},{\"name\":\"position\",\"kind\":\"Any\",\"default\":\"bottom-right\"},{\"name\":\"_clear\",\"kind\":\"Any\",\"default\":0}]},{\"type\":\"model\",\"name\":\"NotificationArea1\",\"properties\":[{\"name\":\"js_events\",\"kind\":\"Any\",\"default\":{\"type\":\"map\"}},{\"name\":\"notifications\",\"kind\":\"Any\",\"default\":[]},{\"name\":\"position\",\"kind\":\"Any\",\"default\":\"bottom-right\"},{\"name\":\"_clear\",\"kind\":\"Any\",\"default\":0},{\"name\":\"types\",\"kind\":\"Any\",\"default\":[{\"type\":\"map\",\"entries\":[[\"type\",\"warning\"],[\"background\",\"#ffc107\"],[\"icon\",{\"type\":\"map\",\"entries\":[[\"className\",\"fas fa-exclamation-triangle\"],[\"tagName\",\"i\"],[\"color\",\"white\"]]}]]},{\"type\":\"map\",\"entries\":[[\"type\",\"info\"],[\"background\",\"#007bff\"],[\"icon\",{\"type\":\"map\",\"entries\":[[\"className\",\"fas fa-info-circle\"],[\"tagName\",\"i\"],[\"color\",\"white\"]]}]]}]}]},{\"type\":\"model\",\"name\":\"Notification\",\"properties\":[{\"name\":\"background\",\"kind\":\"Any\",\"default\":null},{\"name\":\"duration\",\"kind\":\"Any\",\"default\":3000},{\"name\":\"icon\",\"kind\":\"Any\",\"default\":null},{\"name\":\"message\",\"kind\":\"Any\",\"default\":\"\"},{\"name\":\"notification_type\",\"kind\":\"Any\",\"default\":null},{\"name\":\"_destroyed\",\"kind\":\"Any\",\"default\":false}]},{\"type\":\"model\",\"name\":\"TemplateActions1\",\"properties\":[{\"name\":\"open_modal\",\"kind\":\"Any\",\"default\":0},{\"name\":\"close_modal\",\"kind\":\"Any\",\"default\":0}]},{\"type\":\"model\",\"name\":\"BootstrapTemplateActions1\",\"properties\":[{\"name\":\"open_modal\",\"kind\":\"Any\",\"default\":0},{\"name\":\"close_modal\",\"kind\":\"Any\",\"default\":0}]},{\"type\":\"model\",\"name\":\"MaterialTemplateActions1\",\"properties\":[{\"name\":\"open_modal\",\"kind\":\"Any\",\"default\":0},{\"name\":\"close_modal\",\"kind\":\"Any\",\"default\":0}]}]}};\n  const render_items = [{\"docid\":\"7c5511cb-ab0c-4ac0-a50d-14a62003a9ae\",\"roots\":{\"p1155\":\"bdb93613-2e99-4697-87ad-40eba0020278\"},\"root_ids\":[\"p1155\"]}];\n  root.Bokeh.embed.embed_items_notebook(docs_json, render_items);\n  }\n  if (root.Bokeh !== undefined) {\n    embed_document(root);\n  } else {\n    let attempts = 0;\n    const timer = setInterval(function(root) {\n      if (root.Bokeh !== undefined) {\n        clearInterval(timer);\n        embed_document(root);\n      } else {\n        attempts++;\n        if (attempts > 100) {\n          clearInterval(timer);\n          console.log(\"Bokeh: ERROR: Unable to run BokehJS code because BokehJS library is missing\");\n        }\n      }\n    }, 10, root)\n  }\n})(window);",
      "application/vnd.bokehjs_exec.v0+json": ""
     },
     "metadata": {
      "application/vnd.bokehjs_exec.v0+json": {
       "id": "p1155"
      }
     },
     "output_type": "display_data"
    }
   ],
   "source": [
    "from bokeh.plotting import figure, show\n",
    "from bokeh.models import HoverTool, ColumnDataSource\n",
    "import pandas as pd\n",
    "\n",
    "\n",
    "\n",
    "# Create ColumnDataSource\n",
    "source = ColumnDataSource(hotel_df)\n",
    "\n",
    "# Create Bokeh plot\n",
    "p = figure(title=\"City Map\", x_axis_label=\"Longitude\", y_axis_label=\"Latitude\")\n",
    "\n",
    "# Add scatter points\n",
    "p.circle(x='Lng', y='Lat', size=10, fill_color='blue', source=source)\n",
    "\n",
    "# Add hover tool\n",
    "hover = HoverTool()\n",
    "hover.tooltips = [\n",
    "    (\"City\", \"@City\"),\n",
    "    (\"Hotel Name\", \"@{Hotel Name}\"),\n",
    "    (\"Country\", \"@Country\")\n",
    "]\n",
    "p.add_tools(hover)\n",
    "\n",
    "# Show plot\n",
    "show(p)\n"
   ]
  },
  {
   "cell_type": "code",
   "execution_count": 7,
   "metadata": {},
   "outputs": [
    {
     "data": {},
     "metadata": {},
     "output_type": "display_data"
    },
    {
     "data": {
      "application/vnd.holoviews_exec.v0+json": "",
      "text/html": [
       "<div id='1139'>\n",
       "  <div class=\"bk-root\" id=\"7b5a7bdc-70f8-4d0f-98b5-94088c2a4292\" data-root-id=\"1139\"></div>\n",
       "</div>\n",
       "<script type=\"application/javascript\">(function(root) {\n",
       "  function embed_document(root) {\n",
       "    var docs_json = {\"c8f53044-6bb6-451a-8ec5-6a7e93149cf2\":{\"defs\":[{\"extends\":null,\"module\":null,\"name\":\"ReactiveHTML1\",\"overrides\":[],\"properties\":[]},{\"extends\":null,\"module\":null,\"name\":\"FlexBox1\",\"overrides\":[],\"properties\":[{\"default\":\"flex-start\",\"kind\":null,\"name\":\"align_content\"},{\"default\":\"flex-start\",\"kind\":null,\"name\":\"align_items\"},{\"default\":\"row\",\"kind\":null,\"name\":\"flex_direction\"},{\"default\":\"wrap\",\"kind\":null,\"name\":\"flex_wrap\"},{\"default\":\"flex-start\",\"kind\":null,\"name\":\"justify_content\"}]},{\"extends\":null,\"module\":null,\"name\":\"GridStack1\",\"overrides\":[],\"properties\":[{\"default\":\"warn\",\"kind\":null,\"name\":\"mode\"},{\"default\":null,\"kind\":null,\"name\":\"ncols\"},{\"default\":null,\"kind\":null,\"name\":\"nrows\"},{\"default\":true,\"kind\":null,\"name\":\"allow_resize\"},{\"default\":true,\"kind\":null,\"name\":\"allow_drag\"},{\"default\":[],\"kind\":null,\"name\":\"state\"}]},{\"extends\":null,\"module\":null,\"name\":\"click1\",\"overrides\":[],\"properties\":[{\"default\":\"\",\"kind\":null,\"name\":\"terminal_output\"},{\"default\":\"\",\"kind\":null,\"name\":\"debug_name\"},{\"default\":0,\"kind\":null,\"name\":\"clears\"}]},{\"extends\":null,\"module\":null,\"name\":\"NotificationAreaBase1\",\"overrides\":[],\"properties\":[{\"default\":\"bottom-right\",\"kind\":null,\"name\":\"position\"},{\"default\":0,\"kind\":null,\"name\":\"_clear\"}]},{\"extends\":null,\"module\":null,\"name\":\"NotificationArea1\",\"overrides\":[],\"properties\":[{\"default\":[],\"kind\":null,\"name\":\"notifications\"},{\"default\":\"bottom-right\",\"kind\":null,\"name\":\"position\"},{\"default\":0,\"kind\":null,\"name\":\"_clear\"},{\"default\":[{\"background\":\"#ffc107\",\"icon\":{\"className\":\"fas fa-exclamation-triangle\",\"color\":\"white\",\"tagName\":\"i\"},\"type\":\"warning\"},{\"background\":\"#007bff\",\"icon\":{\"className\":\"fas fa-info-circle\",\"color\":\"white\",\"tagName\":\"i\"},\"type\":\"info\"}],\"kind\":null,\"name\":\"types\"}]},{\"extends\":null,\"module\":null,\"name\":\"Notification\",\"overrides\":[],\"properties\":[{\"default\":null,\"kind\":null,\"name\":\"background\"},{\"default\":3000,\"kind\":null,\"name\":\"duration\"},{\"default\":null,\"kind\":null,\"name\":\"icon\"},{\"default\":\"\",\"kind\":null,\"name\":\"message\"},{\"default\":null,\"kind\":null,\"name\":\"notification_type\"},{\"default\":false,\"kind\":null,\"name\":\"_destroyed\"}]},{\"extends\":null,\"module\":null,\"name\":\"TemplateActions1\",\"overrides\":[],\"properties\":[{\"default\":0,\"kind\":null,\"name\":\"open_modal\"},{\"default\":0,\"kind\":null,\"name\":\"close_modal\"}]},{\"extends\":null,\"module\":null,\"name\":\"MaterialTemplateActions1\",\"overrides\":[],\"properties\":[{\"default\":0,\"kind\":null,\"name\":\"open_modal\"},{\"default\":0,\"kind\":null,\"name\":\"close_modal\"}]}],\"roots\":{\"references\":[{\"attributes\":{\"dimension\":\"lat\"},\"id\":\"1186\",\"type\":\"MercatorTicker\"},{\"attributes\":{},\"id\":\"1159\",\"type\":\"LinearScale\"},{\"attributes\":{\"data\":{\"City\":[\"kapaa\",\"hilo\",\"banda\",\"makakilo city\",\"kahului\",\"gat\",\"laguna\",\"tikaitnagar\",\"san quintin\",\"santa rosalia\",\"narwar\",\"port hedland\",\"roebourne\",\"saint-francois\",\"capoterra\",\"stolac\",\"guerrero negro\"],\"Country\":[\"US\",\"US\",\"IN\",\"US\",\"US\",\"IL\",\"US\",\"IN\",\"MX\",\"MX\",\"IN\",\"AU\",\"AU\",\"FR\",\"IT\",\"BA\",\"MX\"],\"Hotel_Name\":[\"Pono Kai Resort\",\"Dolphin Bay Hotel\",\"#acnindiafy21\",\"Embassy Suites by Hilton Oahu Kapolei\",\"Maui Seaside Hotel\",\"No hotel found\",\"Holiday Inn Express & Suites\",\"No hotel found\",\"Jardines Hotel\",\"Hotel del Real\",\"No hotel found\",\"The Esplanade Hotel\",\"No hotel found\",\"Chez Lily\",\"Rosa Hotel\",\"Bregava\",\"Plaza sal paraiso\"],\"Humidity\":[84,83,52,81,60,100,79,59,74,56,55,73,65,57,71,68,68],\"Lat\":{\"__ndarray__\":\"3KYbJfY6Q0FhSt/CBhlBQaHNdnPcZEZBfDISjYWQQkGBO86NHydCQb49c55wUkxBP4+IuVeyUUEx0BImVchHQaFOkweBNEtBuNiVoOshSEFNdwQQCo1GQb1Ugi/doEHBUNKFDTUNQsGSVg5GIE5WQTmauSWzG1JBppZPzgZQVEEdIC/c9sNIQQ==\",\"dtype\":\"float64\",\"order\":\"little\",\"shape\":[17]},\"Lng\":{\"__ndarray__\":\"LFRC3+jpcMFo6zu9+XZwwTp/l8GIDmFBw1If7GTIcMEdPZcLe5xwwcrdWoV2hk1BjwXCcgTIacFYODltelJhQT+to958nmjBeJT6+C7XZ8HSQ6aKRYpgQR/EaBW4LGlBiS/zac7eaEHyNLCO7IgaQSpSPWqgei5BpfyDwauAPkFCQkjy0DdowQ==\",\"dtype\":\"float64\",\"order\":\"little\",\"shape\":[17]},\"color\":[\"kapaa\",\"hilo\",\"banda\",\"makakilo city\",\"kahului\",\"gat\",\"laguna\",\"tikaitnagar\",\"san quintin\",\"santa rosalia\",\"narwar\",\"port hedland\",\"roebourne\",\"saint-francois\",\"capoterra\",\"stolac\",\"guerrero negro\"],\"size\":{\"__ndarray__\":\"hR4VuY5UIkAonAXAijgiQPNZYUQr2BxAAAAAAAAAIkDaTk+x3vseQAAAAAAAACRAcLgta8HGIUDbnltFfrkeQE4BN/pjNCFAST9oEeruHUDY4arvL6odQKMUrqiHFiFA0LphP+AfIEBcz1bMBzMeQAb7lU0w2iBAB+2vZg9+IEAH7a9mD34gQA==\",\"dtype\":\"float64\",\"order\":\"little\",\"shape\":[17]}},\"selected\":{\"id\":\"1217\"},\"selection_policy\":{\"id\":\"1229\"}},\"id\":\"1216\",\"type\":\"ColumnDataSource\"},{\"attributes\":{\"bottom_units\":\"screen\",\"coordinates\":null,\"fill_alpha\":0.5,\"fill_color\":\"lightgrey\",\"group\":null,\"left_units\":\"screen\",\"level\":\"overlay\",\"line_alpha\":1.0,\"line_color\":\"black\",\"line_dash\":[4,4],\"line_width\":2,\"right_units\":\"screen\",\"syncable\":false,\"top_units\":\"screen\"},\"id\":\"1174\",\"type\":\"BoxAnnotation\"},{\"attributes\":{\"coordinates\":null,\"group\":null,\"level\":\"glyph\",\"tile_source\":{\"id\":\"1210\"}},\"id\":\"1213\",\"type\":\"TileRenderer\"},{\"attributes\":{\"source\":{\"id\":\"1216\"}},\"id\":\"1225\",\"type\":\"CDSView\"},{\"attributes\":{\"margin\":[5,5,5,5],\"name\":\"HSpacer01686\",\"sizing_mode\":\"stretch_width\"},\"id\":\"1140\",\"type\":\"Spacer\"},{\"attributes\":{\"attribution\":\"&copy; <a href=\\\"https://www.openstreetmap.org/copyright\\\">OpenStreetMap</a> contributors\",\"url\":\"https://c.tile.openstreetmap.org/{Z}/{X}/{Y}.png\"},\"id\":\"1210\",\"type\":\"WMTSTileSource\"},{\"attributes\":{\"coordinates\":null,\"data_source\":{\"id\":\"1216\"},\"glyph\":{\"id\":\"1219\"},\"group\":null,\"hover_glyph\":{\"id\":\"1222\"},\"muted_glyph\":{\"id\":\"1223\"},\"nonselection_glyph\":{\"id\":\"1220\"},\"selection_glyph\":{\"id\":\"1221\"},\"view\":{\"id\":\"1225\"}},\"id\":\"1224\",\"type\":\"GlyphRenderer\"},{\"attributes\":{\"axis\":{\"id\":\"1161\"},\"coordinates\":null,\"grid_line_color\":null,\"group\":null,\"ticker\":null},\"id\":\"1164\",\"type\":\"Grid\"},{\"attributes\":{\"click_policy\":\"mute\",\"coordinates\":null,\"group\":null,\"items\":[{\"id\":\"1233\"}],\"location\":[0,0]},\"id\":\"1232\",\"type\":\"Legend\"},{\"attributes\":{\"axis_label\":\"x\",\"coordinates\":null,\"formatter\":{\"id\":\"1185\"},\"group\":null,\"major_label_policy\":{\"id\":\"1190\"},\"ticker\":{\"id\":\"1184\"}},\"id\":\"1161\",\"type\":\"LinearAxis\"},{\"attributes\":{\"fill_alpha\":{\"value\":0.5},\"fill_color\":{\"field\":\"color\",\"transform\":{\"id\":\"1215\"}},\"hatch_alpha\":{\"value\":0.5},\"hatch_color\":{\"field\":\"color\",\"transform\":{\"id\":\"1215\"}},\"line_alpha\":{\"value\":0.5},\"line_color\":{\"field\":\"color\",\"transform\":{\"id\":\"1215\"}},\"size\":{\"field\":\"size\"},\"x\":{\"field\":\"Lng\"},\"y\":{\"field\":\"Lat\"}},\"id\":\"1222\",\"type\":\"Scatter\"},{\"attributes\":{\"zoom_on_axis\":false},\"id\":\"1171\",\"type\":\"WheelZoomTool\"},{\"attributes\":{},\"id\":\"1217\",\"type\":\"Selection\"},{\"attributes\":{},\"id\":\"1229\",\"type\":\"UnionRenderers\"},{\"attributes\":{},\"id\":\"1170\",\"type\":\"PanTool\"},{\"attributes\":{},\"id\":\"1157\",\"type\":\"LinearScale\"},{\"attributes\":{\"coordinates\":null,\"group\":null,\"text_color\":\"black\",\"text_font_size\":\"12pt\"},\"id\":\"1153\",\"type\":\"Title\"},{\"attributes\":{\"code\":\"\\n        var projections = Bokeh.require(\\\"core/util/projections\\\");\\n        var x = special_vars.data_x\\n        var y = special_vars.data_y\\n        if (projections.wgs84_mercator.invert == null) {\\n          var coords = projections.wgs84_mercator.inverse([x, y])\\n        } else {\\n          var coords = projections.wgs84_mercator.invert(x, y)\\n        }\\n        return \\\"\\\" + (coords[1]).toFixed(4)\\n    \"},\"id\":\"1235\",\"type\":\"CustomJSHover\"},{\"attributes\":{\"fill_alpha\":{\"value\":0.5},\"fill_color\":{\"field\":\"color\",\"transform\":{\"id\":\"1215\"}},\"hatch_alpha\":{\"value\":0.5},\"hatch_color\":{\"field\":\"color\",\"transform\":{\"id\":\"1215\"}},\"line_alpha\":{\"value\":0.5},\"line_color\":{\"field\":\"color\",\"transform\":{\"id\":\"1215\"}},\"size\":{\"field\":\"size\"},\"x\":{\"field\":\"Lng\"},\"y\":{\"field\":\"Lat\"}},\"id\":\"1219\",\"type\":\"Scatter\"},{\"attributes\":{\"children\":[{\"id\":\"1140\"},{\"id\":\"1152\"},{\"id\":\"1242\"}],\"margin\":[0,0,0,0],\"name\":\"Row01682\",\"tags\":[\"embedded\"]},\"id\":\"1139\",\"type\":\"Row\"},{\"attributes\":{\"callback\":null,\"formatters\":{\"$x\":{\"id\":\"1234\"},\"$y\":{\"id\":\"1235\"}},\"renderers\":[{\"id\":\"1224\"}],\"tags\":[\"hv_created\"],\"tooltips\":[[\"Lng\",\"$x{custom}\"],[\"Lat\",\"$y{custom}\"],[\"City\",\"@{City}\"],[\"Humidity\",\"@{Humidity}\"],[\"Hotel Name\",\"@{Hotel_Name}\"],[\"Country\",\"@{Country}\"]]},\"id\":\"1149\",\"type\":\"HoverTool\"},{\"attributes\":{},\"id\":\"1173\",\"type\":\"ResetTool\"},{\"attributes\":{\"fill_alpha\":{\"value\":0.2},\"fill_color\":{\"field\":\"color\",\"transform\":{\"id\":\"1215\"}},\"hatch_alpha\":{\"value\":0.2},\"hatch_color\":{\"field\":\"color\",\"transform\":{\"id\":\"1215\"}},\"line_alpha\":{\"value\":0.2},\"line_color\":{\"field\":\"color\",\"transform\":{\"id\":\"1215\"}},\"size\":{\"field\":\"size\"},\"x\":{\"field\":\"Lng\"},\"y\":{\"field\":\"Lat\"}},\"id\":\"1223\",\"type\":\"Scatter\"},{\"attributes\":{\"end\":14366716.452919383,\"min_interval\":5,\"reset_end\":14366716.452919383,\"reset_start\":-10885605.506340533,\"start\":-10885605.506340533,\"tags\":[[[\"Lat\",\"Lat\",null]]]},\"id\":\"1146\",\"type\":\"Range1d\"},{\"attributes\":{},\"id\":\"1197\",\"type\":\"AllLabels\"},{\"attributes\":{\"axis_label\":\"y\",\"coordinates\":null,\"formatter\":{\"id\":\"1187\"},\"group\":null,\"major_label_policy\":{\"id\":\"1197\"},\"ticker\":{\"id\":\"1186\"}},\"id\":\"1165\",\"type\":\"LinearAxis\"},{\"attributes\":{\"end\":15408362.72915458,\"min_interval\":5,\"reset_end\":15408362.72915458,\"reset_start\":-19944888.0138093,\"start\":-19944888.0138093,\"tags\":[[[\"Lng\",\"Lng\",null]]]},\"id\":\"1145\",\"type\":\"Range1d\"},{\"attributes\":{\"below\":[{\"id\":\"1161\"}],\"center\":[{\"id\":\"1164\"},{\"id\":\"1168\"}],\"frame_height\":500,\"frame_width\":700,\"height\":null,\"left\":[{\"id\":\"1165\"}],\"margin\":[5,5,5,5],\"match_aspect\":true,\"min_border_bottom\":10,\"min_border_left\":10,\"min_border_right\":10,\"min_border_top\":10,\"renderers\":[{\"id\":\"1213\"},{\"id\":\"1224\"}],\"right\":[{\"id\":\"1232\"}],\"sizing_mode\":\"fixed\",\"title\":{\"id\":\"1153\"},\"toolbar\":{\"id\":\"1175\"},\"width\":null,\"x_range\":{\"id\":\"1145\"},\"x_scale\":{\"id\":\"1157\"},\"y_range\":{\"id\":\"1146\"},\"y_scale\":{\"id\":\"1159\"}},\"id\":\"1152\",\"subtype\":\"Figure\",\"type\":\"Plot\"},{\"attributes\":{\"axis\":{\"id\":\"1165\"},\"coordinates\":null,\"dimension\":1,\"grid_line_color\":null,\"group\":null,\"ticker\":null},\"id\":\"1168\",\"type\":\"Grid\"},{\"attributes\":{\"label\":{\"field\":\"color\"},\"renderers\":[{\"id\":\"1224\"}]},\"id\":\"1233\",\"type\":\"LegendItem\"},{\"attributes\":{},\"id\":\"1190\",\"type\":\"AllLabels\"},{\"attributes\":{\"fill_alpha\":{\"value\":0.5},\"fill_color\":{\"field\":\"color\",\"transform\":{\"id\":\"1215\"}},\"hatch_alpha\":{\"value\":0.1},\"hatch_color\":{\"field\":\"color\",\"transform\":{\"id\":\"1215\"}},\"line_alpha\":{\"value\":0.5},\"line_color\":{\"field\":\"color\",\"transform\":{\"id\":\"1215\"}},\"size\":{\"field\":\"size\"},\"x\":{\"field\":\"Lng\"},\"y\":{\"field\":\"Lat\"}},\"id\":\"1220\",\"type\":\"Scatter\"},{\"attributes\":{\"dimension\":\"lon\"},\"id\":\"1185\",\"type\":\"MercatorTickFormatter\"},{\"attributes\":{\"tools\":[{\"id\":\"1149\"},{\"id\":\"1169\"},{\"id\":\"1170\"},{\"id\":\"1171\"},{\"id\":\"1172\"},{\"id\":\"1173\"}]},\"id\":\"1175\",\"type\":\"Toolbar\"},{\"attributes\":{\"dimension\":\"lat\"},\"id\":\"1187\",\"type\":\"MercatorTickFormatter\"},{\"attributes\":{},\"id\":\"1169\",\"type\":\"SaveTool\"},{\"attributes\":{\"factors\":[\"kapaa\",\"hilo\",\"banda\",\"makakilo city\",\"kahului\",\"gat\",\"laguna\",\"tikaitnagar\",\"san quintin\",\"santa rosalia\",\"narwar\",\"port hedland\",\"roebourne\",\"saint-francois\",\"capoterra\",\"stolac\",\"guerrero negro\"],\"palette\":[\"#1f77b3\",\"#ff7e0e\",\"#2ba02b\",\"#d62628\",\"#9367bc\",\"#8c564b\",\"#e277c1\",\"#7e7e7e\",\"#bcbc21\",\"#16bdcf\",\"#3a0182\",\"#004201\",\"#0fffa8\",\"#5d003f\",\"#bcbcff\",\"#d8afa1\",\"#b80080\"]},\"id\":\"1215\",\"type\":\"CategoricalColorMapper\"},{\"attributes\":{\"code\":\"\\n        var projections = Bokeh.require(\\\"core/util/projections\\\");\\n        var x = special_vars.data_x\\n        var y = special_vars.data_y\\n        if (projections.wgs84_mercator.invert == null) {\\n          var coords = projections.wgs84_mercator.inverse([x, y])\\n        } else {\\n          var coords = projections.wgs84_mercator.invert(x, y)\\n        }\\n        return \\\"\\\" + (coords[0]).toFixed(4)\\n    \"},\"id\":\"1234\",\"type\":\"CustomJSHover\"},{\"attributes\":{\"match_aspect\":true,\"overlay\":{\"id\":\"1174\"}},\"id\":\"1172\",\"type\":\"BoxZoomTool\"},{\"attributes\":{\"margin\":[5,5,5,5],\"name\":\"HSpacer01687\",\"sizing_mode\":\"stretch_width\"},\"id\":\"1242\",\"type\":\"Spacer\"},{\"attributes\":{\"fill_alpha\":{\"value\":0.5},\"fill_color\":{\"field\":\"color\",\"transform\":{\"id\":\"1215\"}},\"hatch_alpha\":{\"value\":0.5},\"hatch_color\":{\"field\":\"color\",\"transform\":{\"id\":\"1215\"}},\"line_alpha\":{\"value\":0.5},\"line_color\":{\"field\":\"color\",\"transform\":{\"id\":\"1215\"}},\"size\":{\"field\":\"size\"},\"x\":{\"field\":\"Lng\"},\"y\":{\"field\":\"Lat\"}},\"id\":\"1221\",\"type\":\"Scatter\"},{\"attributes\":{\"dimension\":\"lon\"},\"id\":\"1184\",\"type\":\"MercatorTicker\"}],\"root_ids\":[\"1139\"]},\"title\":\"Bokeh Application\",\"version\":\"2.4.3\"}};\n",
       "    var render_items = [{\"docid\":\"c8f53044-6bb6-451a-8ec5-6a7e93149cf2\",\"root_ids\":[\"1139\"],\"roots\":{\"1139\":\"7b5a7bdc-70f8-4d0f-98b5-94088c2a4292\"}}];\n",
       "    root.Bokeh.embed.embed_items_notebook(docs_json, render_items);\n",
       "    for (const render_item of render_items) {\n",
       "      for (const root_id of render_item.root_ids) {\n",
       "\tconst id_el = document.getElementById(root_id)\n",
       "\tif (id_el.children.length && (id_el.children[0].className === 'bk-root')) {\n",
       "\t  const root_el = id_el.children[0]\n",
       "\t  root_el.id = root_el.id + '-rendered'\n",
       "\t}\n",
       "      }\n",
       "    }\n",
       "  }\n",
       "  if (root.Bokeh !== undefined && root.Bokeh.Panel !== undefined) {\n",
       "    embed_document(root);\n",
       "  } else {\n",
       "    var attempts = 0;\n",
       "    var timer = setInterval(function(root) {\n",
       "      if (root.Bokeh !== undefined && root.Bokeh.Panel !== undefined) {\n",
       "        clearInterval(timer);\n",
       "        embed_document(root);\n",
       "      } else if (document.readyState == \"complete\") {\n",
       "        attempts++;\n",
       "        if (attempts > 200) {\n",
       "          clearInterval(timer);\n",
       "          console.log(\"Bokeh: ERROR: Unable to run BokehJS code because BokehJS library is missing\");\n",
       "        }\n",
       "      }\n",
       "    }, 25, root)\n",
       "  }\n",
       "})(window);</script>"
      ],
      "text/plain": [
       ":Overlay\n",
       "   .Tiles.I  :Tiles   [x,y]\n",
       "   .Points.I :Points   [Lng,Lat]   (City,Humidity,Hotel Name,Country)"
      ]
     },
     "execution_count": 7,
     "metadata": {
      "application/vnd.holoviews_exec.v0+json": {
       "id": "1139"
      }
     },
     "output_type": "execute_result"
    }
   ],
   "source": [
    "%%capture --no-display\n",
    "\n",
    "# Configure the map plot\n",
    "# YOUR CODE HERE\n",
    "\n",
    "# Display the map\n",
    "# YOUR CODE HERE"
   ]
  },
  {
   "cell_type": "code",
   "execution_count": null,
   "metadata": {},
   "outputs": [],
   "source": []
  }
 ],
 "metadata": {
  "kernelspec": {
   "display_name": "Python 3 (ipykernel)",
   "language": "python",
   "name": "python3"
  },
  "language_info": {
   "codemirror_mode": {
    "name": "ipython",
    "version": 3
   },
   "file_extension": ".py",
   "mimetype": "text/x-python",
   "name": "python",
   "nbconvert_exporter": "python",
   "pygments_lexer": "ipython3",
   "version": "3.12.1"
  },
  "latex_envs": {
   "LaTeX_envs_menu_present": true,
   "autoclose": false,
   "autocomplete": true,
   "bibliofile": "biblio.bib",
   "cite_by": "apalike",
   "current_citInitial": 1,
   "eqLabelWithNumbers": true,
   "eqNumInitial": 1,
   "hotkeys": {
    "equation": "Ctrl-E",
    "itemize": "Ctrl-I"
   },
   "labels_anchors": false,
   "latex_user_defs": false,
   "report_style_numbering": false,
   "user_envs_cfg": false
  }
 },
 "nbformat": 4,
 "nbformat_minor": 4
}
